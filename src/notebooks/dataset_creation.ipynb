{
 "cells": [
  {
   "cell_type": "markdown",
   "id": "66bb734d",
   "metadata": {},
   "source": [
    "# **Dataset Creation**"
   ]
  },
  {
   "cell_type": "markdown",
   "id": "23068ef1",
   "metadata": {},
   "source": [
    "#### **Description**"
   ]
  },
  {
   "cell_type": "markdown",
   "id": "cdd170f6",
   "metadata": {},
   "source": [
    "#### **Imports**"
   ]
  },
  {
   "cell_type": "code",
   "execution_count": 1,
   "id": "a18f7690",
   "metadata": {},
   "outputs": [],
   "source": [
    "import pandas as pd"
   ]
  },
  {
   "cell_type": "markdown",
   "id": "573a7e01",
   "metadata": {},
   "source": [
    "## **Primary data**"
   ]
  },
  {
   "cell_type": "code",
   "execution_count": 2,
   "id": "36b9d604",
   "metadata": {},
   "outputs": [],
   "source": [
    "dataset_nn = pd.read_csv(\"../../data/2025-09_cdrna_sequences.tsv.gz\", sep=\"\\t\")"
   ]
  },
  {
   "cell_type": "markdown",
   "id": "6ec9d6b7",
   "metadata": {},
   "source": [
    "## **Data cleaning**"
   ]
  },
  {
   "cell_type": "code",
   "execution_count": 3,
   "id": "9cd2751a",
   "metadata": {},
   "outputs": [
    {
     "name": "stdout",
     "output_type": "stream",
     "text": [
      "<class 'pandas.core.frame.DataFrame'>\n",
      "RangeIndex: 4177 entries, 0 to 4176\n",
      "Data columns (total 3 columns):\n",
      " #   Column          Non-Null Count  Dtype \n",
      "---  ------          --------------  ----- \n",
      " 0   cluster_id      4177 non-null   int64 \n",
      " 1   seqres_can      4177 non-null   object\n",
      " 2   rna_type_cdrna  4177 non-null   object\n",
      "dtypes: int64(1), object(2)\n",
      "memory usage: 98.0+ KB\n"
     ]
    }
   ],
   "source": [
    "dataset_nn.info()"
   ]
  },
  {
   "cell_type": "code",
   "execution_count": 4,
   "id": "00596475",
   "metadata": {},
   "outputs": [
    {
     "data": {
      "text/html": [
       "<div>\n",
       "<style scoped>\n",
       "    .dataframe tbody tr th:only-of-type {\n",
       "        vertical-align: middle;\n",
       "    }\n",
       "\n",
       "    .dataframe tbody tr th {\n",
       "        vertical-align: top;\n",
       "    }\n",
       "\n",
       "    .dataframe thead th {\n",
       "        text-align: right;\n",
       "    }\n",
       "</style>\n",
       "<table border=\"1\" class=\"dataframe\">\n",
       "  <thead>\n",
       "    <tr style=\"text-align: right;\">\n",
       "      <th></th>\n",
       "      <th>cluster_id</th>\n",
       "      <th>seqres_can</th>\n",
       "      <th>rna_type_cdrna</th>\n",
       "    </tr>\n",
       "  </thead>\n",
       "  <tbody>\n",
       "    <tr>\n",
       "      <th>0</th>\n",
       "      <td>0</td>\n",
       "      <td>UUUGUUGGAGAGUUUGAUCCUGGCUCAGGGUGAACGCUGGCGGCGU...</td>\n",
       "      <td>rRNA</td>\n",
       "    </tr>\n",
       "    <tr>\n",
       "      <th>1</th>\n",
       "      <td>0</td>\n",
       "      <td>UGUUGGAGAGUUUGAUCCUGGCUCAGGGUGAACGCUGGCGGCGUGC...</td>\n",
       "      <td>rRNA</td>\n",
       "    </tr>\n",
       "    <tr>\n",
       "      <th>2</th>\n",
       "      <td>0</td>\n",
       "      <td>UUGUUGGAGAGUUUGAUCCUGGCUCAGGGUGAACGCUGGCGGCGUG...</td>\n",
       "      <td>rRNA</td>\n",
       "    </tr>\n",
       "    <tr>\n",
       "      <th>3</th>\n",
       "      <td>0</td>\n",
       "      <td>UUGUUGGAGAGUUUGAUCCUGGCUCAGGGUGAACGCUGGCGGCGUG...</td>\n",
       "      <td>rRNA</td>\n",
       "    </tr>\n",
       "    <tr>\n",
       "      <th>4</th>\n",
       "      <td>0</td>\n",
       "      <td>UUGUUGGAGAGUUUGAUCCUGGCUCAGGGUGAACGCUGGCGGCGUG...</td>\n",
       "      <td>rRNA</td>\n",
       "    </tr>\n",
       "  </tbody>\n",
       "</table>\n",
       "</div>"
      ],
      "text/plain": [
       "   cluster_id                                         seqres_can  \\\n",
       "0           0  UUUGUUGGAGAGUUUGAUCCUGGCUCAGGGUGAACGCUGGCGGCGU...   \n",
       "1           0  UGUUGGAGAGUUUGAUCCUGGCUCAGGGUGAACGCUGGCGGCGUGC...   \n",
       "2           0  UUGUUGGAGAGUUUGAUCCUGGCUCAGGGUGAACGCUGGCGGCGUG...   \n",
       "3           0  UUGUUGGAGAGUUUGAUCCUGGCUCAGGGUGAACGCUGGCGGCGUG...   \n",
       "4           0  UUGUUGGAGAGUUUGAUCCUGGCUCAGGGUGAACGCUGGCGGCGUG...   \n",
       "\n",
       "  rna_type_cdrna  \n",
       "0           rRNA  \n",
       "1           rRNA  \n",
       "2           rRNA  \n",
       "3           rRNA  \n",
       "4           rRNA  "
      ]
     },
     "execution_count": 4,
     "metadata": {},
     "output_type": "execute_result"
    }
   ],
   "source": [
    "dataset_nn.head()"
   ]
  },
  {
   "cell_type": "code",
   "execution_count": 5,
   "id": "58ad6e2c",
   "metadata": {},
   "outputs": [],
   "source": [
    "dataset_nn['seqres_length'] = dataset_nn.seqres_can.str.len()"
   ]
  },
  {
   "cell_type": "code",
   "execution_count": 6,
   "id": "76dbe356",
   "metadata": {},
   "outputs": [
    {
     "data": {
      "text/plain": [
       "{'A', 'C', 'F', 'G', 'I', 'M', 'N', 'T', 'U', 'W', 'X'}"
      ]
     },
     "execution_count": 6,
     "metadata": {},
     "output_type": "execute_result"
    }
   ],
   "source": [
    "set().union(*dataset_nn.seqres_can.map(set))"
   ]
  },
  {
   "cell_type": "markdown",
   "id": "5e537ea0",
   "metadata": {},
   "source": [
    "### **Removing length outliers**\n",
    "It is known that eukaryotic **28S rRNA** has a length of around 5000 nt, so a maximum length of 6000 nt is set."
   ]
  },
  {
   "cell_type": "code",
   "execution_count": 7,
   "id": "4f411bf5",
   "metadata": {},
   "outputs": [
    {
     "data": {
      "text/plain": [
       "seqres_can\n",
       "19000      1\n",
       "16770      2\n",
       "8129       2\n",
       "5227       2\n",
       "5070       9\n",
       "        ... \n",
       "14        84\n",
       "13        89\n",
       "12       148\n",
       "11       238\n",
       "10       442\n",
       "Name: count, Length: 569, dtype: int64"
      ]
     },
     "execution_count": 7,
     "metadata": {},
     "output_type": "execute_result"
    }
   ],
   "source": [
    "dataset_nn.seqres_can.map(len).value_counts().sort_index(ascending=False)"
   ]
  },
  {
   "cell_type": "code",
   "execution_count": 8,
   "id": "21cadc7f",
   "metadata": {},
   "outputs": [],
   "source": [
    "mask_max_length = dataset_nn.seqres_length <= 6000"
   ]
  },
  {
   "cell_type": "markdown",
   "id": "3b7b7340",
   "metadata": {},
   "source": [
    "### **Retaining tRNA**\n",
    "They usually have modified residues and aminoacylated ends."
   ]
  },
  {
   "cell_type": "code",
   "execution_count": 9,
   "id": "13290ba0",
   "metadata": {},
   "outputs": [],
   "source": [
    "mask_w_trna = dataset_nn.rna_type_cdrna.str.contains(\"tRNA\")"
   ]
  },
  {
   "cell_type": "code",
   "execution_count": 10,
   "id": "22eaefa9",
   "metadata": {},
   "outputs": [
    {
     "data": {
      "text/plain": [
       "{'A', 'C', 'F', 'G', 'I', 'M', 'N', 'U', 'W', 'X'}"
      ]
     },
     "execution_count": 10,
     "metadata": {},
     "output_type": "execute_result"
    }
   ],
   "source": [
    "set().union(*dataset_nn.loc[(mask_w_trna)].seqres_can.map(set))"
   ]
  },
  {
   "cell_type": "markdown",
   "id": "724765cd",
   "metadata": {},
   "source": [
    "### **Removing sequences with 'T'**"
   ]
  },
  {
   "cell_type": "code",
   "execution_count": 11,
   "id": "eba61173",
   "metadata": {},
   "outputs": [],
   "source": [
    "mask_wo_t = ~dataset_nn.seqres_can.str.contains(\"T\")"
   ]
  },
  {
   "cell_type": "markdown",
   "id": "fd5d1946",
   "metadata": {},
   "source": [
    "### **Removing sequences with non-standard nucleotides**"
   ]
  },
  {
   "cell_type": "code",
   "execution_count": 12,
   "id": "ce320096",
   "metadata": {},
   "outputs": [],
   "source": [
    "def contains_nonstandard(nucleotides: set) -> bool:\n",
    "    \"\"\"\n",
    "    Check if a set of characters contains non-standard nucleotides.\n",
    "    \n",
    "    Parameters:\n",
    "                * set_of_nts: a set of nucleotides.\n",
    "\n",
    "    Return: True if the set contains non-standard nucleotides, False otherwise.\n",
    "    \"\"\"\n",
    "    standards = set(['A', 'C', 'G', 'U'])\n",
    "    return len(nucleotides.difference(standards)) != 0"
   ]
  },
  {
   "cell_type": "code",
   "execution_count": 13,
   "id": "24b2e5c4",
   "metadata": {},
   "outputs": [],
   "source": [
    "# Standard nucleotides\n",
    "standards = set(['A', 'C', 'G', 'U'])"
   ]
  },
  {
   "cell_type": "code",
   "execution_count": 14,
   "id": "315f8911",
   "metadata": {},
   "outputs": [],
   "source": [
    "# No existe 'reduce' para pd.Series\n",
    "nucleotides = set().union(*dataset_nn.seqres_can.map(set))"
   ]
  },
  {
   "cell_type": "code",
   "execution_count": 15,
   "id": "a6c176ea",
   "metadata": {},
   "outputs": [
    {
     "data": {
      "text/plain": [
       "{'F', 'I', 'M', 'N', 'T', 'W', 'X'}"
      ]
     },
     "execution_count": 15,
     "metadata": {},
     "output_type": "execute_result"
    }
   ],
   "source": [
    "nucleotides.difference(standards)"
   ]
  },
  {
   "cell_type": "code",
   "execution_count": 16,
   "id": "5776978b",
   "metadata": {},
   "outputs": [
    {
     "name": "stdout",
     "output_type": "stream",
     "text": [
      "M (1, 4)\n",
      "F (3, 4)\n",
      "T (6, 4)\n",
      "W (3, 4)\n",
      "C (3845, 4)\n",
      "A (3934, 4)\n",
      "I (22, 4)\n",
      "G (3891, 4)\n",
      "X (257, 4)\n",
      "N (109, 4)\n",
      "U (3902, 4)\n"
     ]
    }
   ],
   "source": [
    "for nt in nucleotides:\n",
    "    print(nt, dataset_nn.loc[dataset_nn.seqres_can.str.contains(nt)].shape)"
   ]
  },
  {
   "cell_type": "code",
   "execution_count": 17,
   "id": "739eb27d",
   "metadata": {},
   "outputs": [],
   "source": [
    "mask_wo_nonstd = ~dataset_nn.seqres_can.map(set).apply(lambda x: contains_nonstandard(nucleotides=x))"
   ]
  },
  {
   "cell_type": "code",
   "execution_count": 18,
   "id": "16d4d740",
   "metadata": {},
   "outputs": [
    {
     "data": {
      "text/plain": [
       "seqres_can\n",
       "True     3817\n",
       "False     360\n",
       "Name: count, dtype: int64"
      ]
     },
     "execution_count": 18,
     "metadata": {},
     "output_type": "execute_result"
    }
   ],
   "source": [
    "mask_wo_nonstd.value_counts()"
   ]
  },
  {
   "cell_type": "code",
   "execution_count": 19,
   "id": "4f871aca",
   "metadata": {},
   "outputs": [
    {
     "data": {
      "text/plain": [
       "rna_type_cdrna\n",
       "transcript        2086\n",
       "rRNA               693\n",
       "tRNA               325\n",
       "mRNA               287\n",
       "riboswitch         128\n",
       "enzymatic           97\n",
       "snRNA               44\n",
       "ncRNA               43\n",
       "intron              24\n",
       "SRP_RNA             21\n",
       "other               18\n",
       "mixed               15\n",
       "piRNA               11\n",
       "miRNA               10\n",
       "snoRNA               8\n",
       "tmRNA                3\n",
       "telomerase_RNA       2\n",
       "Y_RNA                1\n",
       "antisense_RNA        1\n",
       "Name: count, dtype: int64"
      ]
     },
     "execution_count": 19,
     "metadata": {},
     "output_type": "execute_result"
    }
   ],
   "source": [
    "dataset_nn.loc[mask_wo_nonstd].rna_type_cdrna.value_counts()"
   ]
  },
  {
   "cell_type": "markdown",
   "id": "b1766cd9",
   "metadata": {},
   "source": [
    "### **Removing mono-poly-nucleotide sequences**\n",
    "Most of them are synthetic constructs for modeling, mRNA fragments, regions or RNA motifs."
   ]
  },
  {
   "cell_type": "code",
   "execution_count": 20,
   "id": "19621334",
   "metadata": {},
   "outputs": [],
   "source": [
    "mask_wo_mono_poly = ~dataset_nn.seqres_can.map(set).apply(lambda x: len(x) == 1)"
   ]
  },
  {
   "cell_type": "markdown",
   "id": "18de848d",
   "metadata": {},
   "source": [
    "### **Removing sequences with low confidence (more than 10% ambiguous residues, 'N' or 'X')**"
   ]
  },
  {
   "cell_type": "code",
   "execution_count": 21,
   "id": "a8672569",
   "metadata": {},
   "outputs": [],
   "source": [
    "def lt_perc_of_nt(series: pd.Series, nts: set, perc: float) -> bool:\n",
    "    return series.isin(nts).sum() < perc * series.shape[0]\n",
    "\n",
    "def gt_perc_of_nt(series: pd.Series, nts: set, perc: float) -> bool:\n",
    "    return series.isin(nts).sum() > perc * series.shape[0]"
   ]
  },
  {
   "cell_type": "code",
   "execution_count": 22,
   "id": "8c1f5019",
   "metadata": {},
   "outputs": [],
   "source": [
    "mask_wo_low_conf = ~dataset_nn.seqres_can.apply(lambda x: gt_perc_of_nt(pd.Series(list(x)), {\"X\", \"N\"}, 0.1))"
   ]
  },
  {
   "cell_type": "code",
   "execution_count": 23,
   "id": "eca4bd83",
   "metadata": {},
   "outputs": [
    {
     "data": {
      "text/html": [
       "<div>\n",
       "<style scoped>\n",
       "    .dataframe tbody tr th:only-of-type {\n",
       "        vertical-align: middle;\n",
       "    }\n",
       "\n",
       "    .dataframe tbody tr th {\n",
       "        vertical-align: top;\n",
       "    }\n",
       "\n",
       "    .dataframe thead th {\n",
       "        text-align: right;\n",
       "    }\n",
       "</style>\n",
       "<table border=\"1\" class=\"dataframe\">\n",
       "  <thead>\n",
       "    <tr style=\"text-align: right;\">\n",
       "      <th></th>\n",
       "      <th>cluster_id</th>\n",
       "      <th>seqres_can</th>\n",
       "      <th>rna_type_cdrna</th>\n",
       "      <th>seqres_length</th>\n",
       "    </tr>\n",
       "  </thead>\n",
       "  <tbody>\n",
       "    <tr>\n",
       "      <th>97</th>\n",
       "      <td>31</td>\n",
       "      <td>NNNGACUUAAGUCGG</td>\n",
       "      <td>transcript</td>\n",
       "      <td>15</td>\n",
       "    </tr>\n",
       "    <tr>\n",
       "      <th>98</th>\n",
       "      <td>31</td>\n",
       "      <td>UNNGACUUAAGUCGG</td>\n",
       "      <td>transcript</td>\n",
       "      <td>15</td>\n",
       "    </tr>\n",
       "    <tr>\n",
       "      <th>276</th>\n",
       "      <td>155</td>\n",
       "      <td>NNAGACUUAAGUCU</td>\n",
       "      <td>transcript</td>\n",
       "      <td>14</td>\n",
       "    </tr>\n",
       "    <tr>\n",
       "      <th>1333</th>\n",
       "      <td>1153</td>\n",
       "      <td>NNNGACUUAAGUC</td>\n",
       "      <td>transcript</td>\n",
       "      <td>13</td>\n",
       "    </tr>\n",
       "    <tr>\n",
       "      <th>1582</th>\n",
       "      <td>1406</td>\n",
       "      <td>GUAAGAGCCUAGCAUGUAGAANNNNNNNNNNNNNNNNNNNNNNNNN...</td>\n",
       "      <td>intron</td>\n",
       "      <td>113</td>\n",
       "    </tr>\n",
       "    <tr>\n",
       "      <th>1957</th>\n",
       "      <td>1799</td>\n",
       "      <td>AUCUAUAAUAGCCUCXUCX</td>\n",
       "      <td>mRNA</td>\n",
       "      <td>19</td>\n",
       "    </tr>\n",
       "    <tr>\n",
       "      <th>1987</th>\n",
       "      <td>1829</td>\n",
       "      <td>GGAGGUNNNNNNAUG</td>\n",
       "      <td>mRNA</td>\n",
       "      <td>15</td>\n",
       "    </tr>\n",
       "    <tr>\n",
       "      <th>2458</th>\n",
       "      <td>2311</td>\n",
       "      <td>GGAXXXGAGUCC</td>\n",
       "      <td>transcript</td>\n",
       "      <td>12</td>\n",
       "    </tr>\n",
       "    <tr>\n",
       "      <th>2462</th>\n",
       "      <td>2315</td>\n",
       "      <td>GGAXXXGAGUCC</td>\n",
       "      <td>transcript</td>\n",
       "      <td>12</td>\n",
       "    </tr>\n",
       "    <tr>\n",
       "      <th>2479</th>\n",
       "      <td>2332</td>\n",
       "      <td>XXXXXXUXXUUX</td>\n",
       "      <td>transcript</td>\n",
       "      <td>12</td>\n",
       "    </tr>\n",
       "    <tr>\n",
       "      <th>2481</th>\n",
       "      <td>2334</td>\n",
       "      <td>CGCGAAUUXXCG</td>\n",
       "      <td>transcript</td>\n",
       "      <td>12</td>\n",
       "    </tr>\n",
       "    <tr>\n",
       "      <th>2619</th>\n",
       "      <td>2476</td>\n",
       "      <td>XGXGAATTXGXG</td>\n",
       "      <td>transcript</td>\n",
       "      <td>12</td>\n",
       "    </tr>\n",
       "    <tr>\n",
       "      <th>2620</th>\n",
       "      <td>2477</td>\n",
       "      <td>XGXGAATTXGXG</td>\n",
       "      <td>transcript</td>\n",
       "      <td>12</td>\n",
       "    </tr>\n",
       "    <tr>\n",
       "      <th>2621</th>\n",
       "      <td>2478</td>\n",
       "      <td>GGACXXXXGUCC</td>\n",
       "      <td>transcript</td>\n",
       "      <td>12</td>\n",
       "    </tr>\n",
       "    <tr>\n",
       "      <th>2975</th>\n",
       "      <td>2841</td>\n",
       "      <td>AAAAUAAAAAAAAAAAAAUUUGUAAGGUAUGUAUUAUUUUUUNNNN...</td>\n",
       "      <td>mRNA</td>\n",
       "      <td>162</td>\n",
       "    </tr>\n",
       "    <tr>\n",
       "      <th>3046</th>\n",
       "      <td>2916</td>\n",
       "      <td>NNNNNNNNNNNNNNNNNNNNNNNNNNNNNNNNNNNNNNNNNNNNNN...</td>\n",
       "      <td>tRNA</td>\n",
       "      <td>76</td>\n",
       "    </tr>\n",
       "    <tr>\n",
       "      <th>3058</th>\n",
       "      <td>2928</td>\n",
       "      <td>NNNNNNNNNNNNNNNNNNNNNNNNNNNNNNNNNNNNNNNNNNNNNN...</td>\n",
       "      <td>tRNA</td>\n",
       "      <td>76</td>\n",
       "    </tr>\n",
       "    <tr>\n",
       "      <th>3157</th>\n",
       "      <td>3031</td>\n",
       "      <td>NNNNNNNNNNNNNNNNNNNNNNNNNNNNNNNNNNNNNNNNNNNNNN...</td>\n",
       "      <td>tRNA</td>\n",
       "      <td>76</td>\n",
       "    </tr>\n",
       "    <tr>\n",
       "      <th>3158</th>\n",
       "      <td>3032</td>\n",
       "      <td>NNNNNNNNNNNNNNNNNNNNNNNNNNNNNNNNNNNNNNNNNNNNNN...</td>\n",
       "      <td>tRNA</td>\n",
       "      <td>76</td>\n",
       "    </tr>\n",
       "    <tr>\n",
       "      <th>3162</th>\n",
       "      <td>3036</td>\n",
       "      <td>AXXXAAAXAAXXXAAXXAAXAAAAXAAAAAAXXAAAAAXXXXXAXA...</td>\n",
       "      <td>tRNA</td>\n",
       "      <td>76</td>\n",
       "    </tr>\n",
       "    <tr>\n",
       "      <th>3400</th>\n",
       "      <td>3276</td>\n",
       "      <td>AUCGCUUCUUCGGCUUAUUAGCUAAGAUCAAAGUGUAGUAUCUGUU...</td>\n",
       "      <td>snRNA</td>\n",
       "      <td>191</td>\n",
       "    </tr>\n",
       "    <tr>\n",
       "      <th>3426</th>\n",
       "      <td>3303</td>\n",
       "      <td>GGAUCCGAUAUCCGUACACCAUCAGGGUACGAGCUAGCCCAUGGCG...</td>\n",
       "      <td>mRNA</td>\n",
       "      <td>240</td>\n",
       "    </tr>\n",
       "    <tr>\n",
       "      <th>3428</th>\n",
       "      <td>3305</td>\n",
       "      <td>AUCGCUUCUUCGGCUUAUUAGCUAAGAUCAAAGUGUAGUAUCUGUU...</td>\n",
       "      <td>snRNA</td>\n",
       "      <td>228</td>\n",
       "    </tr>\n",
       "    <tr>\n",
       "      <th>3538</th>\n",
       "      <td>3416</td>\n",
       "      <td>GGGAAXAAAGXUGAAGUXXUUAXXX</td>\n",
       "      <td>transcript</td>\n",
       "      <td>25</td>\n",
       "    </tr>\n",
       "    <tr>\n",
       "      <th>3596</th>\n",
       "      <td>3477</td>\n",
       "      <td>GGAGGUGXUXXGAAAGGAAXUXXA</td>\n",
       "      <td>transcript</td>\n",
       "      <td>24</td>\n",
       "    </tr>\n",
       "    <tr>\n",
       "      <th>3598</th>\n",
       "      <td>3479</td>\n",
       "      <td>GGAGGUGXUXXGAAAGGAAXUXXA</td>\n",
       "      <td>transcript</td>\n",
       "      <td>24</td>\n",
       "    </tr>\n",
       "    <tr>\n",
       "      <th>3701</th>\n",
       "      <td>3589</td>\n",
       "      <td>AAUAUUAAAXXXXXXXXXXA</td>\n",
       "      <td>transcript</td>\n",
       "      <td>20</td>\n",
       "    </tr>\n",
       "    <tr>\n",
       "      <th>3758</th>\n",
       "      <td>3647</td>\n",
       "      <td>AUCUAUAAUAGUUUXUUCXX</td>\n",
       "      <td>mRNA</td>\n",
       "      <td>20</td>\n",
       "    </tr>\n",
       "    <tr>\n",
       "      <th>3767</th>\n",
       "      <td>3657</td>\n",
       "      <td>AUCUAUAAUAGCCUCXUCXX</td>\n",
       "      <td>mRNA</td>\n",
       "      <td>20</td>\n",
       "    </tr>\n",
       "    <tr>\n",
       "      <th>3810</th>\n",
       "      <td>3701</td>\n",
       "      <td>XGXUXAXUXCXUUCUUXAUUU</td>\n",
       "      <td>transcript</td>\n",
       "      <td>21</td>\n",
       "    </tr>\n",
       "    <tr>\n",
       "      <th>3811</th>\n",
       "      <td>3702</td>\n",
       "      <td>AUGXAXAXUXUXUUUXCXCUU</td>\n",
       "      <td>transcript</td>\n",
       "      <td>21</td>\n",
       "    </tr>\n",
       "    <tr>\n",
       "      <th>3886</th>\n",
       "      <td>3780</td>\n",
       "      <td>GUNNNNNNNNNNNNNNNNNNNNNNNNNNNNNNNNNNNNNNNNNNNN...</td>\n",
       "      <td>intron</td>\n",
       "      <td>51</td>\n",
       "    </tr>\n",
       "    <tr>\n",
       "      <th>3950</th>\n",
       "      <td>3845</td>\n",
       "      <td>GGGUGAGUACNNNNNNNNNNNNNNNNNNNNNNNNNNNNNNNNNNNN...</td>\n",
       "      <td>mRNA</td>\n",
       "      <td>62</td>\n",
       "    </tr>\n",
       "    <tr>\n",
       "      <th>3951</th>\n",
       "      <td>3846</td>\n",
       "      <td>AXXAAXAXAAXXXAAAAAXAAAAXAXXAAAAAXAXXXAAAXAAAXX...</td>\n",
       "      <td>tRNA</td>\n",
       "      <td>62</td>\n",
       "    </tr>\n",
       "    <tr>\n",
       "      <th>3997</th>\n",
       "      <td>3893</td>\n",
       "      <td>NNNNNNNNNNNNNNNNNNNNNNNNNNNNNNNNNNNNNNNNNNNNNN...</td>\n",
       "      <td>transcript</td>\n",
       "      <td>60</td>\n",
       "    </tr>\n",
       "    <tr>\n",
       "      <th>3999</th>\n",
       "      <td>3895</td>\n",
       "      <td>NNNNNNNNNNNNNNNNNNNNNNNNNNNNNNNNNNNNNNNNNNNNNN...</td>\n",
       "      <td>transcript</td>\n",
       "      <td>60</td>\n",
       "    </tr>\n",
       "    <tr>\n",
       "      <th>4065</th>\n",
       "      <td>3966</td>\n",
       "      <td>NNNNAUGAGGXNNNNNNNNNNNNNNNNNNNNNN</td>\n",
       "      <td>mRNA</td>\n",
       "      <td>33</td>\n",
       "    </tr>\n",
       "    <tr>\n",
       "      <th>4066</th>\n",
       "      <td>3967</td>\n",
       "      <td>NNNNAUGAGGXNNNNNNNNNNNNNNNNNNNNNN</td>\n",
       "      <td>mRNA</td>\n",
       "      <td>33</td>\n",
       "    </tr>\n",
       "    <tr>\n",
       "      <th>4107</th>\n",
       "      <td>4012</td>\n",
       "      <td>GCXCGUCCCUCXCCGGUGCXXGUGXXGCCGXGGCUCUGCG</td>\n",
       "      <td>transcript</td>\n",
       "      <td>40</td>\n",
       "    </tr>\n",
       "    <tr>\n",
       "      <th>4116</th>\n",
       "      <td>4021</td>\n",
       "      <td>GGGAXXGAAAAAGAXXUGAXUUXUAUAXUAAGUXUAXGUUXXX</td>\n",
       "      <td>transcript</td>\n",
       "      <td>43</td>\n",
       "    </tr>\n",
       "    <tr>\n",
       "      <th>4169</th>\n",
       "      <td>4077</td>\n",
       "      <td>GUAUGUAUUUAUUUUNNNNNNNNNNUAGAUACUAACAC</td>\n",
       "      <td>intron</td>\n",
       "      <td>38</td>\n",
       "    </tr>\n",
       "  </tbody>\n",
       "</table>\n",
       "</div>"
      ],
      "text/plain": [
       "      cluster_id                                         seqres_can  \\\n",
       "97            31                                    NNNGACUUAAGUCGG   \n",
       "98            31                                    UNNGACUUAAGUCGG   \n",
       "276          155                                     NNAGACUUAAGUCU   \n",
       "1333        1153                                      NNNGACUUAAGUC   \n",
       "1582        1406  GUAAGAGCCUAGCAUGUAGAANNNNNNNNNNNNNNNNNNNNNNNNN...   \n",
       "1957        1799                                AUCUAUAAUAGCCUCXUCX   \n",
       "1987        1829                                    GGAGGUNNNNNNAUG   \n",
       "2458        2311                                       GGAXXXGAGUCC   \n",
       "2462        2315                                       GGAXXXGAGUCC   \n",
       "2479        2332                                       XXXXXXUXXUUX   \n",
       "2481        2334                                       CGCGAAUUXXCG   \n",
       "2619        2476                                       XGXGAATTXGXG   \n",
       "2620        2477                                       XGXGAATTXGXG   \n",
       "2621        2478                                       GGACXXXXGUCC   \n",
       "2975        2841  AAAAUAAAAAAAAAAAAAUUUGUAAGGUAUGUAUUAUUUUUUNNNN...   \n",
       "3046        2916  NNNNNNNNNNNNNNNNNNNNNNNNNNNNNNNNNNNNNNNNNNNNNN...   \n",
       "3058        2928  NNNNNNNNNNNNNNNNNNNNNNNNNNNNNNNNNNNNNNNNNNNNNN...   \n",
       "3157        3031  NNNNNNNNNNNNNNNNNNNNNNNNNNNNNNNNNNNNNNNNNNNNNN...   \n",
       "3158        3032  NNNNNNNNNNNNNNNNNNNNNNNNNNNNNNNNNNNNNNNNNNNNNN...   \n",
       "3162        3036  AXXXAAAXAAXXXAAXXAAXAAAAXAAAAAAXXAAAAAXXXXXAXA...   \n",
       "3400        3276  AUCGCUUCUUCGGCUUAUUAGCUAAGAUCAAAGUGUAGUAUCUGUU...   \n",
       "3426        3303  GGAUCCGAUAUCCGUACACCAUCAGGGUACGAGCUAGCCCAUGGCG...   \n",
       "3428        3305  AUCGCUUCUUCGGCUUAUUAGCUAAGAUCAAAGUGUAGUAUCUGUU...   \n",
       "3538        3416                          GGGAAXAAAGXUGAAGUXXUUAXXX   \n",
       "3596        3477                           GGAGGUGXUXXGAAAGGAAXUXXA   \n",
       "3598        3479                           GGAGGUGXUXXGAAAGGAAXUXXA   \n",
       "3701        3589                               AAUAUUAAAXXXXXXXXXXA   \n",
       "3758        3647                               AUCUAUAAUAGUUUXUUCXX   \n",
       "3767        3657                               AUCUAUAAUAGCCUCXUCXX   \n",
       "3810        3701                              XGXUXAXUXCXUUCUUXAUUU   \n",
       "3811        3702                              AUGXAXAXUXUXUUUXCXCUU   \n",
       "3886        3780  GUNNNNNNNNNNNNNNNNNNNNNNNNNNNNNNNNNNNNNNNNNNNN...   \n",
       "3950        3845  GGGUGAGUACNNNNNNNNNNNNNNNNNNNNNNNNNNNNNNNNNNNN...   \n",
       "3951        3846  AXXAAXAXAAXXXAAAAAXAAAAXAXXAAAAAXAXXXAAAXAAAXX...   \n",
       "3997        3893  NNNNNNNNNNNNNNNNNNNNNNNNNNNNNNNNNNNNNNNNNNNNNN...   \n",
       "3999        3895  NNNNNNNNNNNNNNNNNNNNNNNNNNNNNNNNNNNNNNNNNNNNNN...   \n",
       "4065        3966                  NNNNAUGAGGXNNNNNNNNNNNNNNNNNNNNNN   \n",
       "4066        3967                  NNNNAUGAGGXNNNNNNNNNNNNNNNNNNNNNN   \n",
       "4107        4012           GCXCGUCCCUCXCCGGUGCXXGUGXXGCCGXGGCUCUGCG   \n",
       "4116        4021        GGGAXXGAAAAAGAXXUGAXUUXUAUAXUAAGUXUAXGUUXXX   \n",
       "4169        4077             GUAUGUAUUUAUUUUNNNNNNNNNNUAGAUACUAACAC   \n",
       "\n",
       "     rna_type_cdrna  seqres_length  \n",
       "97       transcript             15  \n",
       "98       transcript             15  \n",
       "276      transcript             14  \n",
       "1333     transcript             13  \n",
       "1582         intron            113  \n",
       "1957           mRNA             19  \n",
       "1987           mRNA             15  \n",
       "2458     transcript             12  \n",
       "2462     transcript             12  \n",
       "2479     transcript             12  \n",
       "2481     transcript             12  \n",
       "2619     transcript             12  \n",
       "2620     transcript             12  \n",
       "2621     transcript             12  \n",
       "2975           mRNA            162  \n",
       "3046           tRNA             76  \n",
       "3058           tRNA             76  \n",
       "3157           tRNA             76  \n",
       "3158           tRNA             76  \n",
       "3162           tRNA             76  \n",
       "3400          snRNA            191  \n",
       "3426           mRNA            240  \n",
       "3428          snRNA            228  \n",
       "3538     transcript             25  \n",
       "3596     transcript             24  \n",
       "3598     transcript             24  \n",
       "3701     transcript             20  \n",
       "3758           mRNA             20  \n",
       "3767           mRNA             20  \n",
       "3810     transcript             21  \n",
       "3811     transcript             21  \n",
       "3886         intron             51  \n",
       "3950           mRNA             62  \n",
       "3951           tRNA             62  \n",
       "3997     transcript             60  \n",
       "3999     transcript             60  \n",
       "4065           mRNA             33  \n",
       "4066           mRNA             33  \n",
       "4107     transcript             40  \n",
       "4116     transcript             43  \n",
       "4169         intron             38  "
      ]
     },
     "execution_count": 23,
     "metadata": {},
     "output_type": "execute_result"
    }
   ],
   "source": [
    "dataset_nn.loc[~mask_wo_low_conf]"
   ]
  },
  {
   "cell_type": "markdown",
   "id": "37862fd6",
   "metadata": {},
   "source": [
    "### **Cleaning up the dataset**\n",
    "Using different masks."
   ]
  },
  {
   "cell_type": "code",
   "execution_count": 24,
   "id": "ab7527d4",
   "metadata": {},
   "outputs": [],
   "source": [
    "mask_unified = ((mask_wo_nonstd) | (mask_w_trna)) & (mask_max_length) & (mask_wo_mono_poly) & (mask_wo_t) & (mask_wo_low_conf)"
   ]
  },
  {
   "cell_type": "code",
   "execution_count": 25,
   "id": "8195cbc1",
   "metadata": {},
   "outputs": [],
   "source": [
    "dataset_nn_clean, removed_nonstd = dataset_nn.loc[mask_unified].reset_index(drop=True)\\\n",
    "                            , dataset_nn.loc[~mask_unified].reset_index(drop=True)"
   ]
  },
  {
   "cell_type": "code",
   "execution_count": 26,
   "id": "19d9a9c2",
   "metadata": {},
   "outputs": [
    {
     "name": "stdout",
     "output_type": "stream",
     "text": [
      "<class 'pandas.core.frame.DataFrame'>\n",
      "RangeIndex: 493 entries, 0 to 492\n",
      "Data columns (total 4 columns):\n",
      " #   Column          Non-Null Count  Dtype \n",
      "---  ------          --------------  ----- \n",
      " 0   cluster_id      493 non-null    int64 \n",
      " 1   seqres_can      493 non-null    object\n",
      " 2   rna_type_cdrna  493 non-null    object\n",
      " 3   seqres_length   493 non-null    int64 \n",
      "dtypes: int64(2), object(2)\n",
      "memory usage: 15.5+ KB\n"
     ]
    }
   ],
   "source": [
    "removed_nonstd.info()"
   ]
  },
  {
   "cell_type": "code",
   "execution_count": 27,
   "id": "4ad33e58",
   "metadata": {},
   "outputs": [
    {
     "name": "stdout",
     "output_type": "stream",
     "text": [
      "<class 'pandas.core.frame.DataFrame'>\n",
      "RangeIndex: 3684 entries, 0 to 3683\n",
      "Data columns (total 4 columns):\n",
      " #   Column          Non-Null Count  Dtype \n",
      "---  ------          --------------  ----- \n",
      " 0   cluster_id      3684 non-null   int64 \n",
      " 1   seqres_can      3684 non-null   object\n",
      " 2   rna_type_cdrna  3684 non-null   object\n",
      " 3   seqres_length   3684 non-null   int64 \n",
      "dtypes: int64(2), object(2)\n",
      "memory usage: 115.3+ KB\n"
     ]
    }
   ],
   "source": [
    "dataset_nn_clean.info()"
   ]
  },
  {
   "cell_type": "code",
   "execution_count": 28,
   "id": "1cfdcee4",
   "metadata": {},
   "outputs": [
    {
     "data": {
      "text/plain": [
       "seqres_can\n",
       "False    3684\n",
       "Name: count, dtype: int64"
      ]
     },
     "execution_count": 28,
     "metadata": {},
     "output_type": "execute_result"
    }
   ],
   "source": [
    "dataset_nn_clean.seqres_can.apply(lambda x: len(set(x)) == 1).value_counts()"
   ]
  },
  {
   "cell_type": "code",
   "execution_count": 30,
   "id": "ac83d202",
   "metadata": {},
   "outputs": [
    {
     "data": {
      "text/plain": [
       "seqres_length\n",
       "False    3684\n",
       "Name: count, dtype: int64"
      ]
     },
     "execution_count": 30,
     "metadata": {},
     "output_type": "execute_result"
    }
   ],
   "source": [
    "dataset_nn_clean.seqres_length.apply(lambda x: x > 6000).value_counts()"
   ]
  },
  {
   "cell_type": "code",
   "execution_count": 31,
   "id": "720738ac",
   "metadata": {},
   "outputs": [
    {
     "data": {
      "text/plain": [
       "seqres_can\n",
       "False    3684\n",
       "Name: count, dtype: int64"
      ]
     },
     "execution_count": 31,
     "metadata": {},
     "output_type": "execute_result"
    }
   ],
   "source": [
    "dataset_nn_clean.seqres_can.str.contains(\"T\").value_counts()"
   ]
  },
  {
   "cell_type": "markdown",
   "id": "1bbb41e5",
   "metadata": {},
   "source": [
    "### **Cherry-Picking de tipos de RNA**"
   ]
  },
  {
   "cell_type": "code",
   "execution_count": 58,
   "id": "9891cb8b",
   "metadata": {},
   "outputs": [
    {
     "data": {
      "text/plain": [
       "rna_type_cdrna\n",
       "transcript        1648\n",
       "rRNA               681\n",
       "tRNA               366\n",
       "mRNA               266\n",
       "riboswitch         128\n",
       "enzymatic           82\n",
       "snRNA               44\n",
       "ncRNA               43\n",
       "intron              24\n",
       "SRP_RNA             21\n",
       "other               18\n",
       "mixed               12\n",
       "piRNA               10\n",
       "miRNA               10\n",
       "snoRNA               8\n",
       "tmRNA                3\n",
       "telomerase_RNA       2\n",
       "Y_RNA                1\n",
       "antisense_RNA        1\n",
       "Name: count, dtype: int64"
      ]
     },
     "execution_count": 58,
     "metadata": {},
     "output_type": "execute_result"
    }
   ],
   "source": [
    "dataset_nn_clean.rna_type_cdrna.value_counts(dropna=False)"
   ]
  },
  {
   "cell_type": "code",
   "execution_count": 59,
   "id": "0a48247b",
   "metadata": {},
   "outputs": [],
   "source": [
    "# Seleccionar solo aquellos tipos con más de 5 casos\n",
    "dataset_nn_clean = dataset_nn_clean[dataset_nn_clean['rna_type_cdrna'].map(dataset_nn_clean['rna_type_cdrna'].value_counts()) > 5]"
   ]
  },
  {
   "cell_type": "code",
   "execution_count": 60,
   "id": "b0eed01b",
   "metadata": {},
   "outputs": [
    {
     "data": {
      "text/plain": [
       "rna_type_cdrna\n",
       "transcript    1648\n",
       "rRNA           681\n",
       "tRNA           366\n",
       "mRNA           266\n",
       "riboswitch     128\n",
       "enzymatic       82\n",
       "snRNA           44\n",
       "ncRNA           43\n",
       "intron          24\n",
       "SRP_RNA         21\n",
       "other           18\n",
       "mixed           12\n",
       "piRNA           10\n",
       "miRNA           10\n",
       "snoRNA           8\n",
       "Name: count, dtype: int64"
      ]
     },
     "execution_count": 60,
     "metadata": {},
     "output_type": "execute_result"
    }
   ],
   "source": [
    "dataset_nn_clean.rna_type_cdrna.value_counts(dropna=False)"
   ]
  },
  {
   "cell_type": "markdown",
   "id": "f2c79883",
   "metadata": {},
   "source": [
    "### **Getting minimal columns representation**"
   ]
  },
  {
   "cell_type": "code",
   "execution_count": 32,
   "id": "f726594e",
   "metadata": {},
   "outputs": [],
   "source": [
    "columns_to_select = ['seqres_can', 'rna_type_cdrna']"
   ]
  },
  {
   "cell_type": "code",
   "execution_count": 61,
   "id": "9e62470a",
   "metadata": {},
   "outputs": [],
   "source": [
    "dataset_nn_clean = dataset_nn_clean[columns_to_select].drop_duplicates().reset_index(drop=True)"
   ]
  },
  {
   "cell_type": "code",
   "execution_count": 62,
   "id": "edee8c3b",
   "metadata": {},
   "outputs": [
    {
     "name": "stdout",
     "output_type": "stream",
     "text": [
      "<class 'pandas.core.frame.DataFrame'>\n",
      "RangeIndex: 3361 entries, 0 to 3360\n",
      "Data columns (total 2 columns):\n",
      " #   Column          Non-Null Count  Dtype \n",
      "---  ------          --------------  ----- \n",
      " 0   seqres_can      3361 non-null   object\n",
      " 1   rna_type_cdrna  3361 non-null   object\n",
      "dtypes: object(2)\n",
      "memory usage: 52.6+ KB\n"
     ]
    }
   ],
   "source": [
    "dataset_nn_clean.info()"
   ]
  },
  {
   "cell_type": "code",
   "execution_count": 63,
   "id": "3fde6ca7",
   "metadata": {},
   "outputs": [],
   "source": [
    "dataset_nn_clean.to_csv(  path_or_buf = \"../../data/2025-09_cdrna_sequences_clean.tsv.gz\"\n",
    "                        , sep         = \"\\t\"\n",
    "                        , index       = False\n",
    "                        , compression = \"gzip\" )"
   ]
  },
  {
   "cell_type": "code",
   "execution_count": null,
   "id": "aa90561d",
   "metadata": {},
   "outputs": [],
   "source": []
  }
 ],
 "metadata": {
  "kernelspec": {
   "display_name": ".venv",
   "language": "python",
   "name": "python3"
  },
  "language_info": {
   "codemirror_mode": {
    "name": "ipython",
    "version": 3
   },
   "file_extension": ".py",
   "mimetype": "text/x-python",
   "name": "python",
   "nbconvert_exporter": "python",
   "pygments_lexer": "ipython3",
   "version": "3.12.11"
  }
 },
 "nbformat": 4,
 "nbformat_minor": 5
}
