{
 "cells": [
  {
   "cell_type": "markdown",
   "id": "c198b22d",
   "metadata": {},
   "source": [
    "# **Imports**"
   ]
  },
  {
   "cell_type": "code",
   "execution_count": 1,
   "id": "f47c085a",
   "metadata": {},
   "outputs": [],
   "source": [
    "import os\n",
    "from datetime import datetime\n",
    "import pandas as pd\n",
    "import numpy as np\n",
    "import matplotlib.pyplot as plt\n",
    "\n",
    "os.environ['TF_ENABLE_ONEDNN_OPTS'] = '0'\n",
    "os.environ['TF_CPP_MIN_LOG_LEVEL']  = '2' # Message for 'AVX2 AVX_VNNI FMA'\n",
    "# Importar 'pad_sequences' luego de setear las variables de entorno\n",
    "import keras\n",
    "# from keras import layers\n",
    "# from keras import regularizers\n",
    "from keras.utils import pad_sequences\n",
    "from keras.models import Sequential, Model\n",
    "from keras.callbacks import Callback, EarlyStopping\n",
    "from keras.layers import Input, InputLayer, Embedding, Dense, Flatten, BatchNormalization, Conv2D, MaxPooling2D, GlobalAveragePooling2D\n",
    "\n",
    "import tensorflow as tf\n",
    "\n",
    "from sklearn.preprocessing import LabelEncoder\n",
    "from sklearn.utils.class_weight import compute_class_weight\n",
    "from sklearn.model_selection import train_test_split"
   ]
  },
  {
   "cell_type": "markdown",
   "id": "fb5bce60",
   "metadata": {},
   "source": [
    "> 2025-09-12 17:40:02.086521: I tensorflow/core/util/port.cc:153] oneDNN custom operations are on. You may see slightly different numerical results due to floating-point round-off errors from different computation orders. To turn them off, set the environment variable `TF_ENABLE_ONEDNN_OPTS=0`.\n",
    "\n",
    "> 2025-09-12 17:40:02.123636: I tensorflow/core/platform/cpu_feature_guard.cc:210] This TensorFlow binary is optimized to use available CPU instructions in performance-critical operations.\n",
    "\n",
    "> To enable the following instructions: AVX2 AVX_VNNI FMA, in other operations, rebuild TensorFlow with the appropriate compiler flags.\n",
    "\n",
    "> 2025-09-12 17:40:05.381473: I tensorflow/core/util/port.cc:153] oneDNN custom operations are on. You may see slightly different numerical results due to floating-point round-off errors from different computation orders. To turn them off, set the environment variable `TF_ENABLE_ONEDNN_OPTS=0`."
   ]
  },
  {
   "cell_type": "markdown",
   "id": "ead49fbe",
   "metadata": {},
   "source": [
    "# **Dataset**"
   ]
  },
  {
   "cell_type": "code",
   "execution_count": 2,
   "id": "29e8103f",
   "metadata": {},
   "outputs": [],
   "source": [
    "dataset = pd.read_csv(\"../../data/2025-09_cdrna_sequences_clean.tsv.gz\", sep=\"\\t\")"
   ]
  },
  {
   "cell_type": "code",
   "execution_count": 3,
   "id": "ac6f1390",
   "metadata": {},
   "outputs": [
    {
     "data": {
      "text/plain": [
       "rna_type_cdrna\n",
       "transcript    1648\n",
       "rRNA           681\n",
       "tRNA           366\n",
       "mRNA           266\n",
       "riboswitch     128\n",
       "enzymatic       82\n",
       "snRNA           44\n",
       "ncRNA           43\n",
       "intron          24\n",
       "SRP_RNA         21\n",
       "other           18\n",
       "mixed           12\n",
       "piRNA           10\n",
       "miRNA           10\n",
       "snoRNA           8\n",
       "Name: count, dtype: int64"
      ]
     },
     "execution_count": 3,
     "metadata": {},
     "output_type": "execute_result"
    }
   ],
   "source": [
    "dataset.rna_type_cdrna.value_counts(dropna=False)\n"
   ]
  },
  {
   "cell_type": "markdown",
   "id": "55f882b4",
   "metadata": {},
   "source": [
    "## Procesamiento"
   ]
  },
  {
   "cell_type": "code",
   "execution_count": 4,
   "id": "4f5a8dd5",
   "metadata": {},
   "outputs": [],
   "source": [
    "bases = set().union(*dataset.seqres_can.map(set))\n",
    "max_length = dataset.seqres_can.map(len).max()"
   ]
  },
  {
   "cell_type": "code",
   "execution_count": 5,
   "id": "4eef9ecd",
   "metadata": {},
   "outputs": [
    {
     "data": {
      "text/plain": [
       "{'A', 'C', 'F', 'G', 'I', 'M', 'N', 'U', 'W', 'X'}"
      ]
     },
     "execution_count": 5,
     "metadata": {},
     "output_type": "execute_result"
    }
   ],
   "source": [
    "bases"
   ]
  },
  {
   "cell_type": "code",
   "execution_count": 6,
   "id": "05b4f4ad",
   "metadata": {},
   "outputs": [
    {
     "data": {
      "text/plain": [
       "np.int64(5227)"
      ]
     },
     "execution_count": 6,
     "metadata": {},
     "output_type": "execute_result"
    }
   ],
   "source": [
    "max_length"
   ]
  },
  {
   "cell_type": "code",
   "execution_count": 7,
   "id": "84cdf5e3",
   "metadata": {},
   "outputs": [
    {
     "data": {
      "text/plain": [
       "<Axes: title={'center': 'Sequence Length Distribution'}, xlabel='Sequence Length', ylabel='Frequency'>"
      ]
     },
     "execution_count": 7,
     "metadata": {},
     "output_type": "execute_result"
    },
    {
     "data": {
      "image/png": "[encoded data removed]",
      "text/plain": [
       "<Figure size 640x480 with 1 Axes>"
      ]
     },
     "metadata": {},
     "output_type": "display_data"
    }
   ],
   "source": [
    "# Length distribution\n",
    "dataset.seqres_can.map(len).plot.hist(bins=20, grid=True, xlabel=\"Sequence Length\", title=\"Sequence Length Distribution\")"
   ]
  },
  {
   "cell_type": "markdown",
   "id": "08384ba1",
   "metadata": {},
   "source": [
    "## **Separación**"
   ]
  },
  {
   "cell_type": "code",
   "execution_count": 8,
   "id": "70fbdd51",
   "metadata": {},
   "outputs": [],
   "source": [
    "# Separamos los datos en train y test\n",
    "# El 20% de los datos para test\n",
    "data_train, data_test = train_test_split( dataset               # sequence of indexables with same length / shape[0]\n",
    "                                        , test_size    = 0.2    # represent the proportion of the dataset to include in the test split\n",
    "                                        , shuffle      = True   # Whether or not to shuffle the data before splitting.\n",
    "                                        , random_state = 42 )   # Controls the shuffling applied to the data before applying the split."
   ]
  },
  {
   "cell_type": "code",
   "execution_count": 9,
   "id": "a2d489d6",
   "metadata": {},
   "outputs": [
    {
     "data": {
      "text/plain": [
       "((2688, 2), (673, 2))"
      ]
     },
     "execution_count": 9,
     "metadata": {},
     "output_type": "execute_result"
    }
   ],
   "source": [
    "data_train.shape, data_test.shape"
   ]
  },
  {
   "cell_type": "code",
   "execution_count": 13,
   "id": "a91320e7",
   "metadata": {},
   "outputs": [
    {
     "name": "stdout",
     "output_type": "stream",
     "text": [
      "Number of unique RNA types in training set: 15\n",
      "Number of unique RNA types in test set: 15\n"
     ]
    }
   ],
   "source": [
    "print(f\"Number of unique RNA types in training set: {data_train.rna_type_cdrna.nunique()}\")\n",
    "print(f\"Number of unique RNA types in test set: {data_test.rna_type_cdrna.nunique()}\")"
   ]
  },
  {
   "cell_type": "code",
   "execution_count": 18,
   "id": "9f2eff30",
   "metadata": {},
   "outputs": [
    {
     "name": "stdout",
     "output_type": "stream",
     "text": [
      "Largest RNA sequence in training set: 5227\n",
      "Largest RNA sequence in test set: 5070\n"
     ]
    }
   ],
   "source": [
    "print(f\"Largest RNA sequence in training set: {data_train.seqres_can.map(len).max()}\")\n",
    "print(f\"Largest RNA sequence in test set: {data_test.seqres_can.map(len).max()}\")"
   ]
  },
  {
   "cell_type": "code",
   "execution_count": 10,
   "id": "75acecd1",
   "metadata": {},
   "outputs": [
    {
     "data": {
      "text/plain": [
       "rna_type_cdrna\n",
       "transcript    1344\n",
       "rRNA           530\n",
       "tRNA           287\n",
       "mRNA           205\n",
       "riboswitch      95\n",
       "enzymatic       66\n",
       "snRNA           38\n",
       "ncRNA           35\n",
       "intron          21\n",
       "SRP_RNA         18\n",
       "other           15\n",
       "mixed           10\n",
       "miRNA            9\n",
       "piRNA            8\n",
       "snoRNA           7\n",
       "Name: count, dtype: int64"
      ]
     },
     "execution_count": 10,
     "metadata": {},
     "output_type": "execute_result"
    }
   ],
   "source": [
    "data_train.rna_type_cdrna.value_counts(dropna=False)"
   ]
  },
  {
   "cell_type": "code",
   "execution_count": 14,
   "id": "583748f6",
   "metadata": {},
   "outputs": [
    {
     "data": {
      "text/plain": [
       "rna_type_cdrna\n",
       "transcript    304\n",
       "rRNA          151\n",
       "tRNA           79\n",
       "mRNA           61\n",
       "riboswitch     33\n",
       "enzymatic      16\n",
       "ncRNA           8\n",
       "snRNA           6\n",
       "SRP_RNA         3\n",
       "other           3\n",
       "intron          3\n",
       "piRNA           2\n",
       "mixed           2\n",
       "snoRNA          1\n",
       "miRNA           1\n",
       "Name: count, dtype: int64"
      ]
     },
     "execution_count": 14,
     "metadata": {},
     "output_type": "execute_result"
    }
   ],
   "source": [
    "data_test.rna_type_cdrna.value_counts(dropna=False)"
   ]
  },
  {
   "cell_type": "markdown",
   "id": "786d1d3b",
   "metadata": {},
   "source": [
    "### **Secuencias**"
   ]
  },
  {
   "cell_type": "markdown",
   "id": "a405b40b",
   "metadata": {},
   "source": [
    "#### Convertir secuencias a one-hot encoding"
   ]
  },
  {
   "cell_type": "code",
   "execution_count": null,
   "id": "d5982ef5",
   "metadata": {},
   "outputs": [],
   "source": [
    "def one_hot_seq_encode(sequence: str, map_onehot=dict) -> np.ndarray:\n",
    "    \"\"\"\n",
    "    One-hot encodes a sequence using a provided mapping.\n",
    "\n",
    "    Parameters:\n",
    "\n",
    "                * sequence (str): The sequence to encode\n",
    "                * map_onehot (dict): The residue mapping for one-hot encoding (keys are one-letter residues in uppercase, values are lists of 0s and 1s)\n",
    "\n",
    "    Returns: np.ndarray\n",
    "    \"\"\"\n",
    "    assert isinstance(sequence, str), \"Sequence must be a string\"\n",
    "    assert isinstance(map_onehot, dict), \"Mapping must be a dictionary\"\n",
    "    assert all(isinstance(v, list) and len(v) == len(map_onehot) for v in map_onehot.values()), \"All mapping values must be lists and have the same length\"\n",
    "    assert all(isinstance(i, int) and i in (0, 1) for v in map_onehot.values() for i in v), \"All mapping values must be lists of 0s and 1s\"\n",
    "    assert len(sequence) > 0, \"Given sequence must not be empty\"\n",
    "    sequence = sequence.upper()\n",
    "    assert all(r in map_onehot for r in sequence), \"All residues must be in the mapping\"\n",
    "\n",
    "    return np.array([map_onehot.get(residue, [0] * len(map_onehot)) for residue in sequence])\n"
   ]
  },
  {
   "cell_type": "code",
   "execution_count": 6,
   "id": "dcc7bd47",
   "metadata": {},
   "outputs": [
    {
     "data": {
      "text/plain": [
       "seqres_can\n",
       "G    383183\n",
       "C    303932\n",
       "A    302107\n",
       "U    256439\n",
       "X        36\n",
       "N        11\n",
       "I         8\n",
       "F         3\n",
       "W         3\n",
       "M         1\n",
       "Name: count, dtype: int64"
      ]
     },
     "execution_count": 6,
     "metadata": {},
     "output_type": "execute_result"
    }
   ],
   "source": [
    "# Count types of bases\n",
    "dataset.seqres_can.str.split('').explode().value_counts(normalize=False, dropna=False).drop(labels=[''])"
   ]
  },
  {
   "cell_type": "code",
   "execution_count": 7,
   "id": "499ec743",
   "metadata": {},
   "outputs": [],
   "source": [
    "map_onehot = {}\n",
    "for i, base in enumerate(bases):\n",
    "    map_onehot[base] = np.zeros(len(bases), dtype=int).tolist()\n",
    "    map_onehot[base][i] = 1"
   ]
  },
  {
   "cell_type": "code",
   "execution_count": 8,
   "id": "8f754e6d",
   "metadata": {},
   "outputs": [
    {
     "data": {
      "text/plain": [
       "{'U': [1, 0, 0, 0, 0, 0, 0, 0, 0, 0],\n",
       " 'G': [0, 1, 0, 0, 0, 0, 0, 0, 0, 0],\n",
       " 'C': [0, 0, 1, 0, 0, 0, 0, 0, 0, 0],\n",
       " 'X': [0, 0, 0, 1, 0, 0, 0, 0, 0, 0],\n",
       " 'A': [0, 0, 0, 0, 1, 0, 0, 0, 0, 0],\n",
       " 'F': [0, 0, 0, 0, 0, 1, 0, 0, 0, 0],\n",
       " 'N': [0, 0, 0, 0, 0, 0, 1, 0, 0, 0],\n",
       " 'W': [0, 0, 0, 0, 0, 0, 0, 1, 0, 0],\n",
       " 'I': [0, 0, 0, 0, 0, 0, 0, 0, 1, 0],\n",
       " 'M': [0, 0, 0, 0, 0, 0, 0, 0, 0, 1]}"
      ]
     },
     "execution_count": 8,
     "metadata": {},
     "output_type": "execute_result"
    }
   ],
   "source": [
    "map_onehot"
   ]
  },
  {
   "cell_type": "code",
   "execution_count": 9,
   "id": "bd4a0efc",
   "metadata": {},
   "outputs": [
    {
     "data": {
      "text/plain": [
       "10"
      ]
     },
     "execution_count": 9,
     "metadata": {},
     "output_type": "execute_result"
    }
   ],
   "source": [
    "len(map_onehot)"
   ]
  },
  {
   "cell_type": "code",
   "execution_count": 11,
   "id": "3519d241",
   "metadata": {},
   "outputs": [
    {
     "data": {
      "text/plain": [
       "array([[1, 0, 0, 0, 0, 0, 0, 0, 0, 0],\n",
       "       [0, 1, 0, 0, 0, 0, 0, 0, 0, 0],\n",
       "       [0, 0, 1, 0, 0, 0, 0, 0, 0, 0],\n",
       "       [0, 0, 0, 1, 0, 0, 0, 0, 0, 0],\n",
       "       [0, 0, 0, 0, 1, 0, 0, 0, 0, 0],\n",
       "       [0, 0, 0, 0, 0, 1, 0, 0, 0, 0],\n",
       "       [0, 0, 0, 0, 0, 0, 1, 0, 0, 0],\n",
       "       [0, 0, 0, 0, 0, 0, 0, 1, 0, 0],\n",
       "       [0, 0, 0, 0, 0, 0, 0, 0, 1, 0],\n",
       "       [0, 0, 0, 0, 0, 0, 0, 0, 0, 1]])"
      ]
     },
     "execution_count": 11,
     "metadata": {},
     "output_type": "execute_result"
    }
   ],
   "source": [
    "# Matrix of one-hot encoding using the mapping :)\n",
    "one_hot_seq_encode(sequence=''.join(map_onehot.keys()), map_onehot=map_onehot)"
   ]
  },
  {
   "cell_type": "markdown",
   "id": "4c4372da",
   "metadata": {},
   "source": [
    "#### Convertir secuencias a embeddings"
   ]
  },
  {
   "cell_type": "code",
   "execution_count": 15,
   "id": "d57f913e",
   "metadata": {},
   "outputs": [],
   "source": [
    "def embed_sequence(sequence: str, map_residues: dict) -> list[int]:\n",
    "    \"\"\"\n",
    "    Embeds a sequence using a provided mapping.\n",
    "    If a residue is not found in the mapping, it is replaced with 0.\n",
    "\n",
    "    Parameters:\n",
    "\n",
    "        * sequence (str): The sequence to embed\n",
    "        * map_residues (dict): The residue mapping for embedding (keys are one-letter residues in uppercase, values are embedding vectors)\n",
    "\n",
    "    Returns: list[int]\n",
    "    \"\"\"\n",
    "    assert isinstance(sequence, str), \"Sequence must be a string\"\n",
    "    assert isinstance(map_residues, dict), \"Mapping must be a dictionary\"\n",
    "    assert len(sequence) > 0, \"Given sequence must not be empty\"\n",
    "    sequence = sequence.upper()\n",
    "\n",
    "    return [map_residues.get(residue, 0) for residue in sequence]"
   ]
  },
  {
   "cell_type": "code",
   "execution_count": 16,
   "id": "dd1522ad",
   "metadata": {},
   "outputs": [],
   "source": [
    "map_residues = {base: n for n, base in enumerate(bases, 1)}"
   ]
  },
  {
   "cell_type": "code",
   "execution_count": 17,
   "id": "e2c25fd6",
   "metadata": {},
   "outputs": [
    {
     "data": {
      "text/plain": [
       "[1, 2, 3, 4, 5, 6, 7, 8, 9, 10]"
      ]
     },
     "execution_count": 17,
     "metadata": {},
     "output_type": "execute_result"
    }
   ],
   "source": [
    "embed_sequence(sequence=''.join(map_residues.keys()), map_residues=map_residues)"
   ]
  },
  {
   "cell_type": "markdown",
   "id": "78b45095",
   "metadata": {},
   "source": [
    "#### Padding de secuencias"
   ]
  },
  {
   "cell_type": "code",
   "execution_count": 80,
   "id": "b36fe5ba",
   "metadata": {},
   "outputs": [],
   "source": [
    "sequences = [\n",
    "    \"AUGCUA\",\n",
    "    \"GCUAUGCGAUCGUAGCUA\",\n",
    "    \"AUG\"\n",
    "]\n",
    "\n",
    "sequences_embed = [embed_sequence(seq, map_residues) for seq in sequences]\n",
    "sequences_onehot = [one_hot_seq_encode(seq, map_onehot) for seq in sequences]"
   ]
  },
  {
   "cell_type": "code",
   "execution_count": 81,
   "id": "b35b98f2",
   "metadata": {},
   "outputs": [],
   "source": [
    "sequences_embed_padded = pad_sequences(sequences_embed, padding='post')\n",
    "sequences_onehot_padded = pad_sequences(sequences_onehot, padding='post')"
   ]
  },
  {
   "cell_type": "code",
   "execution_count": 82,
   "id": "e2efcdcb",
   "metadata": {},
   "outputs": [
    {
     "name": "stdout",
     "output_type": "stream",
     "text": [
      "sequences_embed_padded:\n",
      "\n",
      "[[5 1 2 3 1 5 0 0 0 0 0 0 0 0 0 0 0 0]\n",
      " [2 3 1 5 1 2 3 2 5 1 3 2 1 5 2 3 1 5]\n",
      " [5 1 2 0 0 0 0 0 0 0 0 0 0 0 0 0 0 0]]\n"
     ]
    }
   ],
   "source": [
    "print(f\"sequences_embed_padded:\\n\\n{sequences_embed_padded}\")"
   ]
  },
  {
   "cell_type": "code",
   "execution_count": 83,
   "id": "ed9a01e8",
   "metadata": {},
   "outputs": [
    {
     "name": "stdout",
     "output_type": "stream",
     "text": [
      "sequences_onehot_padded:\n",
      "\n",
      "[[[0 0 0 0 1 0 0 0 0 0]\n",
      "  [1 0 0 0 0 0 0 0 0 0]\n",
      "  [0 1 0 0 0 0 0 0 0 0]\n",
      "  [0 0 1 0 0 0 0 0 0 0]\n",
      "  [1 0 0 0 0 0 0 0 0 0]\n",
      "  [0 0 0 0 1 0 0 0 0 0]\n",
      "  [0 0 0 0 0 0 0 0 0 0]\n",
      "  [0 0 0 0 0 0 0 0 0 0]\n",
      "  [0 0 0 0 0 0 0 0 0 0]\n",
      "  [0 0 0 0 0 0 0 0 0 0]\n",
      "  [0 0 0 0 0 0 0 0 0 0]\n",
      "  [0 0 0 0 0 0 0 0 0 0]\n",
      "  [0 0 0 0 0 0 0 0 0 0]\n",
      "  [0 0 0 0 0 0 0 0 0 0]\n",
      "  [0 0 0 0 0 0 0 0 0 0]\n",
      "  [0 0 0 0 0 0 0 0 0 0]\n",
      "  [0 0 0 0 0 0 0 0 0 0]\n",
      "  [0 0 0 0 0 0 0 0 0 0]]\n",
      "\n",
      " [[0 1 0 0 0 0 0 0 0 0]\n",
      "  [0 0 1 0 0 0 0 0 0 0]\n",
      "  [1 0 0 0 0 0 0 0 0 0]\n",
      "  [0 0 0 0 1 0 0 0 0 0]\n",
      "  [1 0 0 0 0 0 0 0 0 0]\n",
      "  [0 1 0 0 0 0 0 0 0 0]\n",
      "  [0 0 1 0 0 0 0 0 0 0]\n",
      "  [0 1 0 0 0 0 0 0 0 0]\n",
      "  [0 0 0 0 1 0 0 0 0 0]\n",
      "  [1 0 0 0 0 0 0 0 0 0]\n",
      "  [0 0 1 0 0 0 0 0 0 0]\n",
      "  [0 1 0 0 0 0 0 0 0 0]\n",
      "  [1 0 0 0 0 0 0 0 0 0]\n",
      "  [0 0 0 0 1 0 0 0 0 0]\n",
      "  [0 1 0 0 0 0 0 0 0 0]\n",
      "  [0 0 1 0 0 0 0 0 0 0]\n",
      "  [1 0 0 0 0 0 0 0 0 0]\n",
      "  [0 0 0 0 1 0 0 0 0 0]]\n",
      "\n",
      " [[0 0 0 0 1 0 0 0 0 0]\n",
      "  [1 0 0 0 0 0 0 0 0 0]\n",
      "  [0 1 0 0 0 0 0 0 0 0]\n",
      "  [0 0 0 0 0 0 0 0 0 0]\n",
      "  [0 0 0 0 0 0 0 0 0 0]\n",
      "  [0 0 0 0 0 0 0 0 0 0]\n",
      "  [0 0 0 0 0 0 0 0 0 0]\n",
      "  [0 0 0 0 0 0 0 0 0 0]\n",
      "  [0 0 0 0 0 0 0 0 0 0]\n",
      "  [0 0 0 0 0 0 0 0 0 0]\n",
      "  [0 0 0 0 0 0 0 0 0 0]\n",
      "  [0 0 0 0 0 0 0 0 0 0]\n",
      "  [0 0 0 0 0 0 0 0 0 0]\n",
      "  [0 0 0 0 0 0 0 0 0 0]\n",
      "  [0 0 0 0 0 0 0 0 0 0]\n",
      "  [0 0 0 0 0 0 0 0 0 0]\n",
      "  [0 0 0 0 0 0 0 0 0 0]\n",
      "  [0 0 0 0 0 0 0 0 0 0]]]\n"
     ]
    }
   ],
   "source": [
    "print(f\"sequences_onehot_padded:\\n\\n{sequences_onehot_padded}\")"
   ]
  },
  {
   "cell_type": "markdown",
   "id": "affdada6",
   "metadata": {},
   "source": [
    "Se ve que cuanto más grande la secuencia, el padding para el encoding one-hot es mucho más grande. En este caso, dada una secuencia de largo `L` y `N` la longitud de la secuencia más larga conocida en el dataset, donde `L < N`, entonces el array one-hot de esa secuencia pasa a ser `10xN`.  Para el codificación embedding, el array pasa a ser `LxD`, siendo `D` la dimensión del embedding (en este caso 1)."
   ]
  },
  {
   "cell_type": "markdown",
   "id": "7707c696",
   "metadata": {},
   "source": [
    "#### Secuencia más larga como referencia para padding"
   ]
  },
  {
   "cell_type": "code",
   "execution_count": 19,
   "id": "ea75cb9a",
   "metadata": {},
   "outputs": [],
   "source": [
    "sequences_embed = [embed_sequence(seq, map_residues) for seq in data_train.seqres_can.unique()]\n",
    "sequences_embed_padded = pad_sequences(sequences_embed, maxlen=max_length, padding='post', truncating='post')"
   ]
  },
  {
   "cell_type": "code",
   "execution_count": 20,
   "id": "e5a0950c",
   "metadata": {},
   "outputs": [
    {
     "data": {
      "text/plain": [
       "2688"
      ]
     },
     "execution_count": 20,
     "metadata": {},
     "output_type": "execute_result"
    }
   ],
   "source": [
    "len(sequences_embed)"
   ]
  },
  {
   "cell_type": "code",
   "execution_count": 21,
   "id": "069e75e7",
   "metadata": {},
   "outputs": [
    {
     "name": "stdout",
     "output_type": "stream",
     "text": [
      "First: 32\n",
      "Last: 57\n"
     ]
    }
   ],
   "source": [
    "print(f\"First: {len(sequences_embed[0])}\")\n",
    "print(f\"Last: {len(sequences_embed[-1])}\")"
   ]
  },
  {
   "cell_type": "code",
   "execution_count": 22,
   "id": "a9c8bb5a",
   "metadata": {},
   "outputs": [
    {
     "data": {
      "text/plain": [
       "(2688, 5227)"
      ]
     },
     "execution_count": 22,
     "metadata": {},
     "output_type": "execute_result"
    }
   ],
   "source": [
    "sequences_embed_padded.shape"
   ]
  },
  {
   "cell_type": "code",
   "execution_count": 23,
   "id": "f7026e22",
   "metadata": {},
   "outputs": [
    {
     "name": "stdout",
     "output_type": "stream",
     "text": [
      "First: 5227\n",
      "Last: 5227\n"
     ]
    }
   ],
   "source": [
    "print(f\"First: {len(sequences_embed_padded[0])}\")\n",
    "print(f\"Last: {len(sequences_embed_padded[-1])}\")"
   ]
  },
  {
   "cell_type": "code",
   "execution_count": 24,
   "id": "9c6ade68",
   "metadata": {},
   "outputs": [
    {
     "data": {
      "text/plain": [
       "count    2688.000000\n",
       "mean      364.602307\n",
       "std       870.062623\n",
       "min        10.000000\n",
       "25%        19.000000\n",
       "50%        41.000000\n",
       "75%       103.000000\n",
       "max      5227.000000\n",
       "Name: seqres_can, dtype: float64"
      ]
     },
     "execution_count": 24,
     "metadata": {},
     "output_type": "execute_result"
    }
   ],
   "source": [
    "# analizar la distribución de longitudes para definir un maxlen que cubra, por ejemplo, el 90% de las secuencias sin perder demasiada información\n",
    "data_train.seqres_can.map(len).describe()"
   ]
  },
  {
   "cell_type": "code",
   "execution_count": 25,
   "id": "9a5c4328",
   "metadata": {},
   "outputs": [
    {
     "data": {
      "text/plain": [
       "np.float64(1533.0)"
      ]
     },
     "execution_count": 25,
     "metadata": {},
     "output_type": "execute_result"
    }
   ],
   "source": [
    "# get upto 90th percentile of distribution of sequence lengths\n",
    "data_train.seqres_can.map(len).quantile(0.9)"
   ]
  },
  {
   "cell_type": "code",
   "execution_count": 26,
   "id": "e85673fe",
   "metadata": {},
   "outputs": [
    {
     "data": {
      "text/plain": [
       "(1630, 2)"
      ]
     },
     "execution_count": 26,
     "metadata": {},
     "output_type": "execute_result"
    }
   ],
   "source": [
    "# get between 30 upto 90th percentile of distribution of sequence lengths\n",
    "data_train.seqres_can.map(len).quantile(0.3), data_train.seqres_can.map(len).quantile(0.9)\n",
    "data_train.loc[(data_train.seqres_can.map(len) >= data_train.seqres_can.map(len).quantile(0.3)) & (data_train.seqres_can.map(len) <= data_train.seqres_can.map(len).quantile(0.9))].shape"
   ]
  },
  {
   "cell_type": "code",
   "execution_count": 27,
   "id": "eee45192",
   "metadata": {},
   "outputs": [
    {
     "data": {
      "text/plain": [
       "(225, 2)"
      ]
     },
     "execution_count": 27,
     "metadata": {},
     "output_type": "execute_result"
    }
   ],
   "source": [
    "data_train.loc[data_train.seqres_can.map(len) > 1630].shape\n"
   ]
  },
  {
   "cell_type": "markdown",
   "id": "6f0f08d3",
   "metadata": {},
   "source": [
    "### **Etiquetas**"
   ]
  },
  {
   "cell_type": "markdown",
   "id": "fc8a6475",
   "metadata": {},
   "source": [
    "#### Codificación categórica: convertir los tipos de RNA (texto) a números\n",
    "Se muestran 2 formas de hacerlo: una manual y otra utilizando `sklearn`."
   ]
  },
  {
   "cell_type": "markdown",
   "id": "2a909bd6",
   "metadata": {},
   "source": [
    "##### Utilizando `sklearn`"
   ]
  },
  {
   "cell_type": "code",
   "execution_count": 28,
   "id": "f99aab1d",
   "metadata": {},
   "outputs": [],
   "source": [
    "# Initialize the label encoder\n",
    "label_encoder = LabelEncoder()\n",
    "label_encoder.fit(data_train.rna_type_cdrna.tolist())\n",
    "\n",
    "# Transform the labels\n",
    "labels = label_encoder.transform(data_train.rna_type_cdrna.tolist())"
   ]
  },
  {
   "cell_type": "markdown",
   "id": "97477490",
   "metadata": {},
   "source": [
    "##### Utilizando `dict` (manual)"
   ]
  },
  {
   "cell_type": "code",
   "execution_count": 29,
   "id": "b775fd45",
   "metadata": {},
   "outputs": [],
   "source": [
    "# Custom label encoder\n",
    "data = dataset.rna_type_cdrna.tolist()\n",
    "classes = sorted(set(data))\n",
    "\n",
    "class_index = dict(zip(classes, range(len(classes))))\n",
    "index_class = dict(zip(range(len(classes)), classes))\n",
    "labels = list(map(class_index.get, data_train.rna_type_cdrna.tolist()))"
   ]
  },
  {
   "cell_type": "code",
   "execution_count": 30,
   "id": "778ce6c5",
   "metadata": {},
   "outputs": [
    {
     "data": {
      "text/plain": [
       "{'SRP_RNA': 0,\n",
       " 'enzymatic': 1,\n",
       " 'intron': 2,\n",
       " 'mRNA': 3,\n",
       " 'miRNA': 4,\n",
       " 'mixed': 5,\n",
       " 'ncRNA': 6,\n",
       " 'other': 7,\n",
       " 'piRNA': 8,\n",
       " 'rRNA': 9,\n",
       " 'riboswitch': 10,\n",
       " 'snRNA': 11,\n",
       " 'snoRNA': 12,\n",
       " 'tRNA': 13,\n",
       " 'transcript': 14}"
      ]
     },
     "execution_count": 30,
     "metadata": {},
     "output_type": "execute_result"
    }
   ],
   "source": [
    "class_index"
   ]
  },
  {
   "cell_type": "code",
   "execution_count": 31,
   "id": "e1456340",
   "metadata": {},
   "outputs": [
    {
     "data": {
      "text/plain": [
       "{0: 'SRP_RNA',\n",
       " 1: 'enzymatic',\n",
       " 2: 'intron',\n",
       " 3: 'mRNA',\n",
       " 4: 'miRNA',\n",
       " 5: 'mixed',\n",
       " 6: 'ncRNA',\n",
       " 7: 'other',\n",
       " 8: 'piRNA',\n",
       " 9: 'rRNA',\n",
       " 10: 'riboswitch',\n",
       " 11: 'snRNA',\n",
       " 12: 'snoRNA',\n",
       " 13: 'tRNA',\n",
       " 14: 'transcript'}"
      ]
     },
     "execution_count": 31,
     "metadata": {},
     "output_type": "execute_result"
    }
   ],
   "source": [
    "index_class"
   ]
  },
  {
   "cell_type": "code",
   "execution_count": 32,
   "id": "fdc79081",
   "metadata": {},
   "outputs": [
    {
     "name": "stdout",
     "output_type": "stream",
     "text": [
      "{'miRNA': 4}\n",
      "miRNA\n",
      "['miRNA']\n"
     ]
    }
   ],
   "source": [
    "# Get key with value '4'\n",
    "print({k: v for k, v in class_index.items() if v == 4}) # Dificil. Usa un bucle y es lento\n",
    "\n",
    "# Get value of key '4'\n",
    "print(index_class[4])  # Super fácil y rápido. Usa un poquito de memoria porque requiere definir un dict extra\n",
    "\n",
    "# Map the encoded labels back to the original labels\n",
    "print(label_encoder.inverse_transform([4])) # Fácil pero requiere sklearn y es una lista con único elemento"
   ]
  },
  {
   "cell_type": "markdown",
   "id": "32b5200f",
   "metadata": {},
   "source": [
    "### **Balanceo de clases**"
   ]
  },
  {
   "cell_type": "markdown",
   "id": "fa06674f",
   "metadata": {},
   "source": [
    "Existen 15 tipos de RNA en el dataset y están fuertemente desbalanceados.\n",
    "Queremos que no haya un bias a los tipos mayoritarios, por lo que vamos a usar pesos de clase para balancear el aprendizaje en el entrenamiento."
   ]
  },
  {
   "cell_type": "code",
   "execution_count": 33,
   "id": "fe391356",
   "metadata": {},
   "outputs": [],
   "source": [
    "# Pesos de las clases\n",
    "# https://datascience.stackexchange.com/a/18722\n",
    "class_weights  =  compute_class_weight( class_weight ='balanced'\n",
    "                                    ,   classes      = np.unique(labels)\n",
    "                                    ,   y            = labels )"
   ]
  },
  {
   "cell_type": "code",
   "execution_count": 34,
   "id": "27d9b69c",
   "metadata": {},
   "outputs": [],
   "source": [
    "class_weight_dict = dict(enumerate(class_weights))"
   ]
  },
  {
   "cell_type": "markdown",
   "id": "0e4b1ec9",
   "metadata": {},
   "source": [
    "# **Creación del modelo**"
   ]
  },
  {
   "cell_type": "markdown",
   "id": "fe6af4fa",
   "metadata": {},
   "source": [
    "### **Arquitectura**"
   ]
  },
  {
   "cell_type": "code",
   "execution_count": 35,
   "id": "a50b3bbd",
   "metadata": {},
   "outputs": [],
   "source": [
    "vocab_size   = len(map_residues) + 1   # +1 para el padding (0)\n",
    "input_length = max_length              # Longitud máxima de las secuencias de entrada\n",
    "nb_classes   = len(classes)            # Número de clases de salida"
   ]
  },
  {
   "cell_type": "code",
   "execution_count": 84,
   "id": "db337cdd",
   "metadata": {},
   "outputs": [
    {
     "name": "stderr",
     "output_type": "stream",
     "text": [
      "/home/martingb/Projects/2025/rna_classifier/.venv/lib/python3.12/site-packages/keras/src/layers/layer.py:970: UserWarning: Layer 'flatten_layer' (of type Flatten) was passed an input with a mask attached to it. However, this layer does not support masking and will therefore destroy the mask information. Downstream layers will not see the mask.\n",
      "  warnings.warn(\n"
     ]
    }
   ],
   "source": [
    "# Inicialización del modelo\n",
    "if 'model' in locals():\n",
    "    del model\n",
    "\n",
    "model = Sequential(name=\"RNA_Type_Classifier\")\n",
    "\n",
    "# Capa de entrada que define la forma de los datos de entrada\n",
    "model.add(Input(shape=(input_length,), dtype=tf.int32))\n",
    "\n",
    "# Capa Embedding: https://keras.io/api/layers/core_layers/embedding/\n",
    "# CUIDADO: documentación oficial está desactualizada:\n",
    "# - https://github.com/keras-team/keras/issues/19282\n",
    "# - No existe más el parámetro 'input_length'\n",
    "# Solución: ahora se infiere: https://github.com/keras-team/keras/issues/19094#issuecomment-1909387912\n",
    "# , input_length           = input_length   # Longitud máxima de las secuencias de entrada\n",
    "model.add(Embedding(  input_dim              = vocab_size     # Dimensión del vocabulario (número de tokens únicos + 1 por el padding)\n",
    "                    , output_dim             = 64             # Dimensión del embedding (ajustable). Se fija en 64 porque el vocabulario es pequeño y no se necesita un embedding muy grande. Además ayuda a no consumir tanta memoria.\n",
    "                    , mask_zero              = True           # Capas que puedan ignorar el 0 por padding\n",
    "                    , embeddings_initializer = 'uniform'      # Por defecto: inicialización uniforme de los pesos del embedding\n",
    "                    , name                   = 'embedding_layer' ))\n",
    "# Cada lote de N secuencias tiene forma (N, input_length, 64 embeddings) y se aplana a (N, input_length * 64)\n",
    "# model.add(Flatten(name=\"flatten_layer\"))\n",
    "model.add(Flatten(name=\"flatten_layer\"))\n",
    "\n",
    "# Normalización por lotes después de la capa de embedding + aplanamiento\n",
    "model.add(BatchNormalization(name=\"batch_norm_1\"))\n",
    "\n",
    "# Feed-forward - Capa oculta\n",
    "# Cantidad de hiperparámetros por lote de N:\n",
    "# (N * input_length * 64) * 128 + 128 (bias) = (N * 45495808) + 128 = (N * 45495936)\n",
    "# Si N es total, N=3361, son 152.911.840.896 parámetros\n",
    "# Si N=32, son 1.455.869.952 parámetros por lote.\n",
    "# Si N=16, son 727.934.976 parámetros por lote.\n",
    "model.add(Dense(units=128, activation='relu', kernel_initializer='he_uniform', name=\"dense_1\"))\n",
    "\n",
    "# Normalización por lotes después de la capa oculta\n",
    "model.add(BatchNormalization(name=\"batch_norm_2\"))\n",
    "\n",
    "# Capa de salida usando softmax\n",
    "# Tiene tantas neuronas como clases espero\n",
    "model.add(Dense(units=nb_classes, activation='softmax', name=\"output_layer\"))\n"
   ]
  },
  {
   "cell_type": "markdown",
   "id": "00a95b8e",
   "metadata": {},
   "source": [
    "#### Optimizador"
   ]
  },
  {
   "cell_type": "code",
   "execution_count": 85,
   "id": "a73fccdf",
   "metadata": {},
   "outputs": [],
   "source": [
    "# API : https://keras.io/api/optimizers/\n",
    "# learning_rate es el 'alpha'\n",
    "alpha = 0.001 # Valor por defecto en Adam\n",
    "opt = keras.optimizers.Adam(learning_rate=alpha) # ADAM = AdaGrad + Momentum"
   ]
  },
  {
   "cell_type": "markdown",
   "id": "9f9d8760",
   "metadata": {},
   "source": [
    "#### Métricas"
   ]
  },
  {
   "cell_type": "code",
   "execution_count": 114,
   "id": "abea8de1",
   "metadata": {},
   "outputs": [],
   "source": [
    "# Accuracy metrics\n",
    "# Accuracy : https://keras.io/api/metrics/accuracy_metrics/#accuracy-class\n",
    "\n",
    "# Classification metrics based on True/False positives & negatives\n",
    "# F1 : https://keras.io/api/metrics/classification_metrics/#f1score-class\n",
    "\n",
    "# Metrics for each class\n",
    "metrics = [ keras.metrics.SparseCategoricalAccuracy(name='accuracy') ]\n",
    "\n",
    "# metrics.extend([\n",
    "#     # Precision and Recall for each class\n",
    "#     keras.metrics.Precision(class_id=class_id, name=f'precision_class_{class_id}_{index_class[class_id].replace(\" \", \"_\")}')\n",
    "#     for class_id in class_index.values()\n",
    "# ] + [\n",
    "#     keras.metrics.Recall(class_id=class_id, name=f'recall_class_{class_id}_{index_class[class_id].replace(\" \", \"_\")}')\n",
    "#     for class_id in class_index.values()\n",
    "# ])\n"
   ]
  },
  {
   "cell_type": "code",
   "execution_count": 115,
   "id": "23902fe4",
   "metadata": {},
   "outputs": [
    {
     "data": {
      "text/plain": [
       "[<SparseCategoricalAccuracy name=accuracy>]"
      ]
     },
     "execution_count": 115,
     "metadata": {},
     "output_type": "execute_result"
    }
   ],
   "source": [
    "metrics"
   ]
  },
  {
   "cell_type": "markdown",
   "id": "fab764ce",
   "metadata": {},
   "source": [
    "### **Compilación**"
   ]
  },
  {
   "cell_type": "code",
   "execution_count": 116,
   "id": "56f84f59",
   "metadata": {},
   "outputs": [],
   "source": [
    "model.compile( loss      = 'sparse_categorical_crossentropy' # Función de pérdida para codificación categórica de enteros\n",
    "            ,  optimizer = opt                               # Usa el optimizador Adam con valores por defecto. Podría haberse usado 'adam' directamente\n",
    "            ,  metrics   = metrics )"
   ]
  },
  {
   "cell_type": "markdown",
   "id": "a52f956b",
   "metadata": {},
   "source": [
    "### **Monitoreo**"
   ]
  },
  {
   "cell_type": "code",
   "execution_count": 111,
   "id": "a4a75cbc",
   "metadata": {},
   "outputs": [],
   "source": [
    "# Callbacks\n",
    "# https://keras.io/api/callbacks/early_stopping/#earlystopping-class\n",
    "early_stopping = EarlyStopping( monitor              = 'val_loss' # Quantity to be monitored. (default: 'val_loss')\n",
    "                            ,   verbose              = 1          # Verbosity mode, 0 or 1. Mode 0 is silent, and mode 1 displays messages when the callback takes an action. Defaults to 0.\n",
    "                            ,   patience             = 3          # Number of epochs with no improvement after which training will be stopped\n",
    "                            ,   restore_best_weights = True       # Whether to restore model weights from the epoch with the best value of the monitored quantity.\n",
    "                            ,   min_delta            = 0.001 )    # Minimum change in the monitored quantity to qualify as an improvement\n",
    "\n",
    "callbacks = [early_stopping]"
   ]
  },
  {
   "cell_type": "markdown",
   "id": "e45eae08",
   "metadata": {},
   "source": [
    "### **Resumen del modelo**"
   ]
  },
  {
   "cell_type": "code",
   "execution_count": 112,
   "id": "41094ca3",
   "metadata": {},
   "outputs": [
    {
     "data": {
      "text/html": [
       "<pre style=\"white-space:pre;overflow-x:auto;line-height:normal;font-family:Menlo,'DejaVu Sans Mono',consolas,'Courier New',monospace\"><span style=\"font-weight: bold\">Model: \"RNA_Type_Classifier\"</span>\n",
       "</pre>\n"
      ],
      "text/plain": [
       "\u001b[1mModel: \"RNA_Type_Classifier\"\u001b[0m\n"
      ]
     },
     "metadata": {},
     "output_type": "display_data"
    },
    {
     "data": {
      "text/html": [
       "<pre style=\"white-space:pre;overflow-x:auto;line-height:normal;font-family:Menlo,'DejaVu Sans Mono',consolas,'Courier New',monospace\">┏━━━━━━━━━━━━━━━━━━━━━━━━━━━━━━━━━┳━━━━━━━━━━━━━━━━━━━━━━━━┳━━━━━━━━━━━━━━━┓\n",
       "┃<span style=\"font-weight: bold\"> Layer (type)                    </span>┃<span style=\"font-weight: bold\"> Output Shape           </span>┃<span style=\"font-weight: bold\">       Param # </span>┃\n",
       "┡━━━━━━━━━━━━━━━━━━━━━━━━━━━━━━━━━╇━━━━━━━━━━━━━━━━━━━━━━━━╇━━━━━━━━━━━━━━━┩\n",
       "│ embedding_layer (<span style=\"color: #0087ff; text-decoration-color: #0087ff\">Embedding</span>)     │ (<span style=\"color: #00d7ff; text-decoration-color: #00d7ff\">None</span>, <span style=\"color: #00af00; text-decoration-color: #00af00\">5227</span>, <span style=\"color: #00af00; text-decoration-color: #00af00\">64</span>)       │           <span style=\"color: #00af00; text-decoration-color: #00af00\">704</span> │\n",
       "├─────────────────────────────────┼────────────────────────┼───────────────┤\n",
       "│ flatten_layer (<span style=\"color: #0087ff; text-decoration-color: #0087ff\">Flatten</span>)         │ (<span style=\"color: #00d7ff; text-decoration-color: #00d7ff\">None</span>, <span style=\"color: #00af00; text-decoration-color: #00af00\">334528</span>)         │             <span style=\"color: #00af00; text-decoration-color: #00af00\">0</span> │\n",
       "├─────────────────────────────────┼────────────────────────┼───────────────┤\n",
       "│ batch_norm_1                    │ (<span style=\"color: #00d7ff; text-decoration-color: #00d7ff\">None</span>, <span style=\"color: #00af00; text-decoration-color: #00af00\">334528</span>)         │     <span style=\"color: #00af00; text-decoration-color: #00af00\">1,338,112</span> │\n",
       "│ (<span style=\"color: #0087ff; text-decoration-color: #0087ff\">BatchNormalization</span>)            │                        │               │\n",
       "├─────────────────────────────────┼────────────────────────┼───────────────┤\n",
       "│ dense_1 (<span style=\"color: #0087ff; text-decoration-color: #0087ff\">Dense</span>)                 │ (<span style=\"color: #00d7ff; text-decoration-color: #00d7ff\">None</span>, <span style=\"color: #00af00; text-decoration-color: #00af00\">128</span>)            │    <span style=\"color: #00af00; text-decoration-color: #00af00\">42,819,712</span> │\n",
       "├─────────────────────────────────┼────────────────────────┼───────────────┤\n",
       "│ batch_norm_2                    │ (<span style=\"color: #00d7ff; text-decoration-color: #00d7ff\">None</span>, <span style=\"color: #00af00; text-decoration-color: #00af00\">128</span>)            │           <span style=\"color: #00af00; text-decoration-color: #00af00\">512</span> │\n",
       "│ (<span style=\"color: #0087ff; text-decoration-color: #0087ff\">BatchNormalization</span>)            │                        │               │\n",
       "├─────────────────────────────────┼────────────────────────┼───────────────┤\n",
       "│ output_layer (<span style=\"color: #0087ff; text-decoration-color: #0087ff\">Dense</span>)            │ (<span style=\"color: #00d7ff; text-decoration-color: #00d7ff\">None</span>, <span style=\"color: #00af00; text-decoration-color: #00af00\">15</span>)             │         <span style=\"color: #00af00; text-decoration-color: #00af00\">1,935</span> │\n",
       "└─────────────────────────────────┴────────────────────────┴───────────────┘\n",
       "</pre>\n"
      ],
      "text/plain": [
       "┏━━━━━━━━━━━━━━━━━━━━━━━━━━━━━━━━━┳━━━━━━━━━━━━━━━━━━━━━━━━┳━━━━━━━━━━━━━━━┓\n",
       "┃\u001b[1m \u001b[0m\u001b[1mLayer (type)                   \u001b[0m\u001b[1m \u001b[0m┃\u001b[1m \u001b[0m\u001b[1mOutput Shape          \u001b[0m\u001b[1m \u001b[0m┃\u001b[1m \u001b[0m\u001b[1m      Param #\u001b[0m\u001b[1m \u001b[0m┃\n",
       "┡━━━━━━━━━━━━━━━━━━━━━━━━━━━━━━━━━╇━━━━━━━━━━━━━━━━━━━━━━━━╇━━━━━━━━━━━━━━━┩\n",
       "│ embedding_layer (\u001b[38;5;33mEmbedding\u001b[0m)     │ (\u001b[38;5;45mNone\u001b[0m, \u001b[38;5;34m5227\u001b[0m, \u001b[38;5;34m64\u001b[0m)       │           \u001b[38;5;34m704\u001b[0m │\n",
       "├─────────────────────────────────┼────────────────────────┼───────────────┤\n",
       "│ flatten_layer (\u001b[38;5;33mFlatten\u001b[0m)         │ (\u001b[38;5;45mNone\u001b[0m, \u001b[38;5;34m334528\u001b[0m)         │             \u001b[38;5;34m0\u001b[0m │\n",
       "├─────────────────────────────────┼────────────────────────┼───────────────┤\n",
       "│ batch_norm_1                    │ (\u001b[38;5;45mNone\u001b[0m, \u001b[38;5;34m334528\u001b[0m)         │     \u001b[38;5;34m1,338,112\u001b[0m │\n",
       "│ (\u001b[38;5;33mBatchNormalization\u001b[0m)            │                        │               │\n",
       "├─────────────────────────────────┼────────────────────────┼───────────────┤\n",
       "│ dense_1 (\u001b[38;5;33mDense\u001b[0m)                 │ (\u001b[38;5;45mNone\u001b[0m, \u001b[38;5;34m128\u001b[0m)            │    \u001b[38;5;34m42,819,712\u001b[0m │\n",
       "├─────────────────────────────────┼────────────────────────┼───────────────┤\n",
       "│ batch_norm_2                    │ (\u001b[38;5;45mNone\u001b[0m, \u001b[38;5;34m128\u001b[0m)            │           \u001b[38;5;34m512\u001b[0m │\n",
       "│ (\u001b[38;5;33mBatchNormalization\u001b[0m)            │                        │               │\n",
       "├─────────────────────────────────┼────────────────────────┼───────────────┤\n",
       "│ output_layer (\u001b[38;5;33mDense\u001b[0m)            │ (\u001b[38;5;45mNone\u001b[0m, \u001b[38;5;34m15\u001b[0m)             │         \u001b[38;5;34m1,935\u001b[0m │\n",
       "└─────────────────────────────────┴────────────────────────┴───────────────┘\n"
      ]
     },
     "metadata": {},
     "output_type": "display_data"
    },
    {
     "data": {
      "text/html": [
       "<pre style=\"white-space:pre;overflow-x:auto;line-height:normal;font-family:Menlo,'DejaVu Sans Mono',consolas,'Courier New',monospace\"><span style=\"font-weight: bold\"> Total params: </span><span style=\"color: #00af00; text-decoration-color: #00af00\">131,144,303</span> (500.28 MB)\n",
       "</pre>\n"
      ],
      "text/plain": [
       "\u001b[1m Total params: \u001b[0m\u001b[38;5;34m131,144,303\u001b[0m (500.28 MB)\n"
      ]
     },
     "metadata": {},
     "output_type": "display_data"
    },
    {
     "data": {
      "text/html": [
       "<pre style=\"white-space:pre;overflow-x:auto;line-height:normal;font-family:Menlo,'DejaVu Sans Mono',consolas,'Courier New',monospace\"><span style=\"font-weight: bold\"> Trainable params: </span><span style=\"color: #00af00; text-decoration-color: #00af00\">43,491,663</span> (165.91 MB)\n",
       "</pre>\n"
      ],
      "text/plain": [
       "\u001b[1m Trainable params: \u001b[0m\u001b[38;5;34m43,491,663\u001b[0m (165.91 MB)\n"
      ]
     },
     "metadata": {},
     "output_type": "display_data"
    },
    {
     "data": {
      "text/html": [
       "<pre style=\"white-space:pre;overflow-x:auto;line-height:normal;font-family:Menlo,'DejaVu Sans Mono',consolas,'Courier New',monospace\"><span style=\"font-weight: bold\"> Non-trainable params: </span><span style=\"color: #00af00; text-decoration-color: #00af00\">669,312</span> (2.55 MB)\n",
       "</pre>\n"
      ],
      "text/plain": [
       "\u001b[1m Non-trainable params: \u001b[0m\u001b[38;5;34m669,312\u001b[0m (2.55 MB)\n"
      ]
     },
     "metadata": {},
     "output_type": "display_data"
    },
    {
     "data": {
      "text/html": [
       "<pre style=\"white-space:pre;overflow-x:auto;line-height:normal;font-family:Menlo,'DejaVu Sans Mono',consolas,'Courier New',monospace\"><span style=\"font-weight: bold\"> Optimizer params: </span><span style=\"color: #00af00; text-decoration-color: #00af00\">86,983,328</span> (331.82 MB)\n",
       "</pre>\n"
      ],
      "text/plain": [
       "\u001b[1m Optimizer params: \u001b[0m\u001b[38;5;34m86,983,328\u001b[0m (331.82 MB)\n"
      ]
     },
     "metadata": {},
     "output_type": "display_data"
    }
   ],
   "source": [
    "model.summary()"
   ]
  },
  {
   "cell_type": "markdown",
   "id": "df8198a4",
   "metadata": {},
   "source": [
    "### **Entrenamiento**"
   ]
  },
  {
   "cell_type": "markdown",
   "id": "2f13af30",
   "metadata": {},
   "source": [
    "#### Uso de lotes (batches)"
   ]
  },
  {
   "cell_type": "code",
   "execution_count": 113,
   "id": "88980abb",
   "metadata": {},
   "outputs": [
    {
     "name": "stdout",
     "output_type": "stream",
     "text": [
      "Epoch 1/30\n"
     ]
    },
    {
     "name": "stderr",
     "output_type": "stream",
     "text": [
      "/home/martingb/Projects/2025/rna_classifier/.venv/lib/python3.12/site-packages/keras/src/layers/layer.py:970: UserWarning: Layer 'flatten_layer' (of type Flatten) was passed an input with a mask attached to it. However, this layer does not support masking and will therefore destroy the mask information. Downstream layers will not see the mask.\n",
      "  warnings.warn(\n"
     ]
    },
    {
     "name": "stdout",
     "output_type": "stream",
     "text": [
      "\u001b[1m67/68\u001b[0m \u001b[32m━━━━━━━━━━━━━━━━━━━\u001b[0m\u001b[37m━\u001b[0m \u001b[1m0s\u001b[0m 28ms/step - accuracy: 0.7557 - loss: 0.2699 - precision_class_0_SRP_RNA: 0.9851 - precision_class_10_riboswitch: 0.9802 - precision_class_11_snRNA: 1.0000 - precision_class_12_snoRNA: 0.8604 - precision_class_13_tRNA: 1.0000 - precision_class_14_transcript: 0.9949 - precision_class_1_enzymatic: 1.0000 - precision_class_2_intron: 1.0000 - precision_class_3_mRNA: 1.0000 - precision_class_4_miRNA: 0.9104 - precision_class_5_mixed: 0.8955 - precision_class_6_ncRNA: 0.9204 - precision_class_7_other: 0.9851 - precision_class_8_piRNA: 0.9851 - precision_class_9_rRNA: 0.9957 - recall_class_0_SRP_RNA: 0.0076 - recall_class_10_riboswitch: 0.0366 - recall_class_11_snRNA: 0.0195 - recall_class_12_snoRNA: 0.0042 - recall_class_13_tRNA: 0.0960 - recall_class_14_transcript: 0.2354 - recall_class_1_enzymatic: 0.0401 - recall_class_2_intron: 0.0117 - recall_class_3_mRNA: 0.0900 - recall_class_4_miRNA: 0.0089 - recall_class_5_mixed: 0.0025 - recall_class_6_ncRNA: 0.0120 - recall_class_7_other: 0.0089 - recall_class_8_piRNA: 0.0154 - recall_class_9_rRNA: 0.2015"
     ]
    },
    {
     "ename": "InvalidArgumentError",
     "evalue": "Graph execution error:\n\nDetected at node strided_slice_21 defined at (most recent call last):\n<stack traces unavailable>\nslice index 6 of dimension 0 out of bounds.\n\nStack trace for op definition: \nFile \"<frozen runpy>\", line 198, in _run_module_as_main\nFile \"<frozen runpy>\", line 88, in _run_code\nFile \"/home/martingb/Projects/2025/rna_classifier/.venv/lib/python3.12/site-packages/ipykernel_launcher.py\", line 18, in <module>\nFile \"/home/martingb/Projects/2025/rna_classifier/.venv/lib/python3.12/site-packages/traitlets/config/application.py\", line 1075, in launch_instance\nFile \"/home/martingb/Projects/2025/rna_classifier/.venv/lib/python3.12/site-packages/ipykernel/kernelapp.py\", line 739, in start\nFile \"/home/martingb/Projects/2025/rna_classifier/.venv/lib/python3.12/site-packages/tornado/platform/asyncio.py\", line 211, in start\nFile \"/home/martingb/.local/share/uv/python/cpython-3.12.11-linux-x86_64-gnu/lib/python3.12/asyncio/base_events.py\", line 645, in run_forever\nFile \"/home/martingb/.local/share/uv/python/cpython-3.12.11-linux-x86_64-gnu/lib/python3.12/asyncio/base_events.py\", line 1999, in _run_once\nFile \"/home/martingb/.local/share/uv/python/cpython-3.12.11-linux-x86_64-gnu/lib/python3.12/asyncio/events.py\", line 88, in _run\nFile \"/home/martingb/Projects/2025/rna_classifier/.venv/lib/python3.12/site-packages/ipykernel/kernelbase.py\", line 519, in dispatch_queue\nFile \"/home/martingb/Projects/2025/rna_classifier/.venv/lib/python3.12/site-packages/ipykernel/kernelbase.py\", line 508, in process_one\nFile \"/home/martingb/Projects/2025/rna_classifier/.venv/lib/python3.12/site-packages/ipykernel/kernelbase.py\", line 400, in dispatch_shell\nFile \"/home/martingb/Projects/2025/rna_classifier/.venv/lib/python3.12/site-packages/ipykernel/ipkernel.py\", line 368, in execute_request\nFile \"/home/martingb/Projects/2025/rna_classifier/.venv/lib/python3.12/site-packages/ipykernel/kernelbase.py\", line 767, in execute_request\nFile \"/home/martingb/Projects/2025/rna_classifier/.venv/lib/python3.12/site-packages/ipykernel/ipkernel.py\", line 455, in do_execute\nFile \"/home/martingb/Projects/2025/rna_classifier/.venv/lib/python3.12/site-packages/ipykernel/zmqshell.py\", line 577, in run_cell\nFile \"/home/martingb/Projects/2025/rna_classifier/.venv/lib/python3.12/site-packages/IPython/core/interactiveshell.py\", line 3116, in run_cell\nFile \"/home/martingb/Projects/2025/rna_classifier/.venv/lib/python3.12/site-packages/IPython/core/interactiveshell.py\", line 3171, in _run_cell\nFile \"/home/martingb/Projects/2025/rna_classifier/.venv/lib/python3.12/site-packages/IPython/core/async_helpers.py\", line 128, in _pseudo_sync_runner\nFile \"/home/martingb/Projects/2025/rna_classifier/.venv/lib/python3.12/site-packages/IPython/core/interactiveshell.py\", line 3394, in run_cell_async\nFile \"/home/martingb/Projects/2025/rna_classifier/.venv/lib/python3.12/site-packages/IPython/core/interactiveshell.py\", line 3639, in run_ast_nodes\nFile \"/home/martingb/Projects/2025/rna_classifier/.venv/lib/python3.12/site-packages/IPython/core/interactiveshell.py\", line 3699, in run_code\nFile \"/tmp/ipykernel_3276855/2693328805.py\", line 1, in <module>\nFile \"/home/martingb/Projects/2025/rna_classifier/.venv/lib/python3.12/site-packages/keras/src/utils/traceback_utils.py\", line 117, in error_handler\nFile \"/home/martingb/Projects/2025/rna_classifier/.venv/lib/python3.12/site-packages/keras/src/backend/tensorflow/trainer.py\", line 377, in fit\nFile \"/home/martingb/Projects/2025/rna_classifier/.venv/lib/python3.12/site-packages/keras/src/backend/tensorflow/trainer.py\", line 220, in function\nFile \"/home/martingb/Projects/2025/rna_classifier/.venv/lib/python3.12/site-packages/keras/src/backend/tensorflow/trainer.py\", line 133, in multi_step_on_iterator\nFile \"/home/martingb/Projects/2025/rna_classifier/.venv/lib/python3.12/site-packages/keras/src/backend/tensorflow/trainer.py\", line 114, in one_step_on_data\nFile \"/home/martingb/Projects/2025/rna_classifier/.venv/lib/python3.12/site-packages/keras/src/backend/tensorflow/trainer.py\", line 85, in train_step\nFile \"/home/martingb/Projects/2025/rna_classifier/.venv/lib/python3.12/site-packages/keras/src/trainers/trainer.py\", line 490, in compute_metrics\nFile \"/home/martingb/Projects/2025/rna_classifier/.venv/lib/python3.12/site-packages/keras/src/trainers/compile_utils.py\", line 334, in update_state\nFile \"/home/martingb/Projects/2025/rna_classifier/.venv/lib/python3.12/site-packages/keras/src/trainers/compile_utils.py\", line 21, in update_state\nFile \"/home/martingb/Projects/2025/rna_classifier/.venv/lib/python3.12/site-packages/keras/src/metrics/confusion_metrics.py\", line 378, in update_state\nFile \"/home/martingb/Projects/2025/rna_classifier/.venv/lib/python3.12/site-packages/keras/src/metrics/metrics_utils.py\", line 480, in update_confusion_matrix_variables\n\n\t [[{{node strided_slice_21}}]]\n\ttf2xla conversion failed while converting __inference_one_step_on_data_88089[]. Run with TF_DUMP_GRAPH_PREFIX=/path/to/dump/dir and --vmodule=xla_compiler=2 to obtain a dump of the compiled functions.\n\t [[StatefulPartitionedCall]] [Op:__inference_multi_step_on_iterator_88318]",
     "output_type": "error",
     "traceback": [
      "\u001b[31m---------------------------------------------------------------------------\u001b[39m",
      "\u001b[31mInvalidArgumentError\u001b[39m                      Traceback (most recent call last)",
      "\u001b[36mCell\u001b[39m\u001b[36m \u001b[39m\u001b[32mIn[113]\u001b[39m\u001b[32m, line 1\u001b[39m\n\u001b[32m----> \u001b[39m\u001b[32m1\u001b[39m history  =  \u001b[43mmodel\u001b[49m\u001b[43m.\u001b[49m\u001b[43mfit\u001b[49m\u001b[43m(\u001b[49m\u001b[43m \u001b[49m\u001b[43mx\u001b[49m\u001b[43m                \u001b[49m\u001b[43m=\u001b[49m\u001b[43m \u001b[49m\u001b[43msequences_embed_padded\u001b[49m\u001b[43m \u001b[49m\u001b[38;5;66;43;03m# Secuencias con padding para entrenamiento\u001b[39;49;00m\n\u001b[32m      2\u001b[39m \u001b[43m                    \u001b[49m\u001b[43m,\u001b[49m\u001b[43m  \u001b[49m\u001b[43my\u001b[49m\u001b[43m                \u001b[49m\u001b[43m=\u001b[49m\u001b[43m \u001b[49m\u001b[43mnp\u001b[49m\u001b[43m.\u001b[49m\u001b[43marray\u001b[49m\u001b[43m(\u001b[49m\u001b[43mlabels\u001b[49m\u001b[43m)\u001b[49m\u001b[43m            \u001b[49m\u001b[38;5;66;43;03m# Etiquetas para entrenamiento\u001b[39;49;00m\n\u001b[32m      3\u001b[39m \u001b[43m                    \u001b[49m\u001b[43m,\u001b[49m\u001b[43m  \u001b[49m\u001b[43mbatch_size\u001b[49m\u001b[43m       \u001b[49m\u001b[43m=\u001b[49m\u001b[43m \u001b[49m\u001b[32;43m32\u001b[39;49m\u001b[43m                     \u001b[49m\u001b[38;5;66;43;03m# Tamaño del lote de entrenamiento. Esto es arbitrario. Uso 32 secuencias para cada lote por motivos de memoria y rendimiento.\u001b[39;49;00m\n\u001b[32m      4\u001b[39m \u001b[43m                    \u001b[49m\u001b[43m,\u001b[49m\u001b[43m  \u001b[49m\u001b[43mepochs\u001b[49m\u001b[43m           \u001b[49m\u001b[43m=\u001b[49m\u001b[43m \u001b[49m\u001b[32;43m30\u001b[39;49m\u001b[43m                     \u001b[49m\u001b[38;5;66;43;03m# Número de épocas\u001b[39;49;00m\n\u001b[32m      5\u001b[39m \u001b[43m                    \u001b[49m\u001b[43m,\u001b[49m\u001b[43m  \u001b[49m\u001b[43mverbose\u001b[49m\u001b[43m          \u001b[49m\u001b[43m=\u001b[49m\u001b[43m \u001b[49m\u001b[38;5;28;43;01mTrue\u001b[39;49;00m\u001b[43m                   \u001b[49m\u001b[38;5;66;43;03m# Verbosidad del entrenamiento\u001b[39;49;00m\n\u001b[32m      6\u001b[39m \u001b[43m                    \u001b[49m\u001b[43m,\u001b[49m\u001b[43m  \u001b[49m\u001b[43mvalidation_split\u001b[49m\u001b[43m \u001b[49m\u001b[43m=\u001b[49m\u001b[43m \u001b[49m\u001b[32;43m0.2\u001b[39;49m\u001b[43m                    \u001b[49m\u001b[38;5;66;43;03m# Proporción de datos para validación\u001b[39;49;00m\n\u001b[32m      7\u001b[39m \u001b[43m                    \u001b[49m\u001b[43m,\u001b[49m\u001b[43m  \u001b[49m\u001b[43mclass_weight\u001b[49m\u001b[43m     \u001b[49m\u001b[43m=\u001b[49m\u001b[43m \u001b[49m\u001b[43mclass_weight_dict\u001b[49m\u001b[43m      \u001b[49m\u001b[38;5;66;43;03m# Diccionario de balanceo (sección 'Balanceo de clases')\u001b[39;49;00m\n\u001b[32m      8\u001b[39m \u001b[43m                    \u001b[49m\u001b[43m,\u001b[49m\u001b[43m  \u001b[49m\u001b[43mcallbacks\u001b[49m\u001b[43m        \u001b[49m\u001b[43m=\u001b[49m\u001b[43m \u001b[49m\u001b[43mcallbacks\u001b[49m\u001b[43m \u001b[49m\u001b[43m)\u001b[49m            \u001b[38;5;66;03m# Lista de callbacks para monitoreo del entrenamiento\u001b[39;00m\n",
      "\u001b[36mFile \u001b[39m\u001b[32m~/Projects/2025/rna_classifier/.venv/lib/python3.12/site-packages/keras/src/utils/traceback_utils.py:122\u001b[39m, in \u001b[36mfilter_traceback.<locals>.error_handler\u001b[39m\u001b[34m(*args, **kwargs)\u001b[39m\n\u001b[32m    119\u001b[39m     filtered_tb = _process_traceback_frames(e.__traceback__)\n\u001b[32m    120\u001b[39m     \u001b[38;5;66;03m# To get the full stack trace, call:\u001b[39;00m\n\u001b[32m    121\u001b[39m     \u001b[38;5;66;03m# `keras.config.disable_traceback_filtering()`\u001b[39;00m\n\u001b[32m--> \u001b[39m\u001b[32m122\u001b[39m     \u001b[38;5;28;01mraise\u001b[39;00m e.with_traceback(filtered_tb) \u001b[38;5;28;01mfrom\u001b[39;00m\u001b[38;5;250m \u001b[39m\u001b[38;5;28;01mNone\u001b[39;00m\n\u001b[32m    123\u001b[39m \u001b[38;5;28;01mfinally\u001b[39;00m:\n\u001b[32m    124\u001b[39m     \u001b[38;5;28;01mdel\u001b[39;00m filtered_tb\n",
      "\u001b[36mFile \u001b[39m\u001b[32m~/Projects/2025/rna_classifier/.venv/lib/python3.12/site-packages/tensorflow/python/eager/execute.py:53\u001b[39m, in \u001b[36mquick_execute\u001b[39m\u001b[34m(op_name, num_outputs, inputs, attrs, ctx, name)\u001b[39m\n\u001b[32m     51\u001b[39m \u001b[38;5;28;01mtry\u001b[39;00m:\n\u001b[32m     52\u001b[39m   ctx.ensure_initialized()\n\u001b[32m---> \u001b[39m\u001b[32m53\u001b[39m   tensors = pywrap_tfe.TFE_Py_Execute(ctx._handle, device_name, op_name,\n\u001b[32m     54\u001b[39m                                       inputs, attrs, num_outputs)\n\u001b[32m     55\u001b[39m \u001b[38;5;28;01mexcept\u001b[39;00m core._NotOkStatusException \u001b[38;5;28;01mas\u001b[39;00m e:\n\u001b[32m     56\u001b[39m   \u001b[38;5;28;01mif\u001b[39;00m name \u001b[38;5;129;01mis\u001b[39;00m \u001b[38;5;129;01mnot\u001b[39;00m \u001b[38;5;28;01mNone\u001b[39;00m:\n",
      "\u001b[31mInvalidArgumentError\u001b[39m: Graph execution error:\n\nDetected at node strided_slice_21 defined at (most recent call last):\n<stack traces unavailable>\nslice index 6 of dimension 0 out of bounds.\n\nStack trace for op definition: \nFile \"<frozen runpy>\", line 198, in _run_module_as_main\nFile \"<frozen runpy>\", line 88, in _run_code\nFile \"/home/martingb/Projects/2025/rna_classifier/.venv/lib/python3.12/site-packages/ipykernel_launcher.py\", line 18, in <module>\nFile \"/home/martingb/Projects/2025/rna_classifier/.venv/lib/python3.12/site-packages/traitlets/config/application.py\", line 1075, in launch_instance\nFile \"/home/martingb/Projects/2025/rna_classifier/.venv/lib/python3.12/site-packages/ipykernel/kernelapp.py\", line 739, in start\nFile \"/home/martingb/Projects/2025/rna_classifier/.venv/lib/python3.12/site-packages/tornado/platform/asyncio.py\", line 211, in start\nFile \"/home/martingb/.local/share/uv/python/cpython-3.12.11-linux-x86_64-gnu/lib/python3.12/asyncio/base_events.py\", line 645, in run_forever\nFile \"/home/martingb/.local/share/uv/python/cpython-3.12.11-linux-x86_64-gnu/lib/python3.12/asyncio/base_events.py\", line 1999, in _run_once\nFile \"/home/martingb/.local/share/uv/python/cpython-3.12.11-linux-x86_64-gnu/lib/python3.12/asyncio/events.py\", line 88, in _run\nFile \"/home/martingb/Projects/2025/rna_classifier/.venv/lib/python3.12/site-packages/ipykernel/kernelbase.py\", line 519, in dispatch_queue\nFile \"/home/martingb/Projects/2025/rna_classifier/.venv/lib/python3.12/site-packages/ipykernel/kernelbase.py\", line 508, in process_one\nFile \"/home/martingb/Projects/2025/rna_classifier/.venv/lib/python3.12/site-packages/ipykernel/kernelbase.py\", line 400, in dispatch_shell\nFile \"/home/martingb/Projects/2025/rna_classifier/.venv/lib/python3.12/site-packages/ipykernel/ipkernel.py\", line 368, in execute_request\nFile \"/home/martingb/Projects/2025/rna_classifier/.venv/lib/python3.12/site-packages/ipykernel/kernelbase.py\", line 767, in execute_request\nFile \"/home/martingb/Projects/2025/rna_classifier/.venv/lib/python3.12/site-packages/ipykernel/ipkernel.py\", line 455, in do_execute\nFile \"/home/martingb/Projects/2025/rna_classifier/.venv/lib/python3.12/site-packages/ipykernel/zmqshell.py\", line 577, in run_cell\nFile \"/home/martingb/Projects/2025/rna_classifier/.venv/lib/python3.12/site-packages/IPython/core/interactiveshell.py\", line 3116, in run_cell\nFile \"/home/martingb/Projects/2025/rna_classifier/.venv/lib/python3.12/site-packages/IPython/core/interactiveshell.py\", line 3171, in _run_cell\nFile \"/home/martingb/Projects/2025/rna_classifier/.venv/lib/python3.12/site-packages/IPython/core/async_helpers.py\", line 128, in _pseudo_sync_runner\nFile \"/home/martingb/Projects/2025/rna_classifier/.venv/lib/python3.12/site-packages/IPython/core/interactiveshell.py\", line 3394, in run_cell_async\nFile \"/home/martingb/Projects/2025/rna_classifier/.venv/lib/python3.12/site-packages/IPython/core/interactiveshell.py\", line 3639, in run_ast_nodes\nFile \"/home/martingb/Projects/2025/rna_classifier/.venv/lib/python3.12/site-packages/IPython/core/interactiveshell.py\", line 3699, in run_code\nFile \"/tmp/ipykernel_3276855/2693328805.py\", line 1, in <module>\nFile \"/home/martingb/Projects/2025/rna_classifier/.venv/lib/python3.12/site-packages/keras/src/utils/traceback_utils.py\", line 117, in error_handler\nFile \"/home/martingb/Projects/2025/rna_classifier/.venv/lib/python3.12/site-packages/keras/src/backend/tensorflow/trainer.py\", line 377, in fit\nFile \"/home/martingb/Projects/2025/rna_classifier/.venv/lib/python3.12/site-packages/keras/src/backend/tensorflow/trainer.py\", line 220, in function\nFile \"/home/martingb/Projects/2025/rna_classifier/.venv/lib/python3.12/site-packages/keras/src/backend/tensorflow/trainer.py\", line 133, in multi_step_on_iterator\nFile \"/home/martingb/Projects/2025/rna_classifier/.venv/lib/python3.12/site-packages/keras/src/backend/tensorflow/trainer.py\", line 114, in one_step_on_data\nFile \"/home/martingb/Projects/2025/rna_classifier/.venv/lib/python3.12/site-packages/keras/src/backend/tensorflow/trainer.py\", line 85, in train_step\nFile \"/home/martingb/Projects/2025/rna_classifier/.venv/lib/python3.12/site-packages/keras/src/trainers/trainer.py\", line 490, in compute_metrics\nFile \"/home/martingb/Projects/2025/rna_classifier/.venv/lib/python3.12/site-packages/keras/src/trainers/compile_utils.py\", line 334, in update_state\nFile \"/home/martingb/Projects/2025/rna_classifier/.venv/lib/python3.12/site-packages/keras/src/trainers/compile_utils.py\", line 21, in update_state\nFile \"/home/martingb/Projects/2025/rna_classifier/.venv/lib/python3.12/site-packages/keras/src/metrics/confusion_metrics.py\", line 378, in update_state\nFile \"/home/martingb/Projects/2025/rna_classifier/.venv/lib/python3.12/site-packages/keras/src/metrics/metrics_utils.py\", line 480, in update_confusion_matrix_variables\n\n\t [[{{node strided_slice_21}}]]\n\ttf2xla conversion failed while converting __inference_one_step_on_data_88089[]. Run with TF_DUMP_GRAPH_PREFIX=/path/to/dump/dir and --vmodule=xla_compiler=2 to obtain a dump of the compiled functions.\n\t [[StatefulPartitionedCall]] [Op:__inference_multi_step_on_iterator_88318]"
     ]
    }
   ],
   "source": [
    "history  =  model.fit( x                = sequences_embed_padded # Secuencias con padding para entrenamiento\n",
    "                    ,  y                = np.array(labels)            # Etiquetas para entrenamiento\n",
    "                    ,  batch_size       = 32                     # Tamaño del lote de entrenamiento. Esto es arbitrario. Uso 32 secuencias para cada lote por motivos de memoria y rendimiento.\n",
    "                    ,  epochs           = 30                     # Número de épocas\n",
    "                    ,  verbose          = True                   # Verbosidad del entrenamiento\n",
    "                    ,  validation_split = 0.2                    # Proporción de datos para validación\n",
    "                    ,  class_weight     = class_weight_dict      # Diccionario de balanceo (sección 'Balanceo de clases')\n",
    "                    ,  callbacks        = callbacks )            # Lista de callbacks para monitoreo del entrenamiento\n"
   ]
  },
  {
   "cell_type": "markdown",
   "id": "cd39a29c",
   "metadata": {},
   "source": [
    "### **Evaluación**"
   ]
  },
  {
   "cell_type": "code",
   "execution_count": 106,
   "id": "9b26e551",
   "metadata": {},
   "outputs": [
    {
     "data": {
      "text/plain": [
       "[0.5446511507034302,\n",
       " 0.5144186019897461,\n",
       " 0.5106976628303528,\n",
       " 0.5837209224700928,\n",
       " 0.5841860175132751,\n",
       " 0.6190697550773621,\n",
       " 0.6297674179077148,\n",
       " 0.630232572555542,\n",
       " 0.6930232644081116,\n",
       " 0.6958139538764954]"
      ]
     },
     "execution_count": 106,
     "metadata": {},
     "output_type": "execute_result"
    }
   ],
   "source": [
    "history.history['accuracy']"
   ]
  },
  {
   "cell_type": "markdown",
   "id": "711aaa5e",
   "metadata": {},
   "source": [
    "### **Predicción**"
   ]
  },
  {
   "cell_type": "markdown",
   "id": "7c88be3c",
   "metadata": {},
   "source": [
    "result = model.predict(...)"
   ]
  },
  {
   "cell_type": "markdown",
   "id": "62ab6562",
   "metadata": {},
   "source": [
    "# **Almacenamiento del modelo**\n",
    "\n",
    "Documentación oficial:\n",
    "- https://keras.io/guides/serialization_and_saving/\n",
    "- https://keras.io/api/models/model_saving_apis/model_saving_and_loading/#whole-model-saving-amp-loading\n",
    "\n",
    "Keras soporta el formato HDF5 para guardar modelos completos. También soporta el formato 'tf' (TensorFlow SavedModel)  \n",
    "HDF5 es un formato de archivo que permite almacenar grandes cantidades de datos de manera eficiente.  \n",
    "\n",
    "Un archivo HDF5 contiene:\n",
    "- Los pesos del modelo.\n",
    "- La arquitectura del modelo, permitiendo recrear el modelo."
   ]
  },
  {
   "cell_type": "markdown",
   "id": "74b1f3fa",
   "metadata": {},
   "source": [
    "### Almacenamiento del modelo"
   ]
  },
  {
   "cell_type": "code",
   "execution_count": null,
   "id": "c74dfb04",
   "metadata": {},
   "outputs": [],
   "source": [
    "from datetime import datetime\n",
    "# Time format: YYYYMMDD-HHMMSS\n",
    "dt = datetime.now().strftime(\"%Y%m%d-%H%M%S\")\n",
    "\n",
    "model.save(filepath    = f\"{dt}_rna_classifier_model.keras\"\n",
    "        ,  save_format = 'h5'\n",
    "        ,  zipped      = True       # Whether to save the model as a zipped .keras archive (default when saving locally), or as an unzipped directory (default when saving on the Hugging Face Hub).\n",
    "        ,  overwrite   = True )"
   ]
  },
  {
   "cell_type": "markdown",
   "id": "2e0d132d",
   "metadata": {},
   "source": [
    "### Almacenamiento de pesos"
   ]
  },
  {
   "cell_type": "code",
   "execution_count": null,
   "id": "6e3b94d1",
   "metadata": {},
   "outputs": [],
   "source": [
    "# https://keras.io/api/models/model_saving_apis/weights_saving_and_loading/#saveweights-method\n",
    "model.save_weights(filepath       = f\"{dt}_rna_classifier_model_weights.h5\"\n",
    "                ,  overwrite      = True\n",
    "                ,  max_shard_size = None)       # If not None, the weights will be saved in multiple shards of up to max_shard_size GB each."
   ]
  },
  {
   "cell_type": "markdown",
   "id": "ae23d393",
   "metadata": {},
   "source": [
    "### Almacenamiento de arquitectura"
   ]
  },
  {
   "cell_type": "code",
   "execution_count": null,
   "id": "b3bed307",
   "metadata": {},
   "outputs": [],
   "source": [
    "with open(f\"{dt}_rna_classifier_model_architecture.json\", \"w\") as json_file:\n",
    "    json_file.write(model.to_json())"
   ]
  },
  {
   "cell_type": "markdown",
   "id": "7e6d93c3",
   "metadata": {},
   "source": [
    "# **Recupero del modelo**"
   ]
  },
  {
   "cell_type": "markdown",
   "id": "8b294300",
   "metadata": {},
   "source": [
    "### Recupero de arquitectura"
   ]
  },
  {
   "cell_type": "code",
   "execution_count": null,
   "id": "6271a862",
   "metadata": {},
   "outputs": [],
   "source": [
    "# Loads a model saved via model.save()\n",
    "# https://keras.io/api/models/model_saving_apis/model_saving_and_loading/#loadmodel-function\n",
    "model = keras.saving.load_model(...)"
   ]
  },
  {
   "cell_type": "markdown",
   "id": "d93cfe66",
   "metadata": {},
   "source": [
    "### Recupero de pesos"
   ]
  },
  {
   "cell_type": "code",
   "execution_count": null,
   "id": "4d2c9577",
   "metadata": {},
   "outputs": [],
   "source": [
    "# https://keras.io/api/models/model_saving_apis/weights_saving_and_loading/#load_weights-method\n",
    "# NOte: Sharding\n",
    "# When loading sharded weights, it is important to specify filepath that ends with *.weights.json\n",
    "# which is used as the configuration file. Additionally, the sharded files *_xxxxx.weights.h5 must\n",
    "# be in the same directory as the configuration file.\n",
    "\n",
    "Model.load_weights(filepath      = f\"{dt}_rna_classifier_model_weights.h5\"\n",
    "                ,  skip_mismatch = False )"
   ]
  },
  {
   "cell_type": "markdown",
   "id": "ba471bd0",
   "metadata": {},
   "source": []
  }
 ],
 "metadata": {
  "kernelspec": {
   "display_name": ".venv",
   "language": "python",
   "name": "python3"
  },
  "language_info": {
   "codemirror_mode": {
    "name": "ipython",
    "version": 3
   },
   "file_extension": ".py",
   "mimetype": "text/x-python",
   "name": "python",
   "nbconvert_exporter": "python",
   "pygments_lexer": "ipython3",
   "version": "3.12.11"
  }
 },
 "nbformat": 4,
 "nbformat_minor": 5
}
