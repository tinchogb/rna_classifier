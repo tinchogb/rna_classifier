{
 "cells": [
  {
   "cell_type": "markdown",
   "id": "c198b22d",
   "metadata": {},
   "source": [
    "# **Imports**"
   ]
  },
  {
   "cell_type": "code",
   "execution_count": null,
   "id": "f47c085a",
   "metadata": {},
   "outputs": [],
   "source": [
    "import os\n",
    "import glob\n",
    "from datetime import datetime\n",
    "import pandas as pd\n",
    "import numpy as np\n",
    "import matplotlib.pyplot as plt\n",
    "\n",
    "os.environ['TF_ENABLE_ONEDNN_OPTS'] = '0'\n",
    "os.environ['TF_CPP_MIN_LOG_LEVEL']  = '2' # Message for 'AVX2 AVX_VNNI FMA'\n",
    "# Importar 'pad_sequences' luego de setear las variables de entorno\n",
    "import keras\n",
    "# from keras import layers\n",
    "# from keras import regularizers\n",
    "from keras.utils import pad_sequences\n",
    "from keras.models import Sequential, Model\n",
    "from keras.callbacks import Callback, EarlyStopping\n",
    "from keras.layers import Input, InputLayer, Embedding, Dense, Flatten, BatchNormalization, Conv2D, MaxPooling2D, GlobalAveragePooling2D\n",
    "\n",
    "import tensorflow as tf\n",
    "\n",
    "from sklearn.preprocessing import LabelEncoder\n",
    "from sklearn.utils.class_weight import compute_class_weight\n",
    "from sklearn.model_selection import train_test_split"
   ]
  },
  {
   "cell_type": "markdown",
   "id": "fb5bce60",
   "metadata": {},
   "source": [
    "> 2025-09-12 17:40:02.086521: I tensorflow/core/util/port.cc:153] oneDNN custom operations are on. You may see slightly different numerical results due to floating-point round-off errors from different computation orders. To turn them off, set the environment variable `TF_ENABLE_ONEDNN_OPTS=0`.\n",
    "\n",
    "> 2025-09-12 17:40:02.123636: I tensorflow/core/platform/cpu_feature_guard.cc:210] This TensorFlow binary is optimized to use available CPU instructions in performance-critical operations.\n",
    "\n",
    "> To enable the following instructions: AVX2 AVX_VNNI FMA, in other operations, rebuild TensorFlow with the appropriate compiler flags.\n",
    "\n",
    "> 2025-09-12 17:40:05.381473: I tensorflow/core/util/port.cc:153] oneDNN custom operations are on. You may see slightly different numerical results due to floating-point round-off errors from different computation orders. To turn them off, set the environment variable `TF_ENABLE_ONEDNN_OPTS=0`."
   ]
  },
  {
   "cell_type": "markdown",
   "id": "ead49fbe",
   "metadata": {},
   "source": [
    "# **Dataset**"
   ]
  },
  {
   "cell_type": "code",
   "execution_count": 2,
   "id": "29e8103f",
   "metadata": {},
   "outputs": [],
   "source": [
    "dataset = pd.read_csv(\"../../data/2025-09_cdrna_sequences_clean.tsv.gz\", sep=\"\\t\")"
   ]
  },
  {
   "cell_type": "code",
   "execution_count": 3,
   "id": "ac6f1390",
   "metadata": {},
   "outputs": [
    {
     "data": {
      "text/plain": [
       "rna_type_cdrna\n",
       "transcript    1648\n",
       "rRNA           681\n",
       "tRNA           366\n",
       "mRNA           266\n",
       "riboswitch     128\n",
       "enzymatic       82\n",
       "snRNA           44\n",
       "ncRNA           43\n",
       "intron          24\n",
       "SRP_RNA         21\n",
       "other           18\n",
       "mixed           12\n",
       "piRNA           10\n",
       "miRNA           10\n",
       "snoRNA           8\n",
       "Name: count, dtype: int64"
      ]
     },
     "execution_count": 3,
     "metadata": {},
     "output_type": "execute_result"
    }
   ],
   "source": [
    "dataset.rna_type_cdrna.value_counts(dropna=False)\n"
   ]
  },
  {
   "cell_type": "markdown",
   "id": "55f882b4",
   "metadata": {},
   "source": [
    "## Procesamiento"
   ]
  },
  {
   "cell_type": "code",
   "execution_count": 4,
   "id": "4f5a8dd5",
   "metadata": {},
   "outputs": [],
   "source": [
    "bases = set().union(*dataset.seqres_can.map(set))\n",
    "max_length = dataset.seqres_can.map(len).max()"
   ]
  },
  {
   "cell_type": "code",
   "execution_count": 5,
   "id": "4eef9ecd",
   "metadata": {},
   "outputs": [
    {
     "data": {
      "text/plain": [
       "{'A', 'C', 'F', 'G', 'I', 'M', 'N', 'U', 'W', 'X'}"
      ]
     },
     "execution_count": 5,
     "metadata": {},
     "output_type": "execute_result"
    }
   ],
   "source": [
    "bases"
   ]
  },
  {
   "cell_type": "code",
   "execution_count": 6,
   "id": "05b4f4ad",
   "metadata": {},
   "outputs": [
    {
     "data": {
      "text/plain": [
       "np.int64(5227)"
      ]
     },
     "execution_count": 6,
     "metadata": {},
     "output_type": "execute_result"
    }
   ],
   "source": [
    "max_length"
   ]
  },
  {
   "cell_type": "code",
   "execution_count": 7,
   "id": "84cdf5e3",
   "metadata": {},
   "outputs": [
    {
     "data": {
      "text/plain": [
       "<Axes: title={'center': 'Sequence Length Distribution'}, xlabel='Sequence Length', ylabel='Frequency'>"
      ]
     },
     "execution_count": 7,
     "metadata": {},
     "output_type": "execute_result"
    },
    {
     "data": {
      "image/png": "[encoded data removed]",
      "text/plain": [
       "<Figure size 640x480 with 1 Axes>"
      ]
     },
     "metadata": {},
     "output_type": "display_data"
    }
   ],
   "source": [
    "# Length distribution\n",
    "dataset.seqres_can.map(len).plot.hist(bins=20, grid=True, xlabel=\"Sequence Length\", title=\"Sequence Length Distribution\")"
   ]
  },
  {
   "cell_type": "markdown",
   "id": "08384ba1",
   "metadata": {},
   "source": [
    "## **Separación**"
   ]
  },
  {
   "cell_type": "code",
   "execution_count": 191,
   "id": "70fbdd51",
   "metadata": {},
   "outputs": [],
   "source": [
    "# Separamos los datos en train y test\n",
    "# El 20% de los datos para test\n",
    "# Oficial doc: https://scikit-learn.org/stable/modules/generated/sklearn.model_selection.train_test_split.html\n",
    "x_data_train, x_data_test, y_data_train, y_data_test = train_test_split(  dataset.seqres_can        # sequence of indexables with same length / shape[0]\n",
    "                                                                        , dataset.rna_type_cdrna    # Labels for the data\n",
    "                                                                        , test_size    = 0.2        # represent the proportion of the dataset to include in the test split\n",
    "                                                                        , stratify     = dataset.rna_type_cdrna  # Ensures that the split is stratified based on the target variable\n",
    "                                                                        , shuffle      = True       # Whether or not to shuffle the data before splitting.\n",
    "                                                                        , random_state = 42 )   # Controls the shuffling applied to the data before applying the split."
   ]
  },
  {
   "cell_type": "code",
   "execution_count": 192,
   "id": "a2d489d6",
   "metadata": {},
   "outputs": [
    {
     "data": {
      "text/plain": [
       "((2688,), (673,))"
      ]
     },
     "execution_count": 192,
     "metadata": {},
     "output_type": "execute_result"
    }
   ],
   "source": [
    "x_data_train.shape, x_data_test.shape"
   ]
  },
  {
   "cell_type": "code",
   "execution_count": 193,
   "id": "a91320e7",
   "metadata": {},
   "outputs": [
    {
     "name": "stdout",
     "output_type": "stream",
     "text": [
      "Number of unique RNA types in training set: 15\n",
      "Number of unique RNA types in test set: 15\n"
     ]
    }
   ],
   "source": [
    "print(f\"Number of unique RNA types in training set: {y_data_train.nunique()}\")\n",
    "print(f\"Number of unique RNA types in test set: {y_data_test.nunique()}\")"
   ]
  },
  {
   "cell_type": "code",
   "execution_count": 195,
   "id": "9f2eff30",
   "metadata": {},
   "outputs": [
    {
     "name": "stdout",
     "output_type": "stream",
     "text": [
      "Largest RNA sequence in training set: 5227\n",
      "Largest RNA sequence in test set: 5070\n"
     ]
    }
   ],
   "source": [
    "print(f\"Largest RNA sequence in training set: {x_data_train.map(len).max()}\")\n",
    "print(f\"Largest RNA sequence in test set: {x_data_test.map(len).max()}\")"
   ]
  },
  {
   "cell_type": "code",
   "execution_count": 196,
   "id": "75acecd1",
   "metadata": {},
   "outputs": [
    {
     "data": {
      "text/plain": [
       "rna_type_cdrna\n",
       "transcript    1318\n",
       "rRNA           545\n",
       "tRNA           293\n",
       "mRNA           213\n",
       "riboswitch     102\n",
       "enzymatic       66\n",
       "snRNA           35\n",
       "ncRNA           34\n",
       "intron          19\n",
       "SRP_RNA         17\n",
       "other           14\n",
       "mixed           10\n",
       "miRNA            8\n",
       "piRNA            8\n",
       "snoRNA           6\n",
       "Name: count, dtype: int64"
      ]
     },
     "execution_count": 196,
     "metadata": {},
     "output_type": "execute_result"
    }
   ],
   "source": [
    "y_data_train.value_counts(dropna=False)"
   ]
  },
  {
   "cell_type": "code",
   "execution_count": 197,
   "id": "583748f6",
   "metadata": {},
   "outputs": [
    {
     "data": {
      "text/plain": [
       "rna_type_cdrna\n",
       "transcript    330\n",
       "rRNA          136\n",
       "tRNA           73\n",
       "mRNA           53\n",
       "riboswitch     26\n",
       "enzymatic      16\n",
       "ncRNA           9\n",
       "snRNA           9\n",
       "intron          5\n",
       "SRP_RNA         4\n",
       "other           4\n",
       "piRNA           2\n",
       "mixed           2\n",
       "miRNA           2\n",
       "snoRNA          2\n",
       "Name: count, dtype: int64"
      ]
     },
     "execution_count": 197,
     "metadata": {},
     "output_type": "execute_result"
    }
   ],
   "source": [
    "y_data_test.value_counts(dropna=False)"
   ]
  },
  {
   "cell_type": "markdown",
   "id": "786d1d3b",
   "metadata": {},
   "source": [
    "### **Secuencias**"
   ]
  },
  {
   "cell_type": "markdown",
   "id": "a405b40b",
   "metadata": {},
   "source": [
    "#### Convertir secuencias a one-hot encoding"
   ]
  },
  {
   "cell_type": "code",
   "execution_count": null,
   "id": "d5982ef5",
   "metadata": {},
   "outputs": [],
   "source": [
    "def one_hot_seq_encode(sequence: str, map_onehot=dict) -> np.ndarray:\n",
    "    \"\"\"\n",
    "    One-hot encodes a sequence using a provided mapping.\n",
    "\n",
    "    Parameters:\n",
    "\n",
    "                * sequence (str): The sequence to encode\n",
    "                * map_onehot (dict): The residue mapping for one-hot encoding (keys are one-letter residues in uppercase, values are lists of 0s and 1s)\n",
    "\n",
    "    Returns: np.ndarray\n",
    "    \"\"\"\n",
    "    assert isinstance(sequence, str), \"Sequence must be a string\"\n",
    "    assert isinstance(map_onehot, dict), \"Mapping must be a dictionary\"\n",
    "    assert all(isinstance(v, list) and len(v) == len(map_onehot) for v in map_onehot.values()), \"All mapping values must be lists and have the same length\"\n",
    "    assert all(isinstance(i, int) and i in (0, 1) for v in map_onehot.values() for i in v), \"All mapping values must be lists of 0s and 1s\"\n",
    "    assert len(sequence) > 0, \"Given sequence must not be empty\"\n",
    "    sequence = sequence.upper()\n",
    "    assert all(r in map_onehot for r in sequence), \"All residues must be in the mapping\"\n",
    "\n",
    "    return np.array([map_onehot.get(residue, [0] * len(map_onehot)) for residue in sequence])\n"
   ]
  },
  {
   "cell_type": "code",
   "execution_count": 6,
   "id": "dcc7bd47",
   "metadata": {},
   "outputs": [
    {
     "data": {
      "text/plain": [
       "seqres_can\n",
       "G    383183\n",
       "C    303932\n",
       "A    302107\n",
       "U    256439\n",
       "X        36\n",
       "N        11\n",
       "I         8\n",
       "F         3\n",
       "W         3\n",
       "M         1\n",
       "Name: count, dtype: int64"
      ]
     },
     "execution_count": 6,
     "metadata": {},
     "output_type": "execute_result"
    }
   ],
   "source": [
    "# Count types of bases\n",
    "dataset.seqres_can.str.split('').explode().value_counts(normalize=False, dropna=False).drop(labels=[''])"
   ]
  },
  {
   "cell_type": "code",
   "execution_count": 7,
   "id": "499ec743",
   "metadata": {},
   "outputs": [],
   "source": [
    "map_onehot = {}\n",
    "for i, base in enumerate(bases):\n",
    "    map_onehot[base] = np.zeros(len(bases), dtype=int).tolist()\n",
    "    map_onehot[base][i] = 1"
   ]
  },
  {
   "cell_type": "code",
   "execution_count": 8,
   "id": "8f754e6d",
   "metadata": {},
   "outputs": [
    {
     "data": {
      "text/plain": [
       "{'U': [1, 0, 0, 0, 0, 0, 0, 0, 0, 0],\n",
       " 'G': [0, 1, 0, 0, 0, 0, 0, 0, 0, 0],\n",
       " 'C': [0, 0, 1, 0, 0, 0, 0, 0, 0, 0],\n",
       " 'X': [0, 0, 0, 1, 0, 0, 0, 0, 0, 0],\n",
       " 'A': [0, 0, 0, 0, 1, 0, 0, 0, 0, 0],\n",
       " 'F': [0, 0, 0, 0, 0, 1, 0, 0, 0, 0],\n",
       " 'N': [0, 0, 0, 0, 0, 0, 1, 0, 0, 0],\n",
       " 'W': [0, 0, 0, 0, 0, 0, 0, 1, 0, 0],\n",
       " 'I': [0, 0, 0, 0, 0, 0, 0, 0, 1, 0],\n",
       " 'M': [0, 0, 0, 0, 0, 0, 0, 0, 0, 1]}"
      ]
     },
     "execution_count": 8,
     "metadata": {},
     "output_type": "execute_result"
    }
   ],
   "source": [
    "map_onehot"
   ]
  },
  {
   "cell_type": "code",
   "execution_count": 9,
   "id": "bd4a0efc",
   "metadata": {},
   "outputs": [
    {
     "data": {
      "text/plain": [
       "10"
      ]
     },
     "execution_count": 9,
     "metadata": {},
     "output_type": "execute_result"
    }
   ],
   "source": [
    "len(map_onehot)"
   ]
  },
  {
   "cell_type": "code",
   "execution_count": 11,
   "id": "3519d241",
   "metadata": {},
   "outputs": [
    {
     "data": {
      "text/plain": [
       "array([[1, 0, 0, 0, 0, 0, 0, 0, 0, 0],\n",
       "       [0, 1, 0, 0, 0, 0, 0, 0, 0, 0],\n",
       "       [0, 0, 1, 0, 0, 0, 0, 0, 0, 0],\n",
       "       [0, 0, 0, 1, 0, 0, 0, 0, 0, 0],\n",
       "       [0, 0, 0, 0, 1, 0, 0, 0, 0, 0],\n",
       "       [0, 0, 0, 0, 0, 1, 0, 0, 0, 0],\n",
       "       [0, 0, 0, 0, 0, 0, 1, 0, 0, 0],\n",
       "       [0, 0, 0, 0, 0, 0, 0, 1, 0, 0],\n",
       "       [0, 0, 0, 0, 0, 0, 0, 0, 1, 0],\n",
       "       [0, 0, 0, 0, 0, 0, 0, 0, 0, 1]])"
      ]
     },
     "execution_count": 11,
     "metadata": {},
     "output_type": "execute_result"
    }
   ],
   "source": [
    "# Matrix of one-hot encoding using the mapping :)\n",
    "one_hot_seq_encode(sequence=''.join(map_onehot.keys()), map_onehot=map_onehot)"
   ]
  },
  {
   "cell_type": "markdown",
   "id": "4c4372da",
   "metadata": {},
   "source": [
    "#### Convertir secuencias a embeddings"
   ]
  },
  {
   "cell_type": "code",
   "execution_count": 198,
   "id": "d57f913e",
   "metadata": {},
   "outputs": [],
   "source": [
    "def embed_sequence(sequence: str, map_residues: dict) -> list[int]:\n",
    "    \"\"\"\n",
    "    Embeds a sequence using a provided mapping.\n",
    "    If a residue is not found in the mapping, it is replaced with 0.\n",
    "\n",
    "    Parameters:\n",
    "\n",
    "        * sequence (str): The sequence to embed\n",
    "        * map_residues (dict): The residue mapping for embedding (keys are one-letter residues in uppercase, values are embedding vectors)\n",
    "\n",
    "    Returns: list[int]\n",
    "    \"\"\"\n",
    "    assert isinstance(sequence, str), \"Sequence must be a string\"\n",
    "    assert isinstance(map_residues, dict), \"Mapping must be a dictionary\"\n",
    "    assert len(sequence) > 0, \"Given sequence must not be empty\"\n",
    "    sequence = sequence.upper()\n",
    "\n",
    "    return [map_residues.get(residue, 0) for residue in sequence]"
   ]
  },
  {
   "cell_type": "code",
   "execution_count": 16,
   "id": "dd1522ad",
   "metadata": {},
   "outputs": [],
   "source": [
    "map_residues = {base: n for n, base in enumerate(bases, 1)}"
   ]
  },
  {
   "cell_type": "code",
   "execution_count": 17,
   "id": "e2c25fd6",
   "metadata": {},
   "outputs": [
    {
     "data": {
      "text/plain": [
       "[1, 2, 3, 4, 5, 6, 7, 8, 9, 10]"
      ]
     },
     "execution_count": 17,
     "metadata": {},
     "output_type": "execute_result"
    }
   ],
   "source": [
    "embed_sequence(sequence=''.join(map_residues.keys()), map_residues=map_residues)"
   ]
  },
  {
   "cell_type": "markdown",
   "id": "78b45095",
   "metadata": {},
   "source": [
    "#### Padding de secuencias"
   ]
  },
  {
   "cell_type": "markdown",
   "id": "667b98b4",
   "metadata": {},
   "source": [
    "##### Testing purposes"
   ]
  },
  {
   "cell_type": "code",
   "execution_count": 80,
   "id": "b36fe5ba",
   "metadata": {},
   "outputs": [],
   "source": [
    "sequences = [\n",
    "    \"AUGCUA\",\n",
    "    \"GCUAUGCGAUCGUAGCUA\",\n",
    "    \"AUG\"\n",
    "]\n",
    "\n",
    "sequences_embed = [embed_sequence(seq, map_residues) for seq in sequences]\n",
    "sequences_onehot = [one_hot_seq_encode(seq, map_onehot) for seq in sequences]"
   ]
  },
  {
   "cell_type": "code",
   "execution_count": 81,
   "id": "b35b98f2",
   "metadata": {},
   "outputs": [],
   "source": [
    "sequences_embed_padded = pad_sequences(sequences_embed, padding='post')\n",
    "sequences_onehot_padded = pad_sequences(sequences_onehot, padding='post')"
   ]
  },
  {
   "cell_type": "code",
   "execution_count": 82,
   "id": "e2efcdcb",
   "metadata": {},
   "outputs": [
    {
     "name": "stdout",
     "output_type": "stream",
     "text": [
      "sequences_embed_padded:\n",
      "\n",
      "[[5 1 2 3 1 5 0 0 0 0 0 0 0 0 0 0 0 0]\n",
      " [2 3 1 5 1 2 3 2 5 1 3 2 1 5 2 3 1 5]\n",
      " [5 1 2 0 0 0 0 0 0 0 0 0 0 0 0 0 0 0]]\n"
     ]
    }
   ],
   "source": [
    "print(f\"sequences_embed_padded:\\n\\n{sequences_embed_padded}\")"
   ]
  },
  {
   "cell_type": "code",
   "execution_count": 83,
   "id": "ed9a01e8",
   "metadata": {},
   "outputs": [
    {
     "name": "stdout",
     "output_type": "stream",
     "text": [
      "sequences_onehot_padded:\n",
      "\n",
      "[[[0 0 0 0 1 0 0 0 0 0]\n",
      "  [1 0 0 0 0 0 0 0 0 0]\n",
      "  [0 1 0 0 0 0 0 0 0 0]\n",
      "  [0 0 1 0 0 0 0 0 0 0]\n",
      "  [1 0 0 0 0 0 0 0 0 0]\n",
      "  [0 0 0 0 1 0 0 0 0 0]\n",
      "  [0 0 0 0 0 0 0 0 0 0]\n",
      "  [0 0 0 0 0 0 0 0 0 0]\n",
      "  [0 0 0 0 0 0 0 0 0 0]\n",
      "  [0 0 0 0 0 0 0 0 0 0]\n",
      "  [0 0 0 0 0 0 0 0 0 0]\n",
      "  [0 0 0 0 0 0 0 0 0 0]\n",
      "  [0 0 0 0 0 0 0 0 0 0]\n",
      "  [0 0 0 0 0 0 0 0 0 0]\n",
      "  [0 0 0 0 0 0 0 0 0 0]\n",
      "  [0 0 0 0 0 0 0 0 0 0]\n",
      "  [0 0 0 0 0 0 0 0 0 0]\n",
      "  [0 0 0 0 0 0 0 0 0 0]]\n",
      "\n",
      " [[0 1 0 0 0 0 0 0 0 0]\n",
      "  [0 0 1 0 0 0 0 0 0 0]\n",
      "  [1 0 0 0 0 0 0 0 0 0]\n",
      "  [0 0 0 0 1 0 0 0 0 0]\n",
      "  [1 0 0 0 0 0 0 0 0 0]\n",
      "  [0 1 0 0 0 0 0 0 0 0]\n",
      "  [0 0 1 0 0 0 0 0 0 0]\n",
      "  [0 1 0 0 0 0 0 0 0 0]\n",
      "  [0 0 0 0 1 0 0 0 0 0]\n",
      "  [1 0 0 0 0 0 0 0 0 0]\n",
      "  [0 0 1 0 0 0 0 0 0 0]\n",
      "  [0 1 0 0 0 0 0 0 0 0]\n",
      "  [1 0 0 0 0 0 0 0 0 0]\n",
      "  [0 0 0 0 1 0 0 0 0 0]\n",
      "  [0 1 0 0 0 0 0 0 0 0]\n",
      "  [0 0 1 0 0 0 0 0 0 0]\n",
      "  [1 0 0 0 0 0 0 0 0 0]\n",
      "  [0 0 0 0 1 0 0 0 0 0]]\n",
      "\n",
      " [[0 0 0 0 1 0 0 0 0 0]\n",
      "  [1 0 0 0 0 0 0 0 0 0]\n",
      "  [0 1 0 0 0 0 0 0 0 0]\n",
      "  [0 0 0 0 0 0 0 0 0 0]\n",
      "  [0 0 0 0 0 0 0 0 0 0]\n",
      "  [0 0 0 0 0 0 0 0 0 0]\n",
      "  [0 0 0 0 0 0 0 0 0 0]\n",
      "  [0 0 0 0 0 0 0 0 0 0]\n",
      "  [0 0 0 0 0 0 0 0 0 0]\n",
      "  [0 0 0 0 0 0 0 0 0 0]\n",
      "  [0 0 0 0 0 0 0 0 0 0]\n",
      "  [0 0 0 0 0 0 0 0 0 0]\n",
      "  [0 0 0 0 0 0 0 0 0 0]\n",
      "  [0 0 0 0 0 0 0 0 0 0]\n",
      "  [0 0 0 0 0 0 0 0 0 0]\n",
      "  [0 0 0 0 0 0 0 0 0 0]\n",
      "  [0 0 0 0 0 0 0 0 0 0]\n",
      "  [0 0 0 0 0 0 0 0 0 0]]]\n"
     ]
    }
   ],
   "source": [
    "print(f\"sequences_onehot_padded:\\n\\n{sequences_onehot_padded}\")"
   ]
  },
  {
   "cell_type": "markdown",
   "id": "affdada6",
   "metadata": {},
   "source": [
    "Se ve que cuanto más grande la secuencia, el padding para el encoding one-hot es mucho más grande. En este caso, dada una secuencia de largo `L` y `N` la longitud de la secuencia más larga conocida en el dataset, donde `L < N`, entonces el array one-hot de esa secuencia pasa a ser `10xN`.  Para el codificación embedding, el array pasa a ser `LxD`, siendo `D` la dimensión del embedding (en este caso 1)."
   ]
  },
  {
   "cell_type": "markdown",
   "id": "7707c696",
   "metadata": {},
   "source": [
    "#### Secuencia más larga como referencia para padding"
   ]
  },
  {
   "cell_type": "code",
   "execution_count": 212,
   "id": "ea75cb9a",
   "metadata": {},
   "outputs": [],
   "source": [
    "sequences_train_embed = [embed_sequence(seq, map_residues) for seq in x_data_train]\n",
    "sequences_train_embed_padded = pad_sequences(sequences_train_embed, maxlen=max_length, padding='post', truncating='post')\n",
    "\n",
    "sequences_test_embed = [embed_sequence(seq, map_residues) for seq in x_data_test]\n",
    "sequences_test_embed_padded = pad_sequences(sequences_test_embed, maxlen=max_length, padding='post', truncating='post')"
   ]
  },
  {
   "cell_type": "code",
   "execution_count": 213,
   "id": "e5a0950c",
   "metadata": {},
   "outputs": [
    {
     "data": {
      "text/plain": [
       "2688"
      ]
     },
     "execution_count": 213,
     "metadata": {},
     "output_type": "execute_result"
    }
   ],
   "source": [
    "len(sequences_train_embed)"
   ]
  },
  {
   "cell_type": "code",
   "execution_count": 214,
   "id": "069e75e7",
   "metadata": {},
   "outputs": [
    {
     "name": "stdout",
     "output_type": "stream",
     "text": [
      "First: 194\n",
      "Last: 14\n"
     ]
    }
   ],
   "source": [
    "print(f\"First: {len(sequences_train_embed[0])}\")\n",
    "print(f\"Last: {len(sequences_train_embed[-1])}\")"
   ]
  },
  {
   "cell_type": "code",
   "execution_count": 215,
   "id": "a9c8bb5a",
   "metadata": {},
   "outputs": [
    {
     "data": {
      "text/plain": [
       "(2688, 5227)"
      ]
     },
     "execution_count": 215,
     "metadata": {},
     "output_type": "execute_result"
    }
   ],
   "source": [
    "sequences_train_embed_padded.shape"
   ]
  },
  {
   "cell_type": "code",
   "execution_count": 216,
   "id": "f7026e22",
   "metadata": {},
   "outputs": [
    {
     "name": "stdout",
     "output_type": "stream",
     "text": [
      "First: 5227\n",
      "Last: 5227\n"
     ]
    }
   ],
   "source": [
    "print(f\"First: {len(sequences_train_embed_padded[0])}\")\n",
    "print(f\"Last: {len(sequences_train_embed_padded[-1])}\")"
   ]
  },
  {
   "cell_type": "code",
   "execution_count": 204,
   "id": "9c6ade68",
   "metadata": {},
   "outputs": [
    {
     "data": {
      "text/plain": [
       "count    2688.000000\n",
       "mean      375.867560\n",
       "std       883.128853\n",
       "min        10.000000\n",
       "25%        20.000000\n",
       "50%        43.000000\n",
       "75%       107.250000\n",
       "max      5227.000000\n",
       "Name: seqres_can, dtype: float64"
      ]
     },
     "execution_count": 204,
     "metadata": {},
     "output_type": "execute_result"
    }
   ],
   "source": [
    "# analizar la distribución de longitudes para definir un maxlen que cubra, por ejemplo, el 90% de las secuencias sin perder demasiada información\n",
    "x_data_train.map(len).describe()"
   ]
  },
  {
   "cell_type": "code",
   "execution_count": 205,
   "id": "9a5c4328",
   "metadata": {},
   "outputs": [
    {
     "data": {
      "text/plain": [
       "np.float64(1534.0)"
      ]
     },
     "execution_count": 205,
     "metadata": {},
     "output_type": "execute_result"
    }
   ],
   "source": [
    "# get upto 90th percentile of distribution of sequence lengths\n",
    "x_data_train.map(len).quantile(0.9)"
   ]
  },
  {
   "cell_type": "code",
   "execution_count": 209,
   "id": "e85673fe",
   "metadata": {},
   "outputs": [
    {
     "data": {
      "text/plain": [
       "(1640,)"
      ]
     },
     "execution_count": 209,
     "metadata": {},
     "output_type": "execute_result"
    }
   ],
   "source": [
    "# get between 30 upto 90th percentile of distribution of sequence lengths\n",
    "x_data_train.map(len).quantile(0.3), x_data_train.map(len).quantile(0.9)\n",
    "x_data_train[   (x_data_train.map(len) >= x_data_train.map(len).quantile(0.3)) &\\\n",
    "                (x_data_train.map(len) <= x_data_train.map(len).quantile(0.9)) ].shape"
   ]
  },
  {
   "cell_type": "code",
   "execution_count": 211,
   "id": "eee45192",
   "metadata": {},
   "outputs": [
    {
     "data": {
      "text/plain": [
       "(236,)"
      ]
     },
     "execution_count": 211,
     "metadata": {},
     "output_type": "execute_result"
    }
   ],
   "source": [
    "x_data_train[(x_data_train.map(len) > 1640)].shape\n"
   ]
  },
  {
   "cell_type": "markdown",
   "id": "6f0f08d3",
   "metadata": {},
   "source": [
    "### **Etiquetas**"
   ]
  },
  {
   "cell_type": "markdown",
   "id": "fc8a6475",
   "metadata": {},
   "source": [
    "#### Codificación categórica: convertir los tipos de RNA (texto) a números\n",
    "Se muestran 2 formas de hacerlo: una manual y otra utilizando `sklearn`."
   ]
  },
  {
   "cell_type": "markdown",
   "id": "2a909bd6",
   "metadata": {},
   "source": [
    "##### Utilizando `sklearn`"
   ]
  },
  {
   "cell_type": "code",
   "execution_count": 28,
   "id": "f99aab1d",
   "metadata": {},
   "outputs": [],
   "source": [
    "# Initialize the label encoder\n",
    "label_encoder = LabelEncoder()\n",
    "label_encoder.fit(data_train.rna_type_cdrna.tolist())\n",
    "\n",
    "# Transform the labels\n",
    "labels = label_encoder.transform(data_train.rna_type_cdrna.tolist())"
   ]
  },
  {
   "cell_type": "markdown",
   "id": "97477490",
   "metadata": {},
   "source": [
    "##### Utilizando `dict` (manual)"
   ]
  },
  {
   "cell_type": "code",
   "execution_count": 217,
   "id": "b775fd45",
   "metadata": {},
   "outputs": [],
   "source": [
    "# Custom label encoder\n",
    "data = dataset.rna_type_cdrna.tolist()\n",
    "classes = sorted(set(data))\n",
    "\n",
    "class_index = dict(zip(classes, range(len(classes))))\n",
    "index_class = dict(zip(range(len(classes)), classes))\n",
    "y_train_labels = list(map(class_index.get, y_data_train))\n",
    "y_test_labels = list(map(class_index.get, y_data_test))"
   ]
  },
  {
   "cell_type": "code",
   "execution_count": 218,
   "id": "778ce6c5",
   "metadata": {},
   "outputs": [
    {
     "data": {
      "text/plain": [
       "{'SRP_RNA': 0,\n",
       " 'enzymatic': 1,\n",
       " 'intron': 2,\n",
       " 'mRNA': 3,\n",
       " 'miRNA': 4,\n",
       " 'mixed': 5,\n",
       " 'ncRNA': 6,\n",
       " 'other': 7,\n",
       " 'piRNA': 8,\n",
       " 'rRNA': 9,\n",
       " 'riboswitch': 10,\n",
       " 'snRNA': 11,\n",
       " 'snoRNA': 12,\n",
       " 'tRNA': 13,\n",
       " 'transcript': 14}"
      ]
     },
     "execution_count": 218,
     "metadata": {},
     "output_type": "execute_result"
    }
   ],
   "source": [
    "class_index"
   ]
  },
  {
   "cell_type": "code",
   "execution_count": 219,
   "id": "e1456340",
   "metadata": {},
   "outputs": [
    {
     "data": {
      "text/plain": [
       "{0: 'SRP_RNA',\n",
       " 1: 'enzymatic',\n",
       " 2: 'intron',\n",
       " 3: 'mRNA',\n",
       " 4: 'miRNA',\n",
       " 5: 'mixed',\n",
       " 6: 'ncRNA',\n",
       " 7: 'other',\n",
       " 8: 'piRNA',\n",
       " 9: 'rRNA',\n",
       " 10: 'riboswitch',\n",
       " 11: 'snRNA',\n",
       " 12: 'snoRNA',\n",
       " 13: 'tRNA',\n",
       " 14: 'transcript'}"
      ]
     },
     "execution_count": 219,
     "metadata": {},
     "output_type": "execute_result"
    }
   ],
   "source": [
    "index_class"
   ]
  },
  {
   "cell_type": "code",
   "execution_count": 32,
   "id": "fdc79081",
   "metadata": {},
   "outputs": [
    {
     "name": "stdout",
     "output_type": "stream",
     "text": [
      "{'miRNA': 4}\n",
      "miRNA\n",
      "['miRNA']\n"
     ]
    }
   ],
   "source": [
    "# Get key with value '4'\n",
    "print({k: v for k, v in class_index.items() if v == 4}) # Dificil. Usa un bucle y es lento\n",
    "\n",
    "# Get value of key '4'\n",
    "print(index_class[4])  # Super fácil y rápido. Usa un poquito de memoria porque requiere definir un dict extra\n",
    "\n",
    "# Map the encoded labels back to the original labels\n",
    "print(label_encoder.inverse_transform([4])) # Fácil pero requiere sklearn y es una lista con único elemento"
   ]
  },
  {
   "cell_type": "markdown",
   "id": "32b5200f",
   "metadata": {},
   "source": [
    "### **Balanceo de clases**"
   ]
  },
  {
   "cell_type": "markdown",
   "id": "fa06674f",
   "metadata": {},
   "source": [
    "Existen 15 tipos de RNA en el dataset y están fuertemente desbalanceados.\n",
    "Queremos que no haya un bias a los tipos mayoritarios, por lo que vamos a usar pesos de clase para balancear el aprendizaje en el entrenamiento."
   ]
  },
  {
   "cell_type": "code",
   "execution_count": 220,
   "id": "fe391356",
   "metadata": {},
   "outputs": [],
   "source": [
    "# Pesos de las clases\n",
    "# https://datascience.stackexchange.com/a/18722\n",
    "class_weights  =  compute_class_weight( class_weight ='balanced'\n",
    "                                    ,   classes      = np.unique(y_train_labels)\n",
    "                                    ,   y            = y_train_labels )"
   ]
  },
  {
   "cell_type": "code",
   "execution_count": 221,
   "id": "27d9b69c",
   "metadata": {},
   "outputs": [],
   "source": [
    "class_weight_dict = dict(enumerate(class_weights))"
   ]
  },
  {
   "cell_type": "markdown",
   "id": "0e4b1ec9",
   "metadata": {},
   "source": [
    "# **Creación del modelo**"
   ]
  },
  {
   "cell_type": "markdown",
   "id": "fe6af4fa",
   "metadata": {},
   "source": [
    "### **Arquitectura**"
   ]
  },
  {
   "cell_type": "code",
   "execution_count": 35,
   "id": "a50b3bbd",
   "metadata": {},
   "outputs": [],
   "source": [
    "vocab_size   = len(map_residues) + 1   # +1 para el padding (0)\n",
    "input_length = max_length              # Longitud máxima de las secuencias de entrada\n",
    "nb_classes   = len(classes)            # Número de clases de salida"
   ]
  },
  {
   "cell_type": "code",
   "execution_count": 222,
   "id": "db337cdd",
   "metadata": {},
   "outputs": [
    {
     "name": "stderr",
     "output_type": "stream",
     "text": [
      "/home/martingb/Projects/2025/rna_classifier/.venv/lib/python3.12/site-packages/keras/src/layers/layer.py:970: UserWarning: Layer 'flatten_layer' (of type Flatten) was passed an input with a mask attached to it. However, this layer does not support masking and will therefore destroy the mask information. Downstream layers will not see the mask.\n",
      "  warnings.warn(\n"
     ]
    }
   ],
   "source": [
    "# Inicialización del modelo\n",
    "if 'model' in locals():\n",
    "    del model\n",
    "\n",
    "model = Sequential(name=\"RNA_Type_Classifier\")\n",
    "\n",
    "# Capa de entrada que define la forma de los datos de entrada\n",
    "model.add(Input(shape=(input_length,), dtype=tf.int32))\n",
    "\n",
    "# Capa Embedding: https://keras.io/api/layers/core_layers/embedding/\n",
    "# CUIDADO: documentación oficial está desactualizada:\n",
    "# - https://github.com/keras-team/keras/issues/19282\n",
    "# - No existe más el parámetro 'input_length'\n",
    "# Solución: ahora se infiere: https://github.com/keras-team/keras/issues/19094#issuecomment-1909387912\n",
    "# , input_length           = input_length   # Longitud máxima de las secuencias de entrada\n",
    "model.add(Embedding(  input_dim              = vocab_size     # Dimensión del vocabulario (número de tokens únicos + 1 por el padding)\n",
    "                    , output_dim             = 64             # Dimensión del embedding (ajustable). Se fija en 64 porque el vocabulario es pequeño y no se necesita un embedding muy grande. Además ayuda a no consumir tanta memoria.\n",
    "                    , mask_zero              = True           # Capas que puedan ignorar el 0 por padding\n",
    "                    , embeddings_initializer = 'uniform'      # Por defecto: inicialización uniforme de los pesos del embedding\n",
    "                    , name                   = 'embedding_layer' ))\n",
    "# Cada lote de N secuencias tiene forma (N, input_length, 64 embeddings) y se aplana a (N, input_length * 64)\n",
    "# model.add(Flatten(name=\"flatten_layer\"))\n",
    "model.add(Flatten(name=\"flatten_layer\"))\n",
    "\n",
    "# Normalización por lotes después de la capa de embedding + aplanamiento\n",
    "model.add(BatchNormalization(name=\"batch_norm_1\"))\n",
    "\n",
    "# Feed-forward - Capa oculta\n",
    "# Cantidad de hiperparámetros por lote de N:\n",
    "# (N * input_length * 64) * 128 + 128 (bias) = (N * 45495808) + 128 = (N * 45495936)\n",
    "# Si N es total, N=3361, son 152.911.840.896 parámetros\n",
    "# Si N=32, son 1.455.869.952 parámetros por lote.\n",
    "# Si N=16, son 727.934.976 parámetros por lote.\n",
    "model.add(Dense(units=128, activation='relu', kernel_initializer='he_uniform', name=\"dense_1\"))\n",
    "\n",
    "# Normalización por lotes después de la capa oculta\n",
    "model.add(BatchNormalization(name=\"batch_norm_2\"))\n",
    "\n",
    "# Capa de salida usando softmax\n",
    "# Tiene tantas neuronas como clases espero\n",
    "model.add(Dense(units=nb_classes, activation='softmax', name=\"output_layer\"))\n"
   ]
  },
  {
   "cell_type": "markdown",
   "id": "00a95b8e",
   "metadata": {},
   "source": [
    "#### Optimizador"
   ]
  },
  {
   "cell_type": "code",
   "execution_count": 223,
   "id": "a73fccdf",
   "metadata": {},
   "outputs": [],
   "source": [
    "# API : https://keras.io/api/optimizers/\n",
    "# learning_rate es el 'alpha'\n",
    "alpha = 0.001 # Valor por defecto en Adam\n",
    "opt = keras.optimizers.Adam(learning_rate=alpha) # ADAM = AdaGrad + Momentum"
   ]
  },
  {
   "cell_type": "markdown",
   "id": "9f9d8760",
   "metadata": {},
   "source": [
    "#### Métricas"
   ]
  },
  {
   "cell_type": "code",
   "execution_count": 224,
   "id": "abea8de1",
   "metadata": {},
   "outputs": [],
   "source": [
    "# Accuracy metrics\n",
    "# Accuracy : https://keras.io/api/metrics/accuracy_metrics/#accuracy-class\n",
    "\n",
    "# Classification metrics based on True/False positives & negatives\n",
    "# F1 : https://keras.io/api/metrics/classification_metrics/#f1score-class\n",
    "\n",
    "# Metrics for each class\n",
    "metrics = [ keras.metrics.SparseCategoricalAccuracy(name='accuracy') ]\n",
    "\n",
    "# metrics.extend([\n",
    "#     # Precision and Recall for each class\n",
    "#     keras.metrics.Precision(class_id=class_id, name=f'precision_class_{class_id}_{index_class[class_id].replace(\" \", \"_\")}')\n",
    "#     for class_id in class_index.values()\n",
    "# ] + [\n",
    "#     keras.metrics.Recall(class_id=class_id, name=f'recall_class_{class_id}_{index_class[class_id].replace(\" \", \"_\")}')\n",
    "#     for class_id in class_index.values()\n",
    "# ])\n"
   ]
  },
  {
   "cell_type": "markdown",
   "id": "fab764ce",
   "metadata": {},
   "source": [
    "### **Compilación**"
   ]
  },
  {
   "cell_type": "code",
   "execution_count": 226,
   "id": "56f84f59",
   "metadata": {},
   "outputs": [],
   "source": [
    "model.compile( loss      = 'sparse_categorical_crossentropy' # Función de pérdida para codificación categórica de enteros\n",
    "            ,  optimizer = opt                               # Usa el optimizador Adam con valores por defecto. Podría haberse usado 'adam' directamente\n",
    "            ,  metrics   = metrics )"
   ]
  },
  {
   "cell_type": "markdown",
   "id": "a52f956b",
   "metadata": {},
   "source": [
    "### **Monitoreo**"
   ]
  },
  {
   "cell_type": "code",
   "execution_count": 227,
   "id": "613b0f81",
   "metadata": {},
   "outputs": [],
   "source": [
    "def plot_metric(history: 'keras.src.callbacks.history.History', metric: str) -> None:\n",
    "    \"\"\"\n",
    "    Plots the training and validation metric over epochs.\n",
    "\n",
    "    Parameters:\n",
    "\n",
    "            * history:      The Keras history object returned by model.fit()\n",
    "            * metric:       a string. The name of the metric to plot\n",
    "\n",
    "    Returns: nothing\n",
    "    \"\"\"\n",
    "    plt.grid(False)\n",
    "    plt.plot(history.history[metric], label='Training ' + metric)\n",
    "    plt.plot(history.history['val_' + metric], label='Validation ' + metric)\n",
    "    plt.title(f'Training and Validation {metric.capitalize()} Over Epochs')\n",
    "    plt.ylabel(metric)\n",
    "    plt.xlabel('Epochs')\n",
    "    plt.legend(loc='best')\n",
    "    plt.show()"
   ]
  },
  {
   "cell_type": "code",
   "execution_count": null,
   "id": "a4a75cbc",
   "metadata": {},
   "outputs": [],
   "source": [
    "# Callbacks\n",
    "# https://keras.io/api/callbacks/early_stopping/#earlystopping-class\n",
    "\n",
    "monitor_metric  = 'val_loss'\n",
    "patience        = 10\n",
    "min_delta       = 0.5\n",
    "\n",
    "early_stopping = EarlyStopping( monitor              = monitor_metric # Quantity to be monitored. (default: 'val_loss')\n",
    "                            ,   verbose              = 1          # Verbosity mode, 0 or 1. Mode 0 is silent, and mode 1 displays messages when the callback takes an action. Defaults to 0.\n",
    "                            ,   patience             = patience         # Number of epochs with no improvement after which training will be stopped\n",
    "                            ,   restore_best_weights = True       # Whether to restore model weights from the epoch with the best value of the monitored quantity.\n",
    "                            ,   min_delta            = min_delta )    # Minimum change in the monitored quantity to qualify as an improvement\n",
    "\n",
    "callbacks = [early_stopping]"
   ]
  },
  {
   "cell_type": "markdown",
   "id": "e45eae08",
   "metadata": {},
   "source": [
    "### **Resumen del modelo**"
   ]
  },
  {
   "cell_type": "code",
   "execution_count": 230,
   "id": "41094ca3",
   "metadata": {},
   "outputs": [
    {
     "data": {
      "text/html": [
       "<pre style=\"white-space:pre;overflow-x:auto;line-height:normal;font-family:Menlo,'DejaVu Sans Mono',consolas,'Courier New',monospace\"><span style=\"font-weight: bold\">Model: \"RNA_Type_Classifier\"</span>\n",
       "</pre>\n"
      ],
      "text/plain": [
       "\u001b[1mModel: \"RNA_Type_Classifier\"\u001b[0m\n"
      ]
     },
     "metadata": {},
     "output_type": "display_data"
    },
    {
     "data": {
      "text/html": [
       "<pre style=\"white-space:pre;overflow-x:auto;line-height:normal;font-family:Menlo,'DejaVu Sans Mono',consolas,'Courier New',monospace\">┏━━━━━━━━━━━━━━━━━━━━━━━━━━━━━━━━━┳━━━━━━━━━━━━━━━━━━━━━━━━┳━━━━━━━━━━━━━━━┓\n",
       "┃<span style=\"font-weight: bold\"> Layer (type)                    </span>┃<span style=\"font-weight: bold\"> Output Shape           </span>┃<span style=\"font-weight: bold\">       Param # </span>┃\n",
       "┡━━━━━━━━━━━━━━━━━━━━━━━━━━━━━━━━━╇━━━━━━━━━━━━━━━━━━━━━━━━╇━━━━━━━━━━━━━━━┩\n",
       "│ embedding_layer (<span style=\"color: #0087ff; text-decoration-color: #0087ff\">Embedding</span>)     │ (<span style=\"color: #00d7ff; text-decoration-color: #00d7ff\">None</span>, <span style=\"color: #00af00; text-decoration-color: #00af00\">5227</span>, <span style=\"color: #00af00; text-decoration-color: #00af00\">64</span>)       │           <span style=\"color: #00af00; text-decoration-color: #00af00\">704</span> │\n",
       "├─────────────────────────────────┼────────────────────────┼───────────────┤\n",
       "│ flatten_layer (<span style=\"color: #0087ff; text-decoration-color: #0087ff\">Flatten</span>)         │ (<span style=\"color: #00d7ff; text-decoration-color: #00d7ff\">None</span>, <span style=\"color: #00af00; text-decoration-color: #00af00\">334528</span>)         │             <span style=\"color: #00af00; text-decoration-color: #00af00\">0</span> │\n",
       "├─────────────────────────────────┼────────────────────────┼───────────────┤\n",
       "│ batch_norm_1                    │ (<span style=\"color: #00d7ff; text-decoration-color: #00d7ff\">None</span>, <span style=\"color: #00af00; text-decoration-color: #00af00\">334528</span>)         │     <span style=\"color: #00af00; text-decoration-color: #00af00\">1,338,112</span> │\n",
       "│ (<span style=\"color: #0087ff; text-decoration-color: #0087ff\">BatchNormalization</span>)            │                        │               │\n",
       "├─────────────────────────────────┼────────────────────────┼───────────────┤\n",
       "│ dense_1 (<span style=\"color: #0087ff; text-decoration-color: #0087ff\">Dense</span>)                 │ (<span style=\"color: #00d7ff; text-decoration-color: #00d7ff\">None</span>, <span style=\"color: #00af00; text-decoration-color: #00af00\">128</span>)            │    <span style=\"color: #00af00; text-decoration-color: #00af00\">42,819,712</span> │\n",
       "├─────────────────────────────────┼────────────────────────┼───────────────┤\n",
       "│ batch_norm_2                    │ (<span style=\"color: #00d7ff; text-decoration-color: #00d7ff\">None</span>, <span style=\"color: #00af00; text-decoration-color: #00af00\">128</span>)            │           <span style=\"color: #00af00; text-decoration-color: #00af00\">512</span> │\n",
       "│ (<span style=\"color: #0087ff; text-decoration-color: #0087ff\">BatchNormalization</span>)            │                        │               │\n",
       "├─────────────────────────────────┼────────────────────────┼───────────────┤\n",
       "│ output_layer (<span style=\"color: #0087ff; text-decoration-color: #0087ff\">Dense</span>)            │ (<span style=\"color: #00d7ff; text-decoration-color: #00d7ff\">None</span>, <span style=\"color: #00af00; text-decoration-color: #00af00\">15</span>)             │         <span style=\"color: #00af00; text-decoration-color: #00af00\">1,935</span> │\n",
       "└─────────────────────────────────┴────────────────────────┴───────────────┘\n",
       "</pre>\n"
      ],
      "text/plain": [
       "┏━━━━━━━━━━━━━━━━━━━━━━━━━━━━━━━━━┳━━━━━━━━━━━━━━━━━━━━━━━━┳━━━━━━━━━━━━━━━┓\n",
       "┃\u001b[1m \u001b[0m\u001b[1mLayer (type)                   \u001b[0m\u001b[1m \u001b[0m┃\u001b[1m \u001b[0m\u001b[1mOutput Shape          \u001b[0m\u001b[1m \u001b[0m┃\u001b[1m \u001b[0m\u001b[1m      Param #\u001b[0m\u001b[1m \u001b[0m┃\n",
       "┡━━━━━━━━━━━━━━━━━━━━━━━━━━━━━━━━━╇━━━━━━━━━━━━━━━━━━━━━━━━╇━━━━━━━━━━━━━━━┩\n",
       "│ embedding_layer (\u001b[38;5;33mEmbedding\u001b[0m)     │ (\u001b[38;5;45mNone\u001b[0m, \u001b[38;5;34m5227\u001b[0m, \u001b[38;5;34m64\u001b[0m)       │           \u001b[38;5;34m704\u001b[0m │\n",
       "├─────────────────────────────────┼────────────────────────┼───────────────┤\n",
       "│ flatten_layer (\u001b[38;5;33mFlatten\u001b[0m)         │ (\u001b[38;5;45mNone\u001b[0m, \u001b[38;5;34m334528\u001b[0m)         │             \u001b[38;5;34m0\u001b[0m │\n",
       "├─────────────────────────────────┼────────────────────────┼───────────────┤\n",
       "│ batch_norm_1                    │ (\u001b[38;5;45mNone\u001b[0m, \u001b[38;5;34m334528\u001b[0m)         │     \u001b[38;5;34m1,338,112\u001b[0m │\n",
       "│ (\u001b[38;5;33mBatchNormalization\u001b[0m)            │                        │               │\n",
       "├─────────────────────────────────┼────────────────────────┼───────────────┤\n",
       "│ dense_1 (\u001b[38;5;33mDense\u001b[0m)                 │ (\u001b[38;5;45mNone\u001b[0m, \u001b[38;5;34m128\u001b[0m)            │    \u001b[38;5;34m42,819,712\u001b[0m │\n",
       "├─────────────────────────────────┼────────────────────────┼───────────────┤\n",
       "│ batch_norm_2                    │ (\u001b[38;5;45mNone\u001b[0m, \u001b[38;5;34m128\u001b[0m)            │           \u001b[38;5;34m512\u001b[0m │\n",
       "│ (\u001b[38;5;33mBatchNormalization\u001b[0m)            │                        │               │\n",
       "├─────────────────────────────────┼────────────────────────┼───────────────┤\n",
       "│ output_layer (\u001b[38;5;33mDense\u001b[0m)            │ (\u001b[38;5;45mNone\u001b[0m, \u001b[38;5;34m15\u001b[0m)             │         \u001b[38;5;34m1,935\u001b[0m │\n",
       "└─────────────────────────────────┴────────────────────────┴───────────────┘\n"
      ]
     },
     "metadata": {},
     "output_type": "display_data"
    },
    {
     "data": {
      "text/html": [
       "<pre style=\"white-space:pre;overflow-x:auto;line-height:normal;font-family:Menlo,'DejaVu Sans Mono',consolas,'Courier New',monospace\"><span style=\"font-weight: bold\"> Total params: </span><span style=\"color: #00af00; text-decoration-color: #00af00\">44,160,975</span> (168.46 MB)\n",
       "</pre>\n"
      ],
      "text/plain": [
       "\u001b[1m Total params: \u001b[0m\u001b[38;5;34m44,160,975\u001b[0m (168.46 MB)\n"
      ]
     },
     "metadata": {},
     "output_type": "display_data"
    },
    {
     "data": {
      "text/html": [
       "<pre style=\"white-space:pre;overflow-x:auto;line-height:normal;font-family:Menlo,'DejaVu Sans Mono',consolas,'Courier New',monospace\"><span style=\"font-weight: bold\"> Trainable params: </span><span style=\"color: #00af00; text-decoration-color: #00af00\">43,491,663</span> (165.91 MB)\n",
       "</pre>\n"
      ],
      "text/plain": [
       "\u001b[1m Trainable params: \u001b[0m\u001b[38;5;34m43,491,663\u001b[0m (165.91 MB)\n"
      ]
     },
     "metadata": {},
     "output_type": "display_data"
    },
    {
     "data": {
      "text/html": [
       "<pre style=\"white-space:pre;overflow-x:auto;line-height:normal;font-family:Menlo,'DejaVu Sans Mono',consolas,'Courier New',monospace\"><span style=\"font-weight: bold\"> Non-trainable params: </span><span style=\"color: #00af00; text-decoration-color: #00af00\">669,312</span> (2.55 MB)\n",
       "</pre>\n"
      ],
      "text/plain": [
       "\u001b[1m Non-trainable params: \u001b[0m\u001b[38;5;34m669,312\u001b[0m (2.55 MB)\n"
      ]
     },
     "metadata": {},
     "output_type": "display_data"
    }
   ],
   "source": [
    "model.summary()"
   ]
  },
  {
   "cell_type": "markdown",
   "id": "df8198a4",
   "metadata": {},
   "source": [
    "### **Entrenamiento**"
   ]
  },
  {
   "cell_type": "markdown",
   "id": "2f13af30",
   "metadata": {},
   "source": [
    "#### Uso de lotes (batches)"
   ]
  },
  {
   "cell_type": "code",
   "execution_count": 278,
   "id": "e08fbebe",
   "metadata": {},
   "outputs": [],
   "source": [
    "batch_size = 32\n",
    "num_epochs = 100"
   ]
  },
  {
   "cell_type": "code",
   "execution_count": null,
   "id": "88980abb",
   "metadata": {},
   "outputs": [
    {
     "name": "stdout",
     "output_type": "stream",
     "text": [
      "Epoch 1/100\n"
     ]
    },
    {
     "name": "stderr",
     "output_type": "stream",
     "text": [
      "/home/martingb/Projects/2025/rna_classifier/.venv/lib/python3.12/site-packages/keras/src/layers/layer.py:970: UserWarning: Layer 'flatten_layer' (of type Flatten) was passed an input with a mask attached to it. However, this layer does not support masking and will therefore destroy the mask information. Downstream layers will not see the mask.\n",
      "  warnings.warn(\n"
     ]
    },
    {
     "name": "stdout",
     "output_type": "stream",
     "text": [
      "\u001b[1m84/84\u001b[0m \u001b[32m━━━━━━━━━━━━━━━━━━━━\u001b[0m\u001b[37m\u001b[0m \u001b[1m6s\u001b[0m 51ms/step - accuracy: 0.3936 - loss: 2.4054 - val_accuracy: 0.1308 - val_loss: 2.8975\n",
      "Epoch 2/100\n",
      "\u001b[1m84/84\u001b[0m \u001b[32m━━━━━━━━━━━━━━━━━━━━\u001b[0m\u001b[37m\u001b[0m \u001b[1m2s\u001b[0m 24ms/step - accuracy: 0.4408 - loss: 1.5175 - val_accuracy: 0.2021 - val_loss: 3.3119\n",
      "Epoch 3/100\n",
      "\u001b[1m84/84\u001b[0m \u001b[32m━━━━━━━━━━━━━━━━━━━━\u001b[0m\u001b[37m\u001b[0m \u001b[1m2s\u001b[0m 24ms/step - accuracy: 0.4699 - loss: 1.1917 - val_accuracy: 0.1857 - val_loss: 2.6791\n",
      "Epoch 4/100\n",
      "\u001b[1m84/84\u001b[0m \u001b[32m━━━━━━━━━━━━━━━━━━━━\u001b[0m\u001b[37m\u001b[0m \u001b[1m2s\u001b[0m 24ms/step - accuracy: 0.5324 - loss: 0.9994 - val_accuracy: 0.2006 - val_loss: 2.8354\n",
      "Epoch 5/100\n",
      "\u001b[1m84/84\u001b[0m \u001b[32m━━━━━━━━━━━━━━━━━━━━\u001b[0m\u001b[37m\u001b[0m \u001b[1m3s\u001b[0m 32ms/step - accuracy: 0.5558 - loss: 0.8614 - val_accuracy: 0.2021 - val_loss: 2.3325\n",
      "Epoch 6/100\n",
      "\u001b[1m84/84\u001b[0m \u001b[32m━━━━━━━━━━━━━━━━━━━━\u001b[0m\u001b[37m\u001b[0m \u001b[1m2s\u001b[0m 24ms/step - accuracy: 0.6071 - loss: 0.7526 - val_accuracy: 0.2437 - val_loss: 1.8696\n",
      "Epoch 7/100\n",
      "\u001b[1m84/84\u001b[0m \u001b[32m━━━━━━━━━━━━━━━━━━━━\u001b[0m\u001b[37m\u001b[0m \u001b[1m2s\u001b[0m 29ms/step - accuracy: 0.6198 - loss: 0.6839 - val_accuracy: 0.5186 - val_loss: 1.7807\n",
      "Epoch 8/100\n",
      "\u001b[1m84/84\u001b[0m \u001b[32m━━━━━━━━━━━━━━━━━━━━\u001b[0m\u001b[37m\u001b[0m \u001b[1m2s\u001b[0m 24ms/step - accuracy: 0.6161 - loss: 0.6440 - val_accuracy: 0.4918 - val_loss: 1.8034\n",
      "Epoch 9/100\n",
      "\u001b[1m84/84\u001b[0m \u001b[32m━━━━━━━━━━━━━━━━━━━━\u001b[0m\u001b[37m\u001b[0m \u001b[1m2s\u001b[0m 24ms/step - accuracy: 0.6042 - loss: 0.6189 - val_accuracy: 0.1709 - val_loss: 2.1317\n",
      "Epoch 10/100\n",
      "\u001b[1m84/84\u001b[0m \u001b[32m━━━━━━━━━━━━━━━━━━━━\u001b[0m\u001b[37m\u001b[0m \u001b[1m2s\u001b[0m 24ms/step - accuracy: 0.6514 - loss: 0.5659 - val_accuracy: 0.7429 - val_loss: 1.5422\n",
      "Epoch 11/100\n",
      "\u001b[1m84/84\u001b[0m \u001b[32m━━━━━━━━━━━━━━━━━━━━\u001b[0m\u001b[37m\u001b[0m \u001b[1m2s\u001b[0m 24ms/step - accuracy: 0.6209 - loss: 0.6388 - val_accuracy: 0.1991 - val_loss: 5.7551\n",
      "Epoch 12/100\n",
      "\u001b[1m84/84\u001b[0m \u001b[32m━━━━━━━━━━━━━━━━━━━━\u001b[0m\u001b[37m\u001b[0m \u001b[1m2s\u001b[0m 24ms/step - accuracy: 0.6112 - loss: 0.6190 - val_accuracy: 0.3640 - val_loss: 1.6807\n",
      "Epoch 13/100\n",
      "\u001b[1m84/84\u001b[0m \u001b[32m━━━━━━━━━━━━━━━━━━━━\u001b[0m\u001b[37m\u001b[0m \u001b[1m2s\u001b[0m 24ms/step - accuracy: 0.6611 - loss: 0.5200 - val_accuracy: 0.3358 - val_loss: 1.7632\n",
      "Epoch 14/100\n",
      "\u001b[1m84/84\u001b[0m \u001b[32m━━━━━━━━━━━━━━━━━━━━\u001b[0m\u001b[37m\u001b[0m \u001b[1m2s\u001b[0m 24ms/step - accuracy: 0.7180 - loss: 0.4970 - val_accuracy: 0.2883 - val_loss: 2.3244\n",
      "Epoch 15/100\n",
      "\u001b[1m84/84\u001b[0m \u001b[32m━━━━━━━━━━━━━━━━━━━━\u001b[0m\u001b[37m\u001b[0m \u001b[1m2s\u001b[0m 29ms/step - accuracy: 0.6667 - loss: 0.4628 - val_accuracy: 0.7013 - val_loss: 1.1695\n",
      "Epoch 16/100\n",
      "\u001b[1m84/84\u001b[0m \u001b[32m━━━━━━━━━━━━━━━━━━━━\u001b[0m\u001b[37m\u001b[0m \u001b[1m2s\u001b[0m 24ms/step - accuracy: 0.6656 - loss: 0.4416 - val_accuracy: 0.4264 - val_loss: 1.6409\n",
      "Epoch 17/100\n",
      "\u001b[1m84/84\u001b[0m \u001b[32m━━━━━━━━━━━━━━━━━━━━\u001b[0m\u001b[37m\u001b[0m \u001b[1m2s\u001b[0m 24ms/step - accuracy: 0.6901 - loss: 0.5109 - val_accuracy: 0.2244 - val_loss: 4.0684\n",
      "Epoch 18/100\n",
      "\u001b[1m84/84\u001b[0m \u001b[32m━━━━━━━━━━━━━━━━━━━━\u001b[0m\u001b[37m\u001b[0m \u001b[1m2s\u001b[0m 24ms/step - accuracy: 0.6633 - loss: 0.5028 - val_accuracy: 0.6999 - val_loss: 1.3182\n",
      "Epoch 19/100\n",
      "\u001b[1m84/84\u001b[0m \u001b[32m━━━━━━━━━━━━━━━━━━━━\u001b[0m\u001b[37m\u001b[0m \u001b[1m2s\u001b[0m 24ms/step - accuracy: 0.7143 - loss: 0.3982 - val_accuracy: 0.3210 - val_loss: 2.6974\n",
      "Epoch 20/100\n",
      "\u001b[1m84/84\u001b[0m \u001b[32m━━━━━━━━━━━━━━━━━━━━\u001b[0m\u001b[37m\u001b[0m \u001b[1m2s\u001b[0m 24ms/step - accuracy: 0.7169 - loss: 0.4109 - val_accuracy: 0.3789 - val_loss: 1.7753\n",
      "Epoch 21/100\n",
      "\u001b[1m84/84\u001b[0m \u001b[32m━━━━━━━━━━━━━━━━━━━━\u001b[0m\u001b[37m\u001b[0m \u001b[1m2s\u001b[0m 24ms/step - accuracy: 0.7303 - loss: 0.3520 - val_accuracy: 0.3700 - val_loss: 1.9878\n",
      "Epoch 22/100\n",
      "\u001b[1m84/84\u001b[0m \u001b[32m━━━━━━━━━━━━━━━━━━━━\u001b[0m\u001b[37m\u001b[0m \u001b[1m2s\u001b[0m 24ms/step - accuracy: 0.6968 - loss: 0.3790 - val_accuracy: 0.2511 - val_loss: 3.0149\n",
      "Epoch 23/100\n",
      "\u001b[1m84/84\u001b[0m \u001b[32m━━━━━━━━━━━━━━━━━━━━\u001b[0m\u001b[37m\u001b[0m \u001b[1m2s\u001b[0m 24ms/step - accuracy: 0.7269 - loss: 0.3541 - val_accuracy: 0.1842 - val_loss: 5.4840\n",
      "Epoch 24/100\n",
      "\u001b[1m84/84\u001b[0m \u001b[32m━━━━━━━━━━━━━━━━━━━━\u001b[0m\u001b[37m\u001b[0m \u001b[1m2s\u001b[0m 24ms/step - accuracy: 0.6834 - loss: 0.4609 - val_accuracy: 0.3210 - val_loss: 2.1265\n",
      "Epoch 25/100\n",
      "\u001b[1m84/84\u001b[0m \u001b[32m━━━━━━━━━━━━━━━━━━━━\u001b[0m\u001b[37m\u001b[0m \u001b[1m2s\u001b[0m 24ms/step - accuracy: 0.7344 - loss: 0.3429 - val_accuracy: 0.7771 - val_loss: 0.9648\n",
      "Epoch 25: early stopping\n",
      "Restoring model weights from the end of the best epoch: 15.\n"
     ]
    },
    {
     "data": {
      "image/png": "[encoded data removed]",
      "text/plain": [
       "<Figure size 640x480 with 1 Axes>"
      ]
     },
     "metadata": {},
     "output_type": "display_data"
    },
    {
     "data": {
      "image/png": "[encoded data removed]",
      "text/plain": [
       "<Figure size 640x480 with 1 Axes>"
      ]
     },
     "metadata": {},
     "output_type": "display_data"
    }
   ],
   "source": [
    "history  =  model.fit( x                = sequences_train_embed_padded  # Secuencias con padding para entrenamiento\n",
    "                    ,  y                = np.array(y_train_labels)      # Etiquetas para entrenamiento\n",
    "                    ,  batch_size       = batch_size                    # Tamaño del lote de entrenamiento. Esto es arbitrario. Uso 32 secuencias para cada lote por motivos de memoria y rendimiento.\n",
    "                    ,  epochs           = num_epochs                    # Número de épocas\n",
    "                    ,  verbose          = True                          # Verbosidad del entrenamiento\n",
    "                    ,  validation_data  = (sequences_test_embed_padded, np.array(y_test_labels))  # Datos de test para validación\n",
    "                    ,  class_weight     = class_weight_dict             # Diccionario de balanceo (sección 'Balanceo de clases')\n",
    "                    ,  callbacks        = callbacks )                   # Lista de callbacks para monitoreo del entrenamiento\n"
   ]
  },
  {
   "cell_type": "markdown",
   "id": "cd39a29c",
   "metadata": {},
   "source": [
    "### **Evaluación**"
   ]
  },
  {
   "cell_type": "code",
   "execution_count": 289,
   "id": "f3c5307d",
   "metadata": {},
   "outputs": [
    {
     "data": {
      "image/png": "[encoded data removed]",
      "text/plain": [
       "<Figure size 640x480 with 1 Axes>"
      ]
     },
     "metadata": {},
     "output_type": "display_data"
    },
    {
     "data": {
      "image/png": "[encoded data removed]",
      "text/plain": [
       "<Figure size 640x480 with 1 Axes>"
      ]
     },
     "metadata": {},
     "output_type": "display_data"
    }
   ],
   "source": [
    "plot_metric(history, 'accuracy')\n",
    "plot_metric(history, 'loss')"
   ]
  },
  {
   "cell_type": "markdown",
   "id": "711aaa5e",
   "metadata": {},
   "source": [
    "### **Predicción**"
   ]
  },
  {
   "cell_type": "code",
   "execution_count": 238,
   "id": "7c88be3c",
   "metadata": {},
   "outputs": [
    {
     "name": "stderr",
     "output_type": "stream",
     "text": [
      "/home/martingb/Projects/2025/rna_classifier/.venv/lib/python3.12/site-packages/keras/src/layers/layer.py:970: UserWarning: Layer 'flatten_layer' (of type Flatten) was passed an input with a mask attached to it. However, this layer does not support masking and will therefore destroy the mask information. Downstream layers will not see the mask.\n",
      "  warnings.warn(\n"
     ]
    },
    {
     "name": "stdout",
     "output_type": "stream",
     "text": [
      "\u001b[1m22/22\u001b[0m \u001b[32m━━━━━━━━━━━━━━━━━━━━\u001b[0m\u001b[37m\u001b[0m \u001b[1m1s\u001b[0m 18ms/step\n"
     ]
    }
   ],
   "source": [
    "result = model.predict(sequences_test_embed_padded)"
   ]
  },
  {
   "cell_type": "code",
   "execution_count": 290,
   "id": "77e738d6",
   "metadata": {},
   "outputs": [
    {
     "name": "stdout",
     "output_type": "stream",
     "text": [
      "Expected, predicted\n",
      "Total correct predictions: 472 out of 673\n"
     ]
    }
   ],
   "source": [
    "print(f\"Expected, predicted\")\n",
    "count = 0\n",
    "for i, expected in enumerate(y_data_test):\n",
    "    predicted_class = np.argmax(result[i])\n",
    "    predicted_class_name = index_class[predicted_class]\n",
    "    if expected == predicted_class_name:\n",
    "        count += 1\n",
    "    # else:\n",
    "    #     print(f\"index {i}: {expected}, {predicted_class_name}\")\n",
    "print(f\"Total correct predictions: {count} out of {len(y_data_test)}\")"
   ]
  },
  {
   "cell_type": "code",
   "execution_count": 291,
   "id": "a15ea733",
   "metadata": {},
   "outputs": [
    {
     "name": "stdout",
     "output_type": "stream",
     "text": [
      "Accuracy with cutoff '0.2': 88.86%, 598 out of 673\n"
     ]
    }
   ],
   "source": [
    "cutoff = 0.2\n",
    "result_classes = np.where((result >= cutoff), 1, 0)\n",
    "correct = (result_classes.sum(axis=1) == 1).sum()\n",
    "fraction = f\"{correct}/{result_classes.shape[0]}\"\n",
    "perc = (result_classes.sum(axis=1) == 1).sum() / result_classes.shape[0] * 100\n",
    "print(f\"Accuracy with cutoff '{cutoff}': {perc:.2f}%, {correct} out of {result_classes.shape[0]}\")\n"
   ]
  },
  {
   "cell_type": "markdown",
   "id": "62ab6562",
   "metadata": {},
   "source": [
    "# **Almacenamiento del modelo**\n",
    "\n",
    "Documentación oficial:\n",
    "- https://keras.io/guides/serialization_and_saving/\n",
    "- https://keras.io/api/models/model_saving_apis/model_saving_and_loading/#whole-model-saving-amp-loading\n",
    "\n",
    "Keras soporta el formato HDF5 para guardar modelos completos. También soporta el formato 'tf' (TensorFlow SavedModel)  \n",
    "HDF5 es un formato de archivo que permite almacenar grandes cantidades de datos de manera eficiente.  \n",
    "\n",
    "Un archivo HDF5 contiene:\n",
    "- Los pesos del modelo.\n",
    "- La arquitectura del modelo, permitiendo recrear el modelo."
   ]
  },
  {
   "cell_type": "code",
   "execution_count": null,
   "id": "4bb52241",
   "metadata": {},
   "outputs": [],
   "source": [
    "# Time format: YYYYMMDD-HHMMSS\n",
    "dt = datetime.now().strftime(\"%Y%m%d-%H%M%S\")\n",
    "day, time = dt.split(\"-\")\n",
    "dirpath = f\"../../results/models/{day}/{time}\"\n",
    "os.makedirs(dirpath, exist_ok=True)"
   ]
  },
  {
   "cell_type": "markdown",
   "id": "74b1f3fa",
   "metadata": {},
   "source": [
    "### Almacenamiento métricas del modelo"
   ]
  },
  {
   "cell_type": "code",
   "execution_count": 260,
   "id": "fd37c747",
   "metadata": {},
   "outputs": [],
   "source": [
    "def save_plot_metric(filepath: str, metric: str, history: dict, model_name: str = None) -> None:\n",
    "    \"\"\"\n",
    "    Save a plot of the specified metric from the training history.\n",
    "\n",
    "    Parameters:\n",
    "\n",
    "                * filepath:         The path to save the plot.\n",
    "                * metric:           The name of the metric to plot (e.g., 'accuracy', 'loss').\n",
    "                * history:          The training history containing metric values.\n",
    "                * model_name:       The name of the model (optional).\n",
    "\n",
    "    Returns: nothing\n",
    "    \"\"\"\n",
    "    plt.figure()\n",
    "    plt.grid(False)\n",
    "    plt.plot(history[metric], label=f\"Training\")\n",
    "    if f'val_{metric}' in history:\n",
    "        plt.plot(history[f'val_{metric}'], label=f\"Validation\")\n",
    "    plt.xlabel('Epoch')\n",
    "    plt.ylabel(metric.capitalize())\n",
    "    plt.legend(loc='best')\n",
    "    plt.title(f\"'{model_name}' - '{metric}' over epochs\") if model_name is not None else plt.title(f\"Model '{metric}' over epochs\")\n",
    "    plt.savefig(filepath, dpi=300)\n",
    "    plt.close()\n",
    "    return\n"
   ]
  },
  {
   "cell_type": "code",
   "execution_count": 261,
   "id": "072d6ed9",
   "metadata": {},
   "outputs": [],
   "source": [
    "for metric in ['accuracy', 'loss']:\n",
    "    save_plot_metric( filepath   = f\"{dirpath}/{dt}_rna_classifier_model_{metric}.png\"\n",
    "                    , history    = history.history\n",
    "                    , metric     = metric\n",
    "                    , model_name = 'RNA Type Classifier')"
   ]
  },
  {
   "cell_type": "markdown",
   "id": "25e337de",
   "metadata": {},
   "source": [
    "### Almacenamiento del modelo"
   ]
  },
  {
   "cell_type": "code",
   "execution_count": null,
   "id": "c74dfb04",
   "metadata": {},
   "outputs": [
    {
     "name": "stderr",
     "output_type": "stream",
     "text": [
      "WARNING:absl:The `save_format` argument is deprecated in Keras 3. We recommend removing this argument as it can be inferred from the file path. Received: save_format=h5\n"
     ]
    }
   ],
   "source": [
    "model.save(filepath    = f\"{dirpath}/{dt}_rna_classifier_model.keras\"\n",
    "        # ,  save_format = 'h5'       # WARNING:absl:The `save_format` argument is deprecated in Keras 3. We recommend removing this argument as it can be inferred from the file path. Received: save_format=h5\n",
    "        ,  zipped      = True       # Whether to save the model as a zipped .keras archive (default when saving locally), or as an unzipped directory (default when saving on the Hugging Face Hub).\n",
    "        ,  overwrite   = True )"
   ]
  },
  {
   "cell_type": "markdown",
   "id": "2e0d132d",
   "metadata": {},
   "source": [
    "### Almacenamiento de pesos"
   ]
  },
  {
   "cell_type": "code",
   "execution_count": 246,
   "id": "6e3b94d1",
   "metadata": {},
   "outputs": [],
   "source": [
    "# https://keras.io/api/models/model_saving_apis/weights_saving_and_loading/#saveweights-method\n",
    "model.save_weights(filepath       = f\"{dirpath}/{dt}_rna_classifier_model.weights.h5\"\n",
    "                ,  overwrite      = True\n",
    "                ,  max_shard_size = None)       # If not None, the weights will be saved in multiple shards of up to max_shard_size GB each."
   ]
  },
  {
   "cell_type": "markdown",
   "id": "ae23d393",
   "metadata": {},
   "source": [
    "### Almacenamiento de arquitectura"
   ]
  },
  {
   "cell_type": "code",
   "execution_count": 247,
   "id": "b3bed307",
   "metadata": {},
   "outputs": [],
   "source": [
    "with open(f\"{dirpath}/{dt}_rna_classifier_model_architecture.json\", \"w\") as json_file:\n",
    "    json_file.write(model.to_json())"
   ]
  },
  {
   "cell_type": "markdown",
   "id": "ad4860cb",
   "metadata": {},
   "source": [
    "# **Reporte**"
   ]
  },
  {
   "cell_type": "code",
   "execution_count": 274,
   "id": "ca35efe5",
   "metadata": {},
   "outputs": [
    {
     "name": "stdout",
     "output_type": "stream",
     "text": [
      "{'verbose': True, 'epochs': 100, 'steps': 84}\n",
      "<Sequential name=RNA_Type_Classifier, built=True>\n",
      "Max epoch: 24\n",
      "Metrics: ['accuracy', 'loss', 'val_accuracy', 'val_loss']\n"
     ]
    }
   ],
   "source": [
    "print(history.params)\n",
    "print(history.model)\n",
    "print(f\"Max epoch: {max(history.epoch)}\")\n",
    "print(f\"Metrics: {list(history.history.keys())}\")"
   ]
  },
  {
   "cell_type": "code",
   "execution_count": 287,
   "id": "2cf3a786",
   "metadata": {},
   "outputs": [],
   "source": [
    "report_dir = \"../../results/\"\n",
    "os.makedirs(report_dir, exist_ok=True)\n",
    "filepath = f\"{report_dir}/training_reports.tsv\"\n",
    "\n",
    "df_run = pd.DataFrame()\n",
    "df_run[\"timestamp\"]      = [dt]\n",
    "df_run[\"learning_rate\"]  = [alpha]\n",
    "df_run[\"batch_size\"]     = [batch_size]\n",
    "df_run[\"num_epochs\"]     = [num_epochs]\n",
    "df_run[\"stopped_epoch\"]  = [max(history.epoch)]\n",
    "df_run[\"num_params\"]     = [model.count_params()]\n",
    "df_run[\"early_stopping\"] = [\"Yes\" if early_stopping in callbacks else \"No\"]\n",
    "df_run[\"monitor\"]        = [monitor_metric if early_stopping in callbacks else \"N/A\"]\n",
    "df_run[\"min_delta\"]      = [min_delta]\n",
    "df_run[\"patience\"]       = [patience]\n",
    "\n",
    "for file_png in glob.glob(f\"{dirpath}/{dt}*.png\"):\n",
    "    a_metric = os.path.basename(file_png).split(\"_\")[-1].replace(\".png\", \"\")\n",
    "    df_run[f'link_{a_metric}_plot']  = [file_png]\n",
    "\n",
    "if os.path.exists(filepath):\n",
    "    # Append to existing file\n",
    "    df_run.to_csv(filepath, sep=\"\\t\", index=False, mode='a', header=False)\n",
    "else:\n",
    "    # Create new file\n",
    "    df_run.to_csv(filepath, sep=\"\\t\", index=False)\n"
   ]
  },
  {
   "cell_type": "markdown",
   "id": "7e6d93c3",
   "metadata": {},
   "source": [
    "# **Recupero del modelo**"
   ]
  },
  {
   "cell_type": "markdown",
   "id": "8b294300",
   "metadata": {},
   "source": [
    "### Recupero de arquitectura"
   ]
  },
  {
   "cell_type": "code",
   "execution_count": null,
   "id": "6271a862",
   "metadata": {},
   "outputs": [],
   "source": [
    "# Loads a model saved via model.save()\n",
    "# https://keras.io/api/models/model_saving_apis/model_saving_and_loading/#loadmodel-function\n",
    "# model = keras.saving.load_model(f\"{dirpath}/{dt}_rna_classifier_model.keras\")"
   ]
  },
  {
   "cell_type": "markdown",
   "id": "d93cfe66",
   "metadata": {},
   "source": [
    "### Recupero de pesos"
   ]
  },
  {
   "cell_type": "code",
   "execution_count": null,
   "id": "4d2c9577",
   "metadata": {},
   "outputs": [],
   "source": [
    "# https://keras.io/api/models/model_saving_apis/weights_saving_and_loading/#load_weights-method\n",
    "# NOte: Sharding\n",
    "# When loading sharded weights, it is important to specify filepath that ends with *.weights.json\n",
    "# which is used as the configuration file. Additionally, the sharded files *_xxxxx.weights.h5 must\n",
    "# be in the same directory as the configuration file.\n",
    "\n",
    "# Model.load_weights(filepath      = f\"{dirpath}/{dt}_rna_classifier_model.weights.h5\"\n",
    "#                 ,  skip_mismatch = False )"
   ]
  }
 ],
 "metadata": {
  "kernelspec": {
   "display_name": ".venv",
   "language": "python",
   "name": "python3"
  },
  "language_info": {
   "codemirror_mode": {
    "name": "ipython",
    "version": 3
   },
   "file_extension": ".py",
   "mimetype": "text/x-python",
   "name": "python",
   "nbconvert_exporter": "python",
   "pygments_lexer": "ipython3",
   "version": "3.12.11"
  }
 },
 "nbformat": 4,
 "nbformat_minor": 5
}
